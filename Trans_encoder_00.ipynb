{
 "cells": [
  {
   "cell_type": "code",
   "execution_count": 1,
   "id": "86b28c3c-b570-41e1-b1b5-c84372cda8b9",
   "metadata": {},
   "outputs": [],
   "source": [
    "# import pandas as pd\n",
    "# import numpy as np\n",
    "# #import random\n",
    "\n",
    "# from sklearn.model_selection import train_test_split\n",
    "# from sklearn import preprocessing\n",
    "# from sklearn.metrics import confusion_matrix, accuracy_score, ConfusionMatrixDisplay\n",
    "\n",
    "# import matplotlib.pyplot as plt\n",
    "\n",
    "# import torch\n",
    "# import torch.nn as nn\n",
    "# import torch.nn.functional as F\n",
    "# from torch.utils.data import TensorDataset, DataLoader\n",
    "\n",
    "# from einops import rearrange\n",
    "\n",
    "# from time import sleep\n",
    "# import sys"
   ]
  },
  {
   "cell_type": "code",
   "execution_count": 2,
   "id": "7912bd76-4a05-41ed-a095-85c9c282750d",
   "metadata": {},
   "outputs": [],
   "source": [
    "from collections import Counter\n",
    "from collections import defaultdict\n",
    "\n",
    "#import json\n",
    "\n",
    "from einops import rearrange\n",
    "import numpy as np\n",
    "\n",
    "import matplotlib.pyplot as plt\n",
    "\n",
    "import torch\n",
    "import torch.nn as nn\n",
    "from torch.utils.data import Dataset\n",
    "import torch.utils.data\n",
    "import torch.nn.functional as F\n",
    "\n",
    "import math\n",
    "import random\n",
    "import time\n",
    "import sys\n",
    "import glob\n",
    "import re"
   ]
  },
  {
   "cell_type": "code",
   "execution_count": 3,
   "id": "217c3dc5-4988-478b-82f3-680496b98ff7",
   "metadata": {},
   "outputs": [
    {
     "data": {
      "text/plain": [
       "device(type='cuda')"
      ]
     },
     "execution_count": 3,
     "metadata": {},
     "output_type": "execute_result"
    }
   ],
   "source": [
    "device = torch.device('cuda' if torch.cuda.is_available() else 'cpu')\n",
    "device"
   ]
  },
  {
   "cell_type": "markdown",
   "id": "7ba2e554-d1c9-448b-a30a-a6bef59b8972",
   "metadata": {
    "tags": []
   },
   "source": [
    "# Helpers"
   ]
  },
  {
   "cell_type": "markdown",
   "id": "33462758-895b-4388-8851-95ace833a9aa",
   "metadata": {},
   "source": [
    "## functions"
   ]
  },
  {
   "cell_type": "code",
   "execution_count": 4,
   "id": "a010c7f7-c8f7-43df-a379-762674f10c31",
   "metadata": {},
   "outputs": [],
   "source": [
    "def create_char_dict():\n",
    "    i = 0\n",
    "    char_to_num = {}\n",
    "    num_to_char = {}\n",
    "    for c in range(48,58):\n",
    "        i += 1\n",
    "        num = (i + 4) / 44\n",
    "        char = chr(c)\n",
    "        char_to_num[char] = num\n",
    "        num_to_char[num] = char\n",
    "    for c in range(97, 123):\n",
    "        i += 1\n",
    "        num = (i + 4) / 44\n",
    "        char = chr(c)\n",
    "        char_to_num[char] = num\n",
    "        num_to_char[i] = char\n",
    "    return char_to_num, num_to_char\n",
    "\n",
    "def nums_to_word(word, num_to_char):\n",
    "    word_out = ''\n",
    "    for w in word:\n",
    "        letter = round(w * 44 - 4)\n",
    "        word_out += num_to_char.get(letter, '')\n",
    "    return word_out"
   ]
  },
  {
   "cell_type": "code",
   "execution_count": 5,
   "id": "e9be929c-9192-4c4b-a7d5-93f25d6259ac",
   "metadata": {},
   "outputs": [],
   "source": [
    "def remove_punc(line):\n",
    "    pattern = re.compile('[^a-zA-Z0-9 ]+') \n",
    "    no_punct = pattern.sub('', line.strip())\n",
    "    return no_punct.lower()\n",
    "\n",
    "def get_data_from_file(file_name, word_length, char_to_num):\n",
    "    words = []\n",
    "    with open(file_name, 'r') as f:\n",
    "        for line in f:\n",
    "            l = remove_punc(line)\n",
    "            words.extend(l.split())\n",
    "    data = []\n",
    "    it = iter(words)\n",
    "    while True:\n",
    "        try:\n",
    "            word = next(it)\n",
    "        except StopIteration:\n",
    "            break\n",
    "        w = torch.zeros(word_length)\n",
    "        for i, char in enumerate(word[:word_length]):\n",
    "            w[i] = char_to_num[char]\n",
    "        data.append(w)\n",
    "    return torch.stack(data)\n",
    "\n",
    "def get_data_from_line(line, word_length, char_to_num):\n",
    "    words = remove_punc(line).split()\n",
    "    data = []\n",
    "    it = iter(words)\n",
    "    while True:\n",
    "        try:\n",
    "            word = next(it)\n",
    "        except StopIteration:\n",
    "            break\n",
    "        w = torch.zeros(word_length)\n",
    "        for i, char in enumerate(word[:word_length]):\n",
    "            w[i] = char_to_num[char]\n",
    "        data.append(w)\n",
    "    return torch.stack(data)\n",
    "\n",
    "def data_to_line(line, num_to_char):\n",
    "    line_out = ''\n",
    "    for word in line:\n",
    "        word_out = nums_to_word(word, num_to_char)\n",
    "        line_out = line_out + word_out + ' '\n",
    "    return line_out"
   ]
  },
  {
   "cell_type": "code",
   "execution_count": 6,
   "id": "b8d79a25-7206-44ad-bcf7-8371d1758ad2",
   "metadata": {},
   "outputs": [],
   "source": [
    "def set_dropout(model, drop_rate):\n",
    "    for name, child in model.named_children():\n",
    "        if isinstance(child, torch.nn.Dropout):\n",
    "            child.p = drop_rate\n",
    "        set_dropout(child, drop_rate = drop_rate)"
   ]
  },
  {
   "cell_type": "code",
   "execution_count": 7,
   "id": "d824b003-3ab2-49e6-8c83-5dc949d7c75e",
   "metadata": {},
   "outputs": [],
   "source": [
    "def plot_loss(loss):\n",
    "    plt.plot(loss)\n",
    "    plt.xlabel('epochs', fontsize=20)\n",
    "    plt.ylabel('loss', fontsize=20)\n",
    "    plt.show()"
   ]
  },
  {
   "cell_type": "code",
   "execution_count": null,
   "id": "2d676c67-13f5-47d5-92af-4f7950d7c1ab",
   "metadata": {},
   "outputs": [],
   "source": []
  },
  {
   "cell_type": "code",
   "execution_count": null,
   "id": "f003c194-174b-4780-baab-505cb0eea01d",
   "metadata": {},
   "outputs": [],
   "source": []
  },
  {
   "cell_type": "markdown",
   "id": "6cb63071-8840-49a8-a562-58bdacd2a882",
   "metadata": {
    "tags": []
   },
   "source": [
    "# Models"
   ]
  },
  {
   "cell_type": "markdown",
   "id": "2d19cf19-13a4-4fc1-a4f3-36abc98da677",
   "metadata": {},
   "source": [
    "## embedding"
   ]
  },
  {
   "cell_type": "code",
   "execution_count": 8,
   "id": "86555220-1e59-45de-bf72-b567637e1704",
   "metadata": {},
   "outputs": [],
   "source": [
    "class Conv1d_layer(nn.Module):\n",
    "    def __init__(self, ch_in, ch_out, word_length, ker = 3, padding = 1):\n",
    "        super().__init__()\n",
    "        self.conv = nn.Conv1d(ch_in, ch_out, ker, padding = padding)\n",
    "        self.ln = nn.LayerNorm(word_length)\n",
    "    \n",
    "    def forward(self, x):\n",
    "        x = self.conv(x)\n",
    "        x = self.ln(x)\n",
    "        x = F.relu(x)\n",
    "        return x"
   ]
  },
  {
   "cell_type": "code",
   "execution_count": 9,
   "id": "6e945852-83b0-4eef-8a0e-0f34681a130a",
   "metadata": {},
   "outputs": [],
   "source": [
    "class Embedder(nn.Module):\n",
    "    def __init__(self, word_length, emb_layers, d_emb, emb_drop, seq_length):\n",
    "        super().__init__()\n",
    "        \n",
    "        net = []\n",
    "        for i in range(len(emb_layers) - 1):\n",
    "            net.append(Conv1d_layer(emb_layers[i], emb_layers[i + 1], word_length))\n",
    "        self.net = nn.Sequential(*net)\n",
    "        self.net.apply(self.init_weights)\n",
    "        \n",
    "        self.out = nn.Linear(word_length * emb_layers[-1], d_emb)   \n",
    "        \n",
    "        self.d_emb = d_emb\n",
    "        self.sr_d_emb = np.sqrt(d_emb)\n",
    "        self.dropout = nn.Dropout(emb_drop)\n",
    "        self.seq_length = seq_length\n",
    "        self.pos_encode()\n",
    "        \n",
    "    def init_weights(self, m):\n",
    "        if isinstance(m, nn.Conv1d):\n",
    "            nn.init.kaiming_uniform_(m.weight, mode='fan_in', nonlinearity='relu')\n",
    "        \n",
    "    def pos_encode(self):\n",
    "        self.pe = torch.zeros(self.seq_length, self.d_emb)\n",
    "        pos = torch.arange(0, self.seq_length)\n",
    "        ii = torch.arange(0, self.d_emb, 2)\n",
    "        div_term = torch.exp(ii * -np.log(10000) / self.d_emb)\n",
    "        matrix = torch.einsum('i,j->ij', pos, div_term)\n",
    "        self.pe[:, 0::2] = torch.sin(matrix)\n",
    "        self.pe[:, 1::2] = torch.cos(matrix)\n",
    "        self.pe = self.pe.unsqueeze(0)\n",
    "        self.pe = self.pe.to(device)\n",
    "    \n",
    "    def forward(self, x):\n",
    "        seq = x.size(1)\n",
    "        x = rearrange(x, 'b s (i j) -> (b s) i j', i = 1)\n",
    "        # x = self.conv1(x)\n",
    "        # x = self.ln1(x)\n",
    "        # x = F.relu(x)\n",
    "        # x = self.conv2(x)\n",
    "        # x = self.ln2(x)\n",
    "        # x = F.relu(x)\n",
    "        # x = self.conv3(x)\n",
    "        x = self.net(x)\n",
    "        #x = rearrange(x, '(b s) i j -> b s (i j)', s = self.seq_length)\n",
    "        x = rearrange(x, '(b s) i j -> b s (i j)', s = seq)\n",
    "        x = self.out(x)\n",
    "        \n",
    "        # make embeddings relatively larger\n",
    "        x = x * self.sr_d_emb\n",
    "        #add constant to embedding\n",
    "        x = x + self.pe[:, :x.size(1)]\n",
    "        x = self.dropout(x)\n",
    "        return x"
   ]
  },
  {
   "cell_type": "code",
   "execution_count": null,
   "id": "946bc12b-880a-499a-97f2-3ae259f40ccb",
   "metadata": {},
   "outputs": [],
   "source": []
  },
  {
   "cell_type": "markdown",
   "id": "fa6d904a-41d6-44ff-936b-478c6b7d904c",
   "metadata": {
    "tags": []
   },
   "source": [
    "## transformer blocks"
   ]
  },
  {
   "cell_type": "markdown",
   "id": "df9f1e7e-a2be-4088-89ca-ce271ea637a5",
   "metadata": {},
   "source": [
    "### Multi Head Attention"
   ]
  },
  {
   "cell_type": "code",
   "execution_count": 10,
   "id": "49b8cee8-05ef-4996-9bc6-d06c3457e79c",
   "metadata": {},
   "outputs": [],
   "source": [
    "# def create_masks(question, reply_input, reply_target):\n",
    "    \n",
    "#     def subsequent_mask(size):\n",
    "#         mask = torch.triu(torch.ones(size, size)).transpose(0, 1).type(dtype=torch.uint8)\n",
    "#         return mask.unsqueeze(0)\n",
    "    \n",
    "#     question_mask = question!=0\n",
    "#     question_mask = question_mask.to(device)\n",
    "#     question_mask = question_mask.unsqueeze(1).unsqueeze(1)         # (batch_size, 1, 1, max_words)\n",
    "     \n",
    "#     reply_input_mask = reply_input!=0\n",
    "#     reply_input_mask = reply_input_mask.unsqueeze(1)  # (batch_size, 1, max_words)\n",
    "#     reply_input_mask = reply_input_mask & subsequent_mask(reply_input.size(-1)).type_as(reply_input_mask.data) \n",
    "#     reply_input_mask = reply_input_mask.unsqueeze(1) # (batch_size, 1, max_words, max_words)\n",
    "#     reply_target_mask = reply_target!=0              # (batch_size, max_words)\n",
    "    \n",
    "#     return question_mask, reply_input_mask, reply_target_mask"
   ]
  },
  {
   "cell_type": "code",
   "execution_count": 11,
   "id": "fc4f72ae-7975-4e15-ad0c-601abbf89826",
   "metadata": {},
   "outputs": [],
   "source": [
    "class Multi_Head_Attention(nn.Module):\n",
    "    def __init__(self, d_emb, hidden_dim, heads, decode = False, mask = False):\n",
    "        super().__init__()\n",
    "        self.h_dim = hidden_dim\n",
    "        self.heads = heads\n",
    "        self.dim_per_head = self.h_dim // self.heads\n",
    "        self.decode = decode\n",
    "        self.mask = mask\n",
    "        if self.decode:\n",
    "            self.q = nn.Linear(d_emb, self.h_dim, bias = False)\n",
    "            self.kv = nn.Linear(d_emb, self.h_dim * 2, bias = False)\n",
    "        else:\n",
    "            self.qkv = nn.Linear(d_emb, self.h_dim * 3, bias = False)\n",
    "        \n",
    "        \n",
    "        self.unifyheads = nn.Linear(self.h_dim, d_emb)\n",
    "    \n",
    "    def self_attention(self, q, k, v):\n",
    "        scores = torch.einsum('...ij,...kj->...ik', q, k) / np.sqrt(self.dim_per_head)\n",
    "        if self.mask:\n",
    "            d = scores.size(-1)\n",
    "            inds = torch.triu_indices(d, d, offset = 1)\n",
    "            scores[..., inds[0], inds[1]] = -float('inf')\n",
    "        #scores = scores.masked_fill(mask == 0, -1e9)\n",
    "        scores = F.softmax(scores, dim = -1)\n",
    "        return torch.einsum('...ij,...jk->...ik', scores, v)\n",
    "    \n",
    "    def forward(self, x, y = None):\n",
    "        if self.decode:\n",
    "            q = self.q(y)\n",
    "            kv = self.kv(x)\n",
    "            k = kv[..., :self.h_dim]\n",
    "            v = kv[..., self.h_dim:]\n",
    "        else:\n",
    "            qkv = self.qkv(x)\n",
    "            q = qkv[..., :self.h_dim]\n",
    "            k = qkv[..., self.h_dim:self.h_dim * 2]\n",
    "            v = qkv[..., self.h_dim * 2:]\n",
    "            \n",
    "        q = rearrange(q, '... i (h j) -> ... h i j', h = self.heads)\n",
    "        k = rearrange(k, '... i (h j) -> ... h i j', h = self.heads)\n",
    "        v = rearrange(v, '... i (h j) -> ... h i j', h = self.heads)\n",
    "                \n",
    "        scores = self.self_attention(q, k, v)\n",
    "        scores = rearrange(scores, '... h i j -> ... i (h j)').contiguous()\n",
    "        \n",
    "        # dims = *scores.size()[:-2], self.h_dim\n",
    "        # scores = torch.einsum('ijkl->ikjl').contiguous().view(dims)\n",
    "        \n",
    "        return self.unifyheads(scores)"
   ]
  },
  {
   "cell_type": "markdown",
   "id": "8cfbc86f-0524-4c80-b81a-03980897ceae",
   "metadata": {},
   "source": [
    "### Encoder"
   ]
  },
  {
   "cell_type": "code",
   "execution_count": 12,
   "id": "43de7337-c1ef-4e7d-84f5-9b91d59101a6",
   "metadata": {},
   "outputs": [],
   "source": [
    "class Encoder_layer(nn.Module):\n",
    "    def __init__(self, enc_drop, hidden_mult, d_emb, hidden_dim, heads):\n",
    "        super().__init__()\n",
    "        self.dropout = nn.Dropout(enc_drop)\n",
    "        \n",
    "        self.mha = Multi_Head_Attention(d_emb, hidden_dim, heads)\n",
    "        self.norm_1 = nn.LayerNorm(d_emb)\n",
    "        self.ff = nn.Sequential(\n",
    "            nn.Linear(d_emb, hidden_mult * d_emb),\n",
    "            nn.ReLU(),\n",
    "            nn.Linear(hidden_mult * d_emb, d_emb)\n",
    "        )\n",
    "        self.norm_2 = nn.LayerNorm(d_emb)\n",
    "        \n",
    "    def forward(self, x):\n",
    "        attended = self.mha(x)\n",
    "        x = attended + x\n",
    "        x = self.dropout(x)\n",
    "        x = self.norm_1(x)\n",
    "        fed_for = self.ff(x)\n",
    "        x = fed_for + x\n",
    "        x = self.dropout(x)\n",
    "        x = self.norm_2(x)\n",
    "        return x"
   ]
  },
  {
   "cell_type": "code",
   "execution_count": 13,
   "id": "9be0ff91-1e22-4378-9a64-523c517598c6",
   "metadata": {},
   "outputs": [],
   "source": [
    "class Encoder(nn.Module):\n",
    "    def __init__(self, enc_drop, hidden_mult, d_emb, hidden_dim, heads_order):\n",
    "        super().__init__()\n",
    "        layers = []\n",
    "        for heads in heads_order:\n",
    "            layers.append(Encoder_layer(enc_drop, hidden_mult, d_emb, hidden_dim, heads))\n",
    "        self.layers = nn.Sequential(*layers)\n",
    "                \n",
    "    def forward(self, x):\n",
    "        x = self.layers(x)\n",
    "        return x"
   ]
  },
  {
   "cell_type": "markdown",
   "id": "c2d75078-7be0-48cf-8259-4771b9908efe",
   "metadata": {},
   "source": [
    "### Decoder"
   ]
  },
  {
   "cell_type": "code",
   "execution_count": 14,
   "id": "85dc3c3b-91fd-4d8c-973b-0044cdb81cb0",
   "metadata": {},
   "outputs": [],
   "source": [
    "class Decoder_layer(nn.Module):\n",
    "    def __init__(self, dec_drop, hidden_mult, d_emb, hidden_dim, heads):\n",
    "        super().__init__()\n",
    "        self.dropout = nn.Dropout(dec_drop)\n",
    "        \n",
    "        self.mha_1 = Multi_Head_Attention(d_emb, hidden_dim, heads, mask = True)\n",
    "        self.norm_1 = nn.LayerNorm(d_emb)\n",
    "        self.mha_2 = Multi_Head_Attention(d_emb, hidden_dim, heads, decode = True)\n",
    "        self.norm_2 = nn.LayerNorm(d_emb)\n",
    "        self.ff = nn.Sequential(\n",
    "            nn.Linear(d_emb, hidden_mult * d_emb),\n",
    "            nn.ReLU(),\n",
    "            nn.Linear(hidden_mult * d_emb, d_emb)\n",
    "        )\n",
    "        self.norm_3 = nn.LayerNorm(d_emb)\n",
    "        \n",
    "    def forward(self, x, y):\n",
    "        attended = self.mha_1(y)\n",
    "        y = attended + y\n",
    "        y = self.dropout(y)\n",
    "        y = self.norm_1(y)\n",
    "        attended = self.mha_2(x, y)\n",
    "        y = attended + y\n",
    "        y = self.dropout(y)\n",
    "        y = self.norm_2(y)\n",
    "        fed_for = self.ff(y)\n",
    "        y = fed_for + y\n",
    "        y = self.dropout(y)\n",
    "        y = self.norm_3(y)\n",
    "        return y"
   ]
  },
  {
   "cell_type": "code",
   "execution_count": 15,
   "id": "fe255621-7143-433a-ba64-949cbcc07789",
   "metadata": {},
   "outputs": [],
   "source": [
    "class Decoder(nn.Module):\n",
    "    def __init__(self, dec_drop, hidden_mult, d_emb, hidden_dim, heads_order):\n",
    "        super().__init__()\n",
    "        layers = []\n",
    "        for heads in heads_order:\n",
    "            layers.append(Decoder_layer(dec_drop, hidden_mult, d_emb, hidden_dim, heads))\n",
    "        self.layers = nn.Sequential(*layers)\n",
    "                \n",
    "    def forward(self, x, y):\n",
    "        y = self.layers(x, y)\n",
    "        return y"
   ]
  },
  {
   "cell_type": "code",
   "execution_count": null,
   "id": "2b40e445-e62b-448a-988d-d4875f085628",
   "metadata": {},
   "outputs": [],
   "source": []
  },
  {
   "cell_type": "markdown",
   "id": "3dd123d5-9141-48f8-8a7b-650e5112fbd2",
   "metadata": {
    "tags": []
   },
   "source": [
    "## Transformer"
   ]
  },
  {
   "cell_type": "code",
   "execution_count": 16,
   "id": "c836fe78-7c0a-46f3-b422-45f9be00615a",
   "metadata": {},
   "outputs": [],
   "source": [
    "# new\n",
    "class Transformer(nn.Module):\n",
    "    def __init__(self, model_hp):\n",
    "        super().__init__()\n",
    "        self.epochs = 0\n",
    "        self.losses = []\n",
    "        dropouts, hidden_mult, hidden_dim, heads_order, d_emb, word_length, seq_length, emb_layers = model_hp\n",
    "        emb_drop, enc_drop, dec_drop = dropouts\n",
    "        \n",
    "        self.embedder = Embedder(word_length, emb_layers, d_emb, emb_drop, seq_length)\n",
    "        self.encoder = nn.ModuleList([Encoder_layer(enc_drop, hidden_mult, d_emb, \n",
    "                                                    hidden_dim, heads) for heads in heads_order])\n",
    "        self.decoder = nn.ModuleList([Decoder_layer(dec_drop, hidden_mult, d_emb, \n",
    "                                                    hidden_dim, heads) for heads in heads_order])\n",
    "        self.out = nn.Sequential(\n",
    "            nn.Linear(d_emb, d_emb * 2),\n",
    "            nn.ReLU(),\n",
    "            nn.Linear(d_emb * 2, d_emb),\n",
    "            nn.ReLU(),\n",
    "            nn.Linear(d_emb, word_length),\n",
    "            nn.Sigmoid())\n",
    "        \n",
    "    def encode(self, x):\n",
    "        x = self.embedder(x)\n",
    "        for enc in self.encoder:\n",
    "            x = enc(x)\n",
    "        return x\n",
    "    \n",
    "    def decode(self, x, y):\n",
    "        y = self.embedder(y)\n",
    "        for dec in self.decoder:\n",
    "            y = dec(x, y)\n",
    "        return y\n",
    "    \n",
    "    def forward(self, x, y):\n",
    "        encoded = self.encode(x)\n",
    "        decoded = self.decode(encoded, y)\n",
    "        out = self.out(decoded)\n",
    "        return out"
   ]
  },
  {
   "cell_type": "code",
   "execution_count": null,
   "id": "026fa16e-07ae-492e-98b7-a4ea9b611087",
   "metadata": {},
   "outputs": [],
   "source": []
  },
  {
   "cell_type": "code",
   "execution_count": 17,
   "id": "cff217f5-0aab-4e29-a826-6ddebc987f76",
   "metadata": {},
   "outputs": [],
   "source": [
    "class BERT_block(nn.Module):\n",
    "    def __init__(self, dropout, hidden_mult, d_emb, hidden_dim, heads):\n",
    "        super().__init__()\n",
    "        self.encoder = Encoder_layer(dropout, hidden_mult, d_emb, hidden_dim, heads)\n",
    "        self.norm = nn.LayerNorm(d_emb)\n",
    "        \n",
    "    def forward(self, x):\n",
    "        encoded = self.encoder(x)\n",
    "        x = self.norm(encoded + x)\n",
    "        return x"
   ]
  },
  {
   "cell_type": "code",
   "execution_count": 18,
   "id": "33bbbc93-9a73-49db-bc70-ccb3e8d3db4c",
   "metadata": {},
   "outputs": [],
   "source": [
    "class BERTush(nn.Module):\n",
    "    def __init__(self, dropout, hidden_mult, d_emb, hidden_dim, heads_order):\n",
    "        super().__init__()\n",
    "        dropout = nn.Dropout(dropout) if dropout else None\n",
    "        layers = []\n",
    "        for heads in heads_order:\n",
    "            layers.append(BERT_block(dropout, hidden_mult, d_emb, hidden_dim, heads))\n",
    "        self.layers = nn.Sequential(*layers)\n",
    "                \n",
    "    def forward(self, x):\n",
    "        x = self.layers(x)\n",
    "        return x"
   ]
  },
  {
   "cell_type": "code",
   "execution_count": null,
   "id": "a2d311be-6337-45f2-bab8-4a59ade1f1a7",
   "metadata": {},
   "outputs": [],
   "source": []
  },
  {
   "cell_type": "markdown",
   "id": "91267cd1-f3e7-4fc8-96ca-be07ddecac32",
   "metadata": {
    "tags": []
   },
   "source": [
    "# Training functions/classes"
   ]
  },
  {
   "cell_type": "markdown",
   "id": "5fda79e5-f536-46c1-afbf-040fc591f678",
   "metadata": {},
   "source": [
    "## optimizer"
   ]
  },
  {
   "cell_type": "code",
   "execution_count": 19,
   "id": "b5daeee4-b38a-4dda-b756-454c40219471",
   "metadata": {},
   "outputs": [],
   "source": [
    "class AdamWarmup:\n",
    "    def __init__(self, d_emb, warmup_steps, optimizer):\n",
    "        self.d_emb = d_emb\n",
    "        self.warmup_steps = warmup_steps\n",
    "        self.optimizer = optimizer\n",
    "        self.current_step = 0\n",
    "        self.lr = 0\n",
    "        \n",
    "    def get_lr(self):\n",
    "        return self.d_emb ** (-0.5) * min(self.current_step ** (-0.5), \n",
    "                                          self.current_step * self.warmup_steps ** (-1.5))\n",
    "        \n",
    "    def step(self):\n",
    "        # Increment the number of steps each time we call the step function\n",
    "        self.current_step += 1\n",
    "        lr = self.get_lr()\n",
    "        for param_group in self.optimizer.param_groups:\n",
    "            param_group['lr'] = lr\n",
    "        # update the learning rate\n",
    "        self.lr = lr\n",
    "        self.optimizer.step()"
   ]
  },
  {
   "cell_type": "markdown",
   "id": "58d05545-dd4b-48b6-9c72-13ec2772d715",
   "metadata": {},
   "source": [
    "## loss function"
   ]
  },
  {
   "cell_type": "code",
   "execution_count": 20,
   "id": "c2c4330f-c4bc-42e2-bd4e-baaeec984940",
   "metadata": {},
   "outputs": [],
   "source": [
    "class Loss_function(nn.Module):\n",
    "    def __init__(self):\n",
    "        super().__init__()\n",
    "        self.criterion = nn.MSELoss()\n",
    "        \n",
    "    def forward(self, prediction, target):\n",
    "        \"\"\"\n",
    "        prediction of shape: (batch_size, max_words, vocab_size)\n",
    "        target and mask of shape: (batch_size, max_words)\n",
    "        \"\"\"\n",
    "        prediction = rearrange(prediction, 'i j k -> (i j) k')   # (batch_size * seq_length, word)\n",
    "        target = rearrange(target, 'i j k -> (i j) k').contiguous()   # (batch_size * seq_length, word)\n",
    "        loss = self.criterion(prediction, target)    # (batch_size * seq_length, words)\n",
    "        return loss"
   ]
  },
  {
   "cell_type": "markdown",
   "id": "adb286cb-3077-458f-b099-6397e20cb904",
   "metadata": {},
   "source": [
    "## training function"
   ]
  },
  {
   "cell_type": "code",
   "execution_count": 21,
   "id": "ad330097-0724-4873-8d40-b0612f5a4026",
   "metadata": {},
   "outputs": [],
   "source": [
    "def train(model, texts, criterion, model_optimizer, train_hp):\n",
    "    epochs, batch_size, word_length, seq_length, char_to_num = train_hp\n",
    "    loss_train = []\n",
    "    start_time = time.time()\n",
    "    model.train()\n",
    "    \n",
    "    x = torch.empty((batch_size, seq_length, word_length), dtype = torch.float, device = device)\n",
    "    y_input = torch.empty((batch_size, seq_length, word_length), dtype = torch.float, device = device)\n",
    "    y_target = torch.empty((batch_size, seq_length, word_length), dtype = torch.float, device = device)\n",
    "    \n",
    "    for ep in range(epochs):\n",
    "        file_name = random.choice(texts)\n",
    "        data = get_data_from_file(file_name, word_length, char_to_num)\n",
    "        data_len = data.size(0) - batch_size - seq_length * 2 - 1\n",
    "        order = np.random.permutation(np.arange(0, data_len, seq_length))\n",
    "        or_length = order.shape[0]\n",
    "        loss_tempo = []\n",
    "        for i, batch in enumerate(order):\n",
    "            for word in range(batch_size):\n",
    "                start_ind = batch + word\n",
    "                middle_ind = start_ind + seq_length\n",
    "                end_ind = middle_ind + seq_length\n",
    "                x[word] = data[start_ind : middle_ind]\n",
    "                y_input[word] = data[middle_ind - 1 : end_ind - 1]\n",
    "                y_target[word] = data[middle_ind : end_ind]\n",
    "               \n",
    "            out = model(x, y_input)\n",
    "            loss = criterion(out, y_target)\n",
    "                        \n",
    "            model_optimizer.optimizer.zero_grad()\n",
    "            loss.backward()\n",
    "            model_optimizer.step()\n",
    "            \n",
    "            loss_t = loss.item()\n",
    "            loss_tempo.append(loss_t)\n",
    "            \n",
    "            if i % 100 == 0:\n",
    "                elapsed = time.time() - start_time\n",
    "                printout = '\\r[%-16s] %d%%, ' + time.strftime(\"%Hh%Mm%Ss\", time.gmtime(elapsed)) \\\n",
    "                            + ', epoch: %d/%d, total: %d, loss: %f'\n",
    "                \n",
    "                sys.stdout.write(printout % ('='*int(16*(i+1)/or_length), \n",
    "                                             (100*(i+1)/or_length), \n",
    "                                             ep+1, epochs, model.epochs, loss_t))\n",
    "                sys.stdout.flush()\n",
    "            \n",
    "            \n",
    "        ep_loss = np.mean(np.asarray(loss_tempo), axis=0)\n",
    "        loss_train.extend(loss_tempo)\n",
    "        model.losses.append(ep_loss)\n",
    "        model.epochs += 1\n",
    "    \n",
    "    sys.stdout.write('\\n')\n",
    "    return loss_train"
   ]
  },
  {
   "cell_type": "markdown",
   "id": "188a112e-a48f-4afe-ac59-7fe90d9d0b62",
   "metadata": {},
   "source": [
    "## evaluating function"
   ]
  },
  {
   "cell_type": "code",
   "execution_count": 22,
   "id": "35f66e44-99e8-45c6-935b-c538ba2c3ccc",
   "metadata": {},
   "outputs": [],
   "source": [
    "def evaluate(model, question, answer_len):\n",
    "    \"\"\"\n",
    "    Performs Greedy Decoding with a batch size of 1\n",
    "    \"\"\"\n",
    "    model.eval()\n",
    "    with torch.no_grad():\n",
    "        encoded = model.encode(question)\n",
    "        reply = question[:, -1, :].to(device).unsqueeze(0)\n",
    "        #print(question[:, -1, :])\n",
    "        #reply = torch.Tensor(reply).to(device)\n",
    "        for step in range(answer_len - 1):\n",
    "            dims = reply.size(-1)\n",
    "            reply_mask = torch.triu(torch.ones(dims, dims)).transpose(0, 1).type(dtype=torch.uint8)\n",
    "            reply_mask = reply_mask.to(device).unsqueeze(0).unsqueeze(0)\n",
    "            decoded = model.decode(encoded, reply)\n",
    "            #print(decoded.shape)\n",
    "            prediction = model.out(decoded[:, -1])\n",
    "            \n",
    "            reply = torch.cat((reply, prediction.unsqueeze(0)), dim = 1) \n",
    "    \n",
    "    reply = reply[0].tolist()\n",
    "    return reply"
   ]
  },
  {
   "cell_type": "code",
   "execution_count": null,
   "id": "9740278f-1daa-4638-8ca1-3fbe14444dd5",
   "metadata": {},
   "outputs": [],
   "source": []
  },
  {
   "cell_type": "markdown",
   "id": "af4c1a4f-2a2e-4bf6-a90c-f58b0cee6ac7",
   "metadata": {},
   "source": [
    "# Create the model"
   ]
  },
  {
   "cell_type": "code",
   "execution_count": 23,
   "id": "f556e599-e4fb-4e0e-bb70-403459e88a5c",
   "metadata": {},
   "outputs": [],
   "source": [
    "dropouts = [0, 0, 0]\n",
    "hidden_mult = 2\n",
    "hidden_dim = 128\n",
    "heads_order = [32, 32, 16, 16, 8]\n",
    "d_emb = 256\n",
    "\n",
    "word_length = 16\n",
    "seq_length = 32\n",
    "emb_layers = [1, 8, 16, 32]"
   ]
  },
  {
   "cell_type": "code",
   "execution_count": 24,
   "id": "c49066a5-5554-4ad5-88c7-8a321cb9f6d2",
   "metadata": {},
   "outputs": [],
   "source": [
    "#model_hp = dropouts, hidden_mult, hidden_dim, heads_order, d_emb, word_length, seq_length, emb_layers"
   ]
  },
  {
   "cell_type": "code",
   "execution_count": 25,
   "id": "9324fa49-16f9-477a-b03f-1f69554f7dec",
   "metadata": {},
   "outputs": [],
   "source": [
    "flag_load = False\n",
    "model_name = 'trans_01_220525'"
   ]
  },
  {
   "cell_type": "code",
   "execution_count": 26,
   "id": "f7cb25c1-4347-4b77-8ea0-9f7f6e3262f5",
   "metadata": {},
   "outputs": [],
   "source": [
    "if flag_load:\n",
    "    state = torch.load(model_name + '.pth')\n",
    "    model = state['model']\n",
    "    model_optimizer = state['model_optimizer']\n",
    "    criterion = state['criterion']\n",
    "else:\n",
    "    model_hp = dropouts, hidden_mult, hidden_dim, heads_order, d_emb, word_length, seq_length, emb_layers\n",
    "    model = Transformer(model_hp)\n",
    "    if torch.cuda.is_available():\n",
    "        model.cuda()\n",
    "    l2 = 0.0\n",
    "    learning_rate = 0\n",
    "    warmup_steps = 4000\n",
    "    #optimizer = torch.optim.Adam(model.parameters(), lr=learning_rate)\n",
    "    optimizer = torch.optim.AdamW(model.parameters(), lr=learning_rate, weight_decay=l2, amsgrad=False)\n",
    "    model_optimizer = AdamWarmup(d_emb, warmup_steps, optimizer)\n",
    "    criterion = Loss_function()"
   ]
  },
  {
   "cell_type": "code",
   "execution_count": 27,
   "id": "dc013db2-d48c-4391-a315-84ea73b70beb",
   "metadata": {},
   "outputs": [
    {
     "name": "stdout",
     "output_type": "stream",
     "text": [
      "num of parameters: 5012288\n"
     ]
    }
   ],
   "source": [
    "print('num of parameters:', sum(p.numel() for p in model.parameters() if p.requires_grad))"
   ]
  },
  {
   "cell_type": "markdown",
   "id": "2f8cd73e-f614-49cb-b9c9-329da6f71ff0",
   "metadata": {
    "tags": []
   },
   "source": [
    "# Running"
   ]
  },
  {
   "cell_type": "markdown",
   "id": "80c64477-22f8-46de-90a2-3c1e64addb1c",
   "metadata": {
    "tags": []
   },
   "source": [
    "## Load the data"
   ]
  },
  {
   "cell_type": "code",
   "execution_count": 28,
   "id": "c3344c99-bfac-4d43-b7f2-75a5937d01fc",
   "metadata": {},
   "outputs": [],
   "source": [
    "my_path = 'data/wiki/'"
   ]
  },
  {
   "cell_type": "code",
   "execution_count": 29,
   "id": "934c12e3-fbeb-4419-9d99-3be20e77cfa6",
   "metadata": {},
   "outputs": [],
   "source": [
    "texts = glob.glob(my_path + 'parts/*.txt')"
   ]
  },
  {
   "cell_type": "code",
   "execution_count": 30,
   "id": "a4d74cde-9120-4ed3-8558-71fc3433844c",
   "metadata": {},
   "outputs": [],
   "source": [
    "char_to_num, num_to_char = create_char_dict()"
   ]
  },
  {
   "cell_type": "code",
   "execution_count": null,
   "id": "8b069d93-a15d-4076-a6fc-1799987efb67",
   "metadata": {},
   "outputs": [],
   "source": []
  },
  {
   "cell_type": "markdown",
   "id": "5db23a5b-6549-45b3-be7c-2968d8d0fe7c",
   "metadata": {},
   "source": [
    "## Train"
   ]
  },
  {
   "cell_type": "code",
   "execution_count": 31,
   "id": "81abfe26-4cea-459a-91a3-ccc588fe96e4",
   "metadata": {},
   "outputs": [],
   "source": [
    "epochs = 2\n",
    "batch_size = 64\n",
    "\n",
    "train_hp = epochs, batch_size, word_length, seq_length, char_to_num"
   ]
  },
  {
   "cell_type": "code",
   "execution_count": 32,
   "id": "3a15c809-02b3-4b9d-a752-ad9660cb790a",
   "metadata": {},
   "outputs": [
    {
     "name": "stdout",
     "output_type": "stream",
     "text": [
      "[=============== ] 99%, 08h28m48s, epoch: 2/2, total: 1, loss: 0.037572\n",
      "CPU times: user 7h 50min 13s, sys: 38min 40s, total: 8h 28min 54s\n",
      "Wall time: 8h 29min 14s\n"
     ]
    }
   ],
   "source": [
    "%%time\n",
    "loss_train = train(model, texts, criterion, model_optimizer, train_hp)"
   ]
  },
  {
   "cell_type": "code",
   "execution_count": 33,
   "id": "0cf969be-0f71-4e70-a3d6-a4194740670b",
   "metadata": {},
   "outputs": [],
   "source": [
    "flag_save = True"
   ]
  },
  {
   "cell_type": "code",
   "execution_count": 34,
   "id": "8bca5f0f-eaf0-4587-9e0e-f3935726cb51",
   "metadata": {},
   "outputs": [],
   "source": [
    "if flag_save:\n",
    "    state = {'model': model, 'model_optimizer': model_optimizer, 'criterion': criterion}\n",
    "    torch.save(state, model_name + '.pth')"
   ]
  },
  {
   "cell_type": "code",
   "execution_count": 35,
   "id": "b4237485-a950-4d9a-a138-036a6a05f9cf",
   "metadata": {},
   "outputs": [
    {
     "name": "stdout",
     "output_type": "stream",
     "text": [
      "total epochs 2\n"
     ]
    },
    {
     "data": {
      "image/png": "[encoded data removed]",
      "text/plain": [
       "<Figure size 432x288 with 1 Axes>"
      ]
     },
     "metadata": {
      "needs_background": "light"
     },
     "output_type": "display_data"
    },
    {
     "data": {
      "image/png": "[encoded data removed]",
      "text/plain": [
       "<Figure size 432x288 with 1 Axes>"
      ]
     },
     "metadata": {
      "needs_background": "light"
     },
     "output_type": "display_data"
    }
   ],
   "source": [
    "print('total epochs', model.epochs)\n",
    "plot_loss(loss_train)\n",
    "plot_loss(model.losses)"
   ]
  },
  {
   "cell_type": "code",
   "execution_count": null,
   "id": "a615ea20-8e54-4e26-9763-94a467f9f242",
   "metadata": {},
   "outputs": [],
   "source": []
  },
  {
   "cell_type": "markdown",
   "id": "f29d07d3-c0f5-460d-bc7f-0d7fcda1faf1",
   "metadata": {},
   "source": [
    "## Evaluate"
   ]
  },
  {
   "cell_type": "code",
   "execution_count": null,
   "id": "81a7ffa9-07bc-4738-8231-77ea8b7a1f24",
   "metadata": {},
   "outputs": [
    {
     "name": "stdin",
     "output_type": "stream",
     "text": [
      "Question:  Where\n"
     ]
    },
    {
     "name": "stdout",
     "output_type": "stream",
     "text": [
      "where kjfb kjfb kjfb kjfb kjfb kjfb kjfb kjfb kjfb \n"
     ]
    },
    {
     "name": "stdin",
     "output_type": "stream",
     "text": [
      "Question:  no\n"
     ]
    },
    {
     "name": "stdout",
     "output_type": "stream",
     "text": [
      "no kjfb kjfb kjfb kjfb kjfb kjfb kjfb kjfb kjfb \n"
     ]
    },
    {
     "name": "stdin",
     "output_type": "stream",
     "text": [
      "Question:  hi\n"
     ]
    },
    {
     "name": "stdout",
     "output_type": "stream",
     "text": [
      "hi kjfb kjfb kjfb kjfb kjfb kjfb kjfb kjfb kjfb \n"
     ]
    }
   ],
   "source": [
    "answer_len = 10\n",
    "while(1):\n",
    "    question = input(\"Question: \") \n",
    "    if question == 'quit':\n",
    "        break\n",
    "    #answer_len = input(\"Maximum Reply Length: \")\n",
    "    #question = remove_punc(question.strip()).split()[:max_len - 1]\n",
    "    #question = encode_question(question, word_map, max_len)\n",
    "    #question = torch.LongTensor(question).to(device).unsqueeze(0)\n",
    "    question = get_data_from_line(question, word_length, char_to_num)\n",
    "    question = torch.Tensor(question).to(device).unsqueeze(0)\n",
    "    reply = evaluate(model, question, answer_len)\n",
    "    sentence = data_to_line(reply, num_to_char)\n",
    "    print(sentence)"
   ]
  },
  {
   "cell_type": "code",
   "execution_count": 53,
   "id": "66e8bab6-ba49-4908-a574-56418521a8ff",
   "metadata": {},
   "outputs": [
    {
     "data": {
      "text/plain": [
       "torch.Size([1, 1, 16])"
      ]
     },
     "execution_count": 53,
     "metadata": {},
     "output_type": "execute_result"
    }
   ],
   "source": [
    "question.shape"
   ]
  },
  {
   "cell_type": "code",
   "execution_count": null,
   "id": "a35a50a5-1a21-4c6e-a909-f0e7c4812987",
   "metadata": {},
   "outputs": [],
   "source": []
  },
  {
   "cell_type": "markdown",
   "id": "7ce0fd7a-d474-456b-af82-4e5fe72983fc",
   "metadata": {},
   "source": [
    "# Works"
   ]
  },
  {
   "cell_type": "code",
   "execution_count": 283,
   "id": "3b00947c-57bb-4a5a-9057-36ecbb4c5f83",
   "metadata": {},
   "outputs": [],
   "source": [
    "texts = glob.glob(my_path + 'parts/*.txt')"
   ]
  },
  {
   "cell_type": "code",
   "execution_count": 284,
   "id": "b7e8f76e-0ba8-4073-9c97-edacedab65a4",
   "metadata": {},
   "outputs": [],
   "source": [
    "char_to_num, num_to_char = create_char_dict()"
   ]
  },
  {
   "cell_type": "code",
   "execution_count": 299,
   "id": "dc3e19d9-43d6-402d-9812-bef39a8d435e",
   "metadata": {},
   "outputs": [],
   "source": [
    "word_length = 16\n",
    "seq_length = 32\n",
    "batch_size = 64\n",
    "layers = [1, 8, 16, 32]\n",
    "d_emb = 256\n",
    "dropout = 0"
   ]
  },
  {
   "cell_type": "code",
   "execution_count": 38,
   "id": "0c1be940-d5a2-4fc6-8bce-85428ee14610",
   "metadata": {},
   "outputs": [],
   "source": [
    "file_name = random.choice(texts)\n",
    "data = get_data_from_file(file_name, word_length, char_to_num)"
   ]
  },
  {
   "cell_type": "code",
   "execution_count": 39,
   "id": "100326b7-2b71-469e-923f-940e4944c2bd",
   "metadata": {},
   "outputs": [
    {
     "data": {
      "text/plain": [
       "(1976683, 16)"
      ]
     },
     "execution_count": 39,
     "metadata": {},
     "output_type": "execute_result"
    }
   ],
   "source": [
    "data.shape"
   ]
  },
  {
   "cell_type": "code",
   "execution_count": 76,
   "id": "b7607a0a-e7b3-4443-ab01-f3ce757a5b3c",
   "metadata": {},
   "outputs": [],
   "source": [
    "#data_len = len(data) - batch_size - seq_length\n",
    "batch = 0\n",
    "x = []\n",
    "y_input = []\n",
    "y_target = []\n",
    "for word in range(batch_size):\n",
    "    start_ind = batch + word\n",
    "    middle_ind = start_ind + seq_length\n",
    "    end_ind = middle_ind + seq_length\n",
    "    x.append(data[start_ind : middle_ind])\n",
    "    y_input.append(data[middle_ind - 1 : end_ind - 1])\n",
    "    y_target.append(data[middle_ind : end_ind])"
   ]
  },
  {
   "cell_type": "code",
   "execution_count": 77,
   "id": "99f97eee-8cf6-4040-93bf-4c86a7f1cd9c",
   "metadata": {},
   "outputs": [],
   "source": [
    "x = torch.as_tensor(x)#.to(device)\n",
    "y_input = torch.as_tensor(y_input)#.to(device)\n",
    "y_target = torch.as_tensor(y_target)#.to(device)"
   ]
  },
  {
   "cell_type": "code",
   "execution_count": 78,
   "id": "7af78495-185e-4c57-9d17-9e5780b182c7",
   "metadata": {},
   "outputs": [
    {
     "data": {
      "text/plain": [
       "torch.Size([64, 32, 16])"
      ]
     },
     "execution_count": 78,
     "metadata": {},
     "output_type": "execute_result"
    }
   ],
   "source": [
    "x.shape"
   ]
  },
  {
   "cell_type": "code",
   "execution_count": 81,
   "id": "290cb460-e970-4362-8f6c-40cc7418d63d",
   "metadata": {},
   "outputs": [],
   "source": [
    "embedd = Embedder(word_length, emb_layers, d_emb, 0, seq_length)"
   ]
  },
  {
   "cell_type": "code",
   "execution_count": 82,
   "id": "9cfc6186-4f32-476d-b66d-bf156867e25b",
   "metadata": {},
   "outputs": [],
   "source": [
    "line = 'hi how'\n",
    "ques = get_data_from_line(line, word_length, char_to_num)\n",
    "ques = torch.Tensor(ques).unsqueeze(0)"
   ]
  },
  {
   "cell_type": "code",
   "execution_count": 83,
   "id": "eaaf3110-4f29-406d-94c8-0b162e1b2c4e",
   "metadata": {},
   "outputs": [
    {
     "data": {
      "text/plain": [
       "torch.Size([1, 2, 16])"
      ]
     },
     "execution_count": 83,
     "metadata": {},
     "output_type": "execute_result"
    }
   ],
   "source": [
    "ques.shape"
   ]
  },
  {
   "cell_type": "code",
   "execution_count": 84,
   "id": "b18968ab-cbc8-4e1b-8781-6baf945d29db",
   "metadata": {},
   "outputs": [
    {
     "name": "stdout",
     "output_type": "stream",
     "text": [
      "torch.Size([2, 1, 16])\n",
      "torch.Size([2, 32, 16])\n"
     ]
    }
   ],
   "source": [
    "x_out = embedd(ques.float())"
   ]
  },
  {
   "cell_type": "code",
   "execution_count": 85,
   "id": "3422bc52-f8f9-4263-af64-0ecf8739f90f",
   "metadata": {},
   "outputs": [
    {
     "data": {
      "text/plain": [
       "torch.Size([1, 2, 256])"
      ]
     },
     "execution_count": 85,
     "metadata": {},
     "output_type": "execute_result"
    }
   ],
   "source": [
    "x_out.shape"
   ]
  },
  {
   "cell_type": "code",
   "execution_count": null,
   "id": "638c43df-d49d-4409-a1d9-aa2bafb12533",
   "metadata": {},
   "outputs": [],
   "source": [
    "model.eval()\n",
    "with torch.no_grad():\n",
    "    encoded = model.encode(question)\n",
    "    reply = [question[:, -1, :]]# + [word_map['<pad>']] * 31]\n",
    "    reply = torch.Tensor(reply).to(device)\n",
    "    for step in range(3):\n",
    "        dims = reply.size(-1)\n",
    "        reply_mask = torch.triu(torch.ones(dims, dims)).transpose(0, 1).type(dtype=torch.uint8)\n",
    "        reply_mask = reply_mask.to(device).unsqueeze(0).unsqueeze(0)\n",
    "        decoded = model.decode(encoded, reply)\n",
    "        #print(decoded.shape)\n",
    "        predictions = model.out(decoded[:, -1])\n",
    "        out = model.out_1(decoded)\n",
    "        out = F.relu(out)\n",
    "        out = model.out_2(out)\n",
    "        out = F.sigmoid(out)\n",
    "        out = out.item()\n",
    "\n",
    "        reply = torch.cat([reply, torch.Tensor([[out]]).to(device)], dim = 1) \n"
   ]
  },
  {
   "cell_type": "code",
   "execution_count": null,
   "id": "5e202a91-db6c-44d0-a671-13600975b8de",
   "metadata": {},
   "outputs": [],
   "source": []
  },
  {
   "cell_type": "code",
   "execution_count": 79,
   "id": "e2937bd7-071e-4148-8ef5-aefd5780c4f8",
   "metadata": {},
   "outputs": [
    {
     "name": "stdout",
     "output_type": "stream",
     "text": [
      "torch.Size([2048, 1, 16])\n",
      "torch.Size([2048, 32, 16])\n"
     ]
    }
   ],
   "source": [
    "x_out = embedd(x.float())"
   ]
  },
  {
   "cell_type": "code",
   "execution_count": 308,
   "id": "f711259b-b0cc-4710-8e2e-3ac608a14d2d",
   "metadata": {},
   "outputs": [
    {
     "data": {
      "text/plain": [
       "torch.Size([64, 32, 256])"
      ]
     },
     "execution_count": 308,
     "metadata": {},
     "output_type": "execute_result"
    }
   ],
   "source": [
    "x_out.shape"
   ]
  },
  {
   "cell_type": "code",
   "execution_count": 60,
   "id": "9bc6bdb7-fc84-43d2-8455-c33393bdc65c",
   "metadata": {},
   "outputs": [],
   "source": []
  },
  {
   "cell_type": "code",
   "execution_count": 61,
   "id": "21c96c58-bb72-48d6-95ef-4f841b6ab69d",
   "metadata": {},
   "outputs": [
    {
     "data": {
      "text/plain": [
       "torch.Size([1, 2, 16])"
      ]
     },
     "execution_count": 61,
     "metadata": {},
     "output_type": "execute_result"
    }
   ],
   "source": []
  },
  {
   "cell_type": "code",
   "execution_count": null,
   "id": "0cace834-d05d-4932-8fa6-d5becb0135f7",
   "metadata": {},
   "outputs": [],
   "source": []
  },
  {
   "cell_type": "code",
   "execution_count": null,
   "id": "b9604310-7806-48dc-922a-da0119f7d6d1",
   "metadata": {},
   "outputs": [],
   "source": []
  },
  {
   "cell_type": "code",
   "execution_count": null,
   "id": "4b073df6-3469-4d72-b1a2-4c86ca08ae90",
   "metadata": {},
   "outputs": [],
   "source": []
  },
  {
   "cell_type": "code",
   "execution_count": 305,
   "id": "01a88692-cd9a-4095-b44f-bc0b7009eaea",
   "metadata": {},
   "outputs": [],
   "source": []
  },
  {
   "cell_type": "code",
   "execution_count": null,
   "id": "f7d32d41-e8af-43cf-8ffe-9e72124e6ee7",
   "metadata": {},
   "outputs": [],
   "source": []
  },
  {
   "cell_type": "code",
   "execution_count": null,
   "id": "e97babe4-5bfc-475b-b692-57a4b297b6c7",
   "metadata": {},
   "outputs": [],
   "source": []
  },
  {
   "cell_type": "code",
   "execution_count": null,
   "id": "ff7ad26c-74e1-428e-9870-ebd2e2750035",
   "metadata": {},
   "outputs": [],
   "source": []
  },
  {
   "cell_type": "code",
   "execution_count": null,
   "id": "55f0e1af-a154-45c8-96b2-41c6b56ca449",
   "metadata": {},
   "outputs": [],
   "source": []
  },
  {
   "cell_type": "code",
   "execution_count": null,
   "id": "e7ea91da-0cd1-4ee1-9080-5ba2f95c53ed",
   "metadata": {},
   "outputs": [],
   "source": []
  },
  {
   "cell_type": "code",
   "execution_count": null,
   "id": "06273110-8bf7-41a5-99e7-88e7c20069c3",
   "metadata": {},
   "outputs": [],
   "source": []
  },
  {
   "cell_type": "code",
   "execution_count": null,
   "id": "2bb6e4c2-002e-477f-b121-45d54d4316ca",
   "metadata": {},
   "outputs": [],
   "source": []
  },
  {
   "cell_type": "code",
   "execution_count": null,
   "id": "09234e08-3407-4d4e-806d-4dcf310f0c9c",
   "metadata": {},
   "outputs": [],
   "source": []
  },
  {
   "cell_type": "code",
   "execution_count": null,
   "id": "2673956e-a98d-428d-bc97-22a745bf580e",
   "metadata": {},
   "outputs": [],
   "source": []
  },
  {
   "cell_type": "code",
   "execution_count": null,
   "id": "86961621-f277-4431-a3fd-569a2e907dcb",
   "metadata": {},
   "outputs": [],
   "source": []
  },
  {
   "cell_type": "code",
   "execution_count": null,
   "id": "0bff1219-be17-42d4-bbc3-53397092df45",
   "metadata": {},
   "outputs": [],
   "source": []
  },
  {
   "cell_type": "code",
   "execution_count": 28,
   "id": "467dc20e-a988-4f22-98b9-a94c161ad0a5",
   "metadata": {},
   "outputs": [],
   "source": []
  },
  {
   "cell_type": "code",
   "execution_count": 29,
   "id": "d2c64944-9852-4a02-9c55-833cda06f103",
   "metadata": {},
   "outputs": [],
   "source": []
  },
  {
   "cell_type": "code",
   "execution_count": 30,
   "id": "97aa5425-b02f-46c2-be59-899bbae10f52",
   "metadata": {},
   "outputs": [],
   "source": []
  },
  {
   "cell_type": "code",
   "execution_count": null,
   "id": "1a442746-4705-48ca-a2b8-fe206b45f25c",
   "metadata": {},
   "outputs": [],
   "source": []
  },
  {
   "cell_type": "code",
   "execution_count": null,
   "id": "5ea4c0b4-6b18-4ecd-ab8d-23ecda8027fb",
   "metadata": {},
   "outputs": [],
   "source": []
  },
  {
   "cell_type": "code",
   "execution_count": null,
   "id": "4fbae493-78f7-4b90-a772-6ed23c11b134",
   "metadata": {},
   "outputs": [],
   "source": []
  },
  {
   "cell_type": "code",
   "execution_count": 40,
   "id": "c7356576-a624-4bd0-8f06-a09e8e8d8369",
   "metadata": {},
   "outputs": [
    {
     "name": "stdout",
     "output_type": "stream",
     "text": [
      " Costa\u0000\u0000\u0000\u0000\u0000\u0000\u0000\u0000\u0000\u0000\u0000 Rica\u0000\u0000\u0000\u0000\u0000\u0000\u0000\u0000\u0000\u0000\u0000\u0000 and\u0000\u0000\u0000\u0000\u0000\u0000\u0000\u0000\u0000\u0000\u0000\u0000\u0000 Qater\u0000\u0000\u0000\u0000\u0000\u0000\u0000\u0000\u0000\u0000\u0000 each\u0000\u0000\u0000\u0000\u0000\u0000\u0000\u0000\u0000\u0000\u0000\u0000 made\u0000\u0000\u0000\u0000\u0000\u0000\u0000\u0000\u0000\u0000\u0000\u0000 their\u0000\u0000\u0000\u0000\u0000\u0000\u0000\u0000\u0000\u0000\u0000 debut\u0000\u0000\u0000\u0000\u0000\u0000\u0000\u0000\u0000\u0000\u0000 in\u0000\u0000\u0000\u0000\u0000\u0000\u0000\u0000\u0000\u0000\u0000\u0000\u0000\u0000 the\u0000\u0000\u0000\u0000\u0000\u0000\u0000\u0000\u0000\u0000\u0000\u0000\u0000 event.\u0000\u0000\u0000\u0000\u0000\u0000\u0000\u0000\u0000\u0000 The\u0000\u0000\u0000\u0000\u0000\u0000\u0000\u0000\u0000\u0000\u0000\u0000\u0000 United\u0000\u0000\u0000\u0000\u0000\u0000\u0000\u0000\u0000\u0000 States\u0000\u0000\u0000\u0000\u0000\u0000\u0000\u0000\u0000\u0000 appeared\u0000\u0000\u0000\u0000\u0000\u0000\u0000\u0000 for\u0000\u0000\u0000\u0000\u0000\u0000\u0000\u0000\u0000\u0000\u0000\u0000\u0000 the\u0000\u0000\u0000\u0000\u0000\u0000\u0000\u0000\u0000\u0000\u0000\u0000\u0000 26th\u0000\u0000\u0000\u0000\u0000\u0000\u0000\u0000\u0000\u0000\u0000\u0000 time,\u0000\u0000\u0000\u0000\u0000\u0000\u0000\u0000\u0000\u0000\u0000 most\u0000\u0000\u0000\u0000\u0000\u0000\u0000\u0000\u0000\u0000\u0000\u0000 of\u0000\u0000\u0000\u0000\u0000\u0000\u0000\u0000\u0000\u0000\u0000\u0000\u0000\u0000 any\u0000\u0000\u0000\u0000\u0000\u0000\u0000\u0000\u0000\u0000\u0000\u0000\u0000 nation,\u0000\u0000\u0000\u0000\u0000\u0000\u0000\u0000\u0000 having\u0000\u0000\u0000\u0000\u0000\u0000\u0000\u0000\u0000\u0000 missed\u0000\u0000\u0000\u0000\u0000\u0000\u0000\u0000\u0000\u0000 only\u0000\u0000\u0000\u0000\u0000\u0000\u0000\u0000\u0000\u0000\u0000\u0000 the\u0000\u0000\u0000\u0000\u0000\u0000\u0000\u0000\u0000\u0000\u0000\u0000\u0000 boycotted\u0000\u0000\u0000\u0000\u0000\u0000\u0000 1980\u0000\u0000\u0000\u0000\u0000\u0000\u0000\u0000\u0000\u0000\u0000\u0000 Games.\u0000\u0000\u0000\u0000\u0000\u0000\u0000\u0000\u0000\u0000 Summary.\u0000\u0000\u0000\u0000\u0000\u0000\u0000\u0000 The\u0000\u0000\u0000\u0000\u0000\u0000\u0000\u0000\u0000\u0000\u0000\u0000\u0000 hammer\u0000\u0000\u0000\u0000\u0000\u0000\u0000\u0000\u0000\u0000\n"
     ]
    }
   ],
   "source": []
  },
  {
   "cell_type": "code",
   "execution_count": null,
   "id": "4da4a301-8fbf-4b73-a6b8-5fabeb8a79a3",
   "metadata": {},
   "outputs": [],
   "source": []
  },
  {
   "cell_type": "code",
   "execution_count": null,
   "id": "59fb156a-5967-4bc5-967e-86a5769c98c6",
   "metadata": {},
   "outputs": [],
   "source": []
  },
  {
   "cell_type": "code",
   "execution_count": null,
   "id": "dcffad5b-fc87-4368-8a13-7381f230143d",
   "metadata": {},
   "outputs": [],
   "source": []
  },
  {
   "cell_type": "code",
   "execution_count": null,
   "id": "bbf4605d-a5d8-4d72-be51-02192d3ff5e8",
   "metadata": {},
   "outputs": [],
   "source": []
  },
  {
   "cell_type": "code",
   "execution_count": null,
   "id": "1ad63c7b-f211-437e-9717-e22e5d18d5cc",
   "metadata": {},
   "outputs": [],
   "source": []
  },
  {
   "cell_type": "code",
   "execution_count": null,
   "id": "54a8133c-3f4d-4716-a1d9-267412e64d5a",
   "metadata": {},
   "outputs": [],
   "source": []
  },
  {
   "cell_type": "code",
   "execution_count": 214,
   "id": "fc9ce5d4-7723-43a5-b577-f8b6da76cf1d",
   "metadata": {},
   "outputs": [],
   "source": [
    "class CBOWModeler(nn.Module):\n",
    "    def __init__(self, vocab_size, embedding_dim, context_size):\n",
    "        super(CBOWModeler, self).__init__()\n",
    "        self.embeddings = nn.Embedding(vocab_size, embedding_dim)\n",
    "        self.linear1 = nn.Linear(context_size*embedding_dim, 128)\n",
    "        self.linear2 = nn.Linear(128, vocab_size)\n",
    "        \n",
    "    def forward(self, x):\n",
    "        embeds = self.embeddings(x).view(1,-1)\n",
    "        output = self.linear1(embeds)\n",
    "        output = F.relu(output)\n",
    "        output = self.linear2(output)\n",
    "        log_probs = F.log_softmax(output, dim=1)\n",
    "        return log_probs"
   ]
  },
  {
   "cell_type": "code",
   "execution_count": 215,
   "id": "3f59d2f7-cae1-4c0a-b89c-60ef4fd2bbf9",
   "metadata": {},
   "outputs": [],
   "source": [
    "set_dropout(model, 0)"
   ]
  },
  {
   "cell_type": "code",
   "execution_count": null,
   "id": "dfaf408e-2c4a-4160-9eba-ecec8ebfc793",
   "metadata": {},
   "outputs": [],
   "source": []
  },
  {
   "cell_type": "code",
   "execution_count": null,
   "id": "4a5d3674-3d82-497f-a1ed-fcae414ddb33",
   "metadata": {},
   "outputs": [],
   "source": []
  },
  {
   "cell_type": "code",
   "execution_count": null,
   "id": "77811068-f767-47bc-be10-3c0f268709cb",
   "metadata": {},
   "outputs": [],
   "source": []
  },
  {
   "cell_type": "code",
   "execution_count": 56,
   "id": "7d0999ef-4b09-4b3a-bf40-7e4d49202d2b",
   "metadata": {},
   "outputs": [],
   "source": [
    "voc_s = 100\n",
    "smooth = 0.1\n",
    "confidence = 1 - smooth\n",
    "criterion = nn.KLDivLoss(reduction = 'none')"
   ]
  },
  {
   "cell_type": "code",
   "execution_count": null,
   "id": "f2fe31d3-ca1c-423a-a8e3-721f510e5804",
   "metadata": {},
   "outputs": [],
   "source": [
    "prediction = torch.rand(128, 32, voc_s)\n",
    "target = torch.randint(10, (128, 32))\n",
    "prediction = rearrange(prediction, 'i j k -> (i j) k')\n",
    "target = rearrange(target, 'i j -> (i j)')\n",
    "labels = torch.full(prediction.shape, smooth / (voc_s - 1))\n",
    "\n",
    "\n",
    "\n",
    "# mask = mask.float()\n",
    "# mask = mask.view(-1)       # (batch_size * max_words)\n",
    "labels.scatter_(1, target.data.unsqueeze(1), self.confidence)"
   ]
  },
  {
   "cell_type": "code",
   "execution_count": 58,
   "id": "62145d27-982c-48a8-b2e8-ada48caa6da5",
   "metadata": {},
   "outputs": [
    {
     "data": {
      "text/plain": [
       "torch.Tensor"
      ]
     },
     "execution_count": 58,
     "metadata": {},
     "output_type": "execute_result"
    }
   ],
   "source": [
    "prediction = torch.rand(128, 32, voc_s)\n",
    "type(prediction)"
   ]
  },
  {
   "cell_type": "code",
   "execution_count": 357,
   "id": "4ea08b6a-abe3-4277-ae90-178c62a47802",
   "metadata": {},
   "outputs": [
    {
     "data": {
      "text/plain": [
       "torch.Size([128, 32])"
      ]
     },
     "execution_count": 357,
     "metadata": {},
     "output_type": "execute_result"
    }
   ],
   "source": [
    "target = torch.randint(10, (128, 32))\n",
    "target.shape"
   ]
  },
  {
   "cell_type": "code",
   "execution_count": 358,
   "id": "71a5e4f7-0c1c-4441-a3b8-c59f262fa33a",
   "metadata": {},
   "outputs": [
    {
     "data": {
      "text/plain": [
       "torch.Size([4096, 100])"
      ]
     },
     "execution_count": 358,
     "metadata": {},
     "output_type": "execute_result"
    }
   ],
   "source": [
    "prediction = rearrange(prediction, 'i j k -> (i j) k')\n",
    "prediction.shape"
   ]
  },
  {
   "cell_type": "code",
   "execution_count": 359,
   "id": "0ef05c6b-36e4-472f-8763-68851547ae18",
   "metadata": {},
   "outputs": [
    {
     "data": {
      "text/plain": [
       "torch.Size([4096])"
      ]
     },
     "execution_count": 359,
     "metadata": {},
     "output_type": "execute_result"
    }
   ],
   "source": [
    "target = rearrange(target, 'i j -> (i j)')\n",
    "target.shape"
   ]
  },
  {
   "cell_type": "code",
   "execution_count": 360,
   "id": "39dc7dca-f382-4c88-a18d-96637ce8808f",
   "metadata": {},
   "outputs": [
    {
     "data": {
      "text/plain": [
       "torch.Size([4096, 100])"
      ]
     },
     "execution_count": 360,
     "metadata": {},
     "output_type": "execute_result"
    }
   ],
   "source": [
    "labels = torch.full(prediction.shape, smooth / (voc_s - 1))\n",
    "labels.shape"
   ]
  },
  {
   "cell_type": "code",
   "execution_count": 361,
   "id": "13efc7e9-df44-40de-917f-7b1f54ff2d29",
   "metadata": {},
   "outputs": [
    {
     "data": {
      "text/plain": [
       "tensor([[0.0010, 0.0010, 0.0010,  ..., 0.0010, 0.0010, 0.0010],\n",
       "        [0.0010, 0.0010, 0.0010,  ..., 0.0010, 0.0010, 0.0010],\n",
       "        [0.0010, 0.9000, 0.0010,  ..., 0.0010, 0.0010, 0.0010],\n",
       "        ...,\n",
       "        [0.0010, 0.0010, 0.0010,  ..., 0.0010, 0.0010, 0.0010],\n",
       "        [0.0010, 0.0010, 0.0010,  ..., 0.0010, 0.0010, 0.0010],\n",
       "        [0.0010, 0.0010, 0.0010,  ..., 0.0010, 0.0010, 0.0010]])"
      ]
     },
     "execution_count": 361,
     "metadata": {},
     "output_type": "execute_result"
    }
   ],
   "source": [
    "labels.scatter_(1, target.unsqueeze(1), confidence)"
   ]
  },
  {
   "cell_type": "code",
   "execution_count": 371,
   "id": "cfd7b68a-2ed8-46c6-ac30-6f52c3456cce",
   "metadata": {},
   "outputs": [],
   "source": [
    "loss = criterion(prediction, labels)"
   ]
  },
  {
   "cell_type": "code",
   "execution_count": 375,
   "id": "afbe721e-a43f-4cc5-bd60-0b3307800680",
   "metadata": {},
   "outputs": [
    {
     "data": {
      "text/plain": [
       "tensor([-1.3567, -1.2366, -1.6016,  ..., -1.2049, -1.7134, -1.6225])"
      ]
     },
     "execution_count": 375,
     "metadata": {},
     "output_type": "execute_result"
    }
   ],
   "source": [
    "loss.sum(1)"
   ]
  },
  {
   "cell_type": "code",
   "execution_count": null,
   "id": "df58e3e9-5dbb-41b9-b20e-db6d7e747a5d",
   "metadata": {},
   "outputs": [],
   "source": []
  },
  {
   "cell_type": "code",
   "execution_count": null,
   "id": "1136534a-5613-4162-b57e-34533ed694f5",
   "metadata": {},
   "outputs": [],
   "source": []
  },
  {
   "cell_type": "code",
   "execution_count": null,
   "id": "ee1a0052-3ebd-4a01-bdd5-8ed8a4ae6926",
   "metadata": {},
   "outputs": [],
   "source": []
  },
  {
   "cell_type": "code",
   "execution_count": null,
   "id": "fa44fb1a-9815-4fc5-8bb4-b81ff9b090db",
   "metadata": {},
   "outputs": [],
   "source": []
  },
  {
   "cell_type": "code",
   "execution_count": null,
   "id": "90d8a6ec-2e81-4b54-912c-8459f8d5d68b",
   "metadata": {},
   "outputs": [],
   "source": []
  },
  {
   "cell_type": "code",
   "execution_count": null,
   "id": "608cde77-2b39-4f15-b552-508326eb96fd",
   "metadata": {},
   "outputs": [],
   "source": []
  },
  {
   "cell_type": "code",
   "execution_count": 328,
   "id": "4d771a17-22c5-4493-ae42-e602b2e8dfd9",
   "metadata": {},
   "outputs": [
    {
     "data": {
      "text/plain": [
       "tensor([4, 1, 5, 3])"
      ]
     },
     "execution_count": 328,
     "metadata": {},
     "output_type": "execute_result"
    }
   ],
   "source": [
    "X_len"
   ]
  },
  {
   "cell_type": "code",
   "execution_count": 181,
   "id": "c4e9a585-3772-4ea2-8fc7-769df8faf776",
   "metadata": {},
   "outputs": [
    {
     "data": {
      "text/plain": [
       "tensor([[ True,  True,  True,  True, False],\n",
       "        [ True, False, False, False, False],\n",
       "        [ True,  True,  True,  True,  True],\n",
       "        [ True,  True,  True, False, False]])"
      ]
     },
     "execution_count": 181,
     "metadata": {},
     "output_type": "execute_result"
    }
   ],
   "source": [
    "mask = torch.arange(maxlen)[None, :] < X_len[:, None]\n",
    "mask"
   ]
  },
  {
   "cell_type": "code",
   "execution_count": 180,
   "id": "72aa4b4f-7beb-4278-95bf-fbc6f174bfe4",
   "metadata": {},
   "outputs": [
    {
     "data": {
      "text/plain": [
       "tensor([[4],\n",
       "        [1],\n",
       "        [6],\n",
       "        [3]])"
      ]
     },
     "execution_count": 180,
     "metadata": {},
     "output_type": "execute_result"
    }
   ],
   "source": [
    "X_len[:, None]"
   ]
  },
  {
   "cell_type": "code",
   "execution_count": 182,
   "id": "e16e2ebe-5a7c-4010-808c-b7ae6ba3b691",
   "metadata": {},
   "outputs": [
    {
     "data": {
      "text/plain": [
       "tensor([[4.6000, 4.4000, 3.4000, 4.2000,   -inf],\n",
       "        [4.4000,   -inf,   -inf,   -inf,   -inf],\n",
       "        [3.2000, 4.2000, 5.0000, 4.0000, 3.6000],\n",
       "        [3.6000, 3.4000, 4.2000,   -inf,   -inf]], dtype=torch.float64)"
      ]
     },
     "execution_count": 182,
     "metadata": {},
     "output_type": "execute_result"
    }
   ],
   "source": [
    "X[~mask] = float('-inf')\n",
    "X"
   ]
  },
  {
   "cell_type": "code",
   "execution_count": null,
   "id": "f2587cdd-db06-4568-94f7-3e878e3605a5",
   "metadata": {},
   "outputs": [],
   "source": []
  },
  {
   "cell_type": "code",
   "execution_count": null,
   "id": "e3e01612-8788-4399-8172-e1371d8a5cdb",
   "metadata": {},
   "outputs": [],
   "source": []
  },
  {
   "cell_type": "code",
   "execution_count": 42,
   "id": "c920aad1-1345-4113-91da-3e5e10edb57d",
   "metadata": {},
   "outputs": [],
   "source": [
    "query = [1, 2]\n",
    "key = [2, 4]\n",
    "value = [3, 5]"
   ]
  },
  {
   "cell_type": "code",
   "execution_count": 113,
   "id": "f7232aba-256d-4291-bdfa-6d74e1c5c5f8",
   "metadata": {},
   "outputs": [
    {
     "data": {
      "text/plain": [
       "tensor([0, 2, 4, 6])"
      ]
     },
     "execution_count": 113,
     "metadata": {},
     "output_type": "execute_result"
    }
   ],
   "source": [
    "torch.arange(0, 8, 2)"
   ]
  },
  {
   "cell_type": "code",
   "execution_count": 122,
   "id": "c47bf969-e6e0-443d-aa92-05313ec896a2",
   "metadata": {},
   "outputs": [
    {
     "data": {
      "text/plain": [
       "array([2, 5])"
      ]
     },
     "execution_count": 122,
     "metadata": {},
     "output_type": "execute_result"
    }
   ],
   "source": [
    "np.random.permutation([2, 5])"
   ]
  },
  {
   "cell_type": "code",
   "execution_count": null,
   "id": "61430d5c-6cfd-4a69-ab93-10096b7a5882",
   "metadata": {},
   "outputs": [],
   "source": []
  },
  {
   "cell_type": "code",
   "execution_count": 39,
   "id": "023d5539-00c6-4e34-935c-0fccbbcfc679",
   "metadata": {},
   "outputs": [],
   "source": [
    "tens1 = torch.rand(2, 3, 4, 4)\n",
    "tens2 = torch.randint(10, (4, 2, 3))"
   ]
  },
  {
   "cell_type": "code",
   "execution_count": 40,
   "id": "8cb8eab8-b97e-4212-bf5a-80fc44ef8b05",
   "metadata": {},
   "outputs": [
    {
     "data": {
      "text/plain": [
       "tensor([[[[0.7623, 0.8450, 0.3682, 0.6576],\n",
       "          [0.9663, 0.5621, 0.8374, 0.5769],\n",
       "          [0.4835, 0.0790, 0.6344, 0.3626],\n",
       "          [0.4561, 0.6238, 0.3120, 0.8371]],\n",
       "\n",
       "         [[0.8442, 0.6722, 0.8046, 0.3118],\n",
       "          [0.2308, 0.3600, 0.2550, 0.9474],\n",
       "          [0.5318, 0.6913, 0.8854, 0.1981],\n",
       "          [0.0054, 0.0419, 0.0806, 0.0649]],\n",
       "\n",
       "         [[0.8957, 0.9161, 0.2589, 0.9291],\n",
       "          [0.7460, 0.7448, 0.5106, 0.8558],\n",
       "          [0.8403, 0.6256, 0.7644, 0.7588],\n",
       "          [0.9533, 0.5586, 0.2438, 0.8019]]],\n",
       "\n",
       "\n",
       "        [[[0.7899, 0.5312, 0.0525, 0.2539],\n",
       "          [0.3274, 0.7521, 0.6769, 0.0284],\n",
       "          [0.4078, 0.1044, 0.9185, 0.6738],\n",
       "          [0.5765, 0.8693, 0.8912, 0.5624]],\n",
       "\n",
       "         [[0.3052, 0.7401, 0.5834, 0.4826],\n",
       "          [0.7597, 0.4807, 0.9562, 0.4233],\n",
       "          [0.3731, 0.7180, 0.8609, 0.5208],\n",
       "          [0.4574, 0.6568, 0.1493, 0.1426]],\n",
       "\n",
       "         [[0.9422, 0.5193, 0.8503, 0.7638],\n",
       "          [0.5910, 0.5961, 0.5622, 0.4374],\n",
       "          [0.4099, 0.3272, 0.4633, 0.9013],\n",
       "          [0.8687, 0.2425, 0.9371, 0.0402]]]])"
      ]
     },
     "execution_count": 40,
     "metadata": {},
     "output_type": "execute_result"
    }
   ],
   "source": [
    "tens1"
   ]
  },
  {
   "cell_type": "code",
   "execution_count": 41,
   "id": "8fe2cff3-6602-4adc-b199-43fee7520568",
   "metadata": {},
   "outputs": [
    {
     "data": {
      "text/plain": [
       "4"
      ]
     },
     "execution_count": 41,
     "metadata": {},
     "output_type": "execute_result"
    }
   ],
   "source": [
    "d = tens1.size(-1)\n",
    "d"
   ]
  },
  {
   "cell_type": "code",
   "execution_count": 42,
   "id": "1d1a5365-a4dd-4dec-8257-55c7906ff739",
   "metadata": {},
   "outputs": [],
   "source": [
    "inds = torch.triu_indices(d, d, offset = 1)"
   ]
  },
  {
   "cell_type": "code",
   "execution_count": 43,
   "id": "8bfc6050-e23d-4f3f-91d4-829516b140d5",
   "metadata": {},
   "outputs": [],
   "source": [
    "tens1[..., inds[0], inds[1]] = -float('inf')"
   ]
  },
  {
   "cell_type": "code",
   "execution_count": 44,
   "id": "6b62cb34-6dc5-44c0-a1ab-8ba70f570136",
   "metadata": {},
   "outputs": [
    {
     "data": {
      "text/plain": [
       "tensor([[[[0.7623,   -inf,   -inf,   -inf],\n",
       "          [0.9663, 0.5621,   -inf,   -inf],\n",
       "          [0.4835, 0.0790, 0.6344,   -inf],\n",
       "          [0.4561, 0.6238, 0.3120, 0.8371]],\n",
       "\n",
       "         [[0.8442,   -inf,   -inf,   -inf],\n",
       "          [0.2308, 0.3600,   -inf,   -inf],\n",
       "          [0.5318, 0.6913, 0.8854,   -inf],\n",
       "          [0.0054, 0.0419, 0.0806, 0.0649]],\n",
       "\n",
       "         [[0.8957,   -inf,   -inf,   -inf],\n",
       "          [0.7460, 0.7448,   -inf,   -inf],\n",
       "          [0.8403, 0.6256, 0.7644,   -inf],\n",
       "          [0.9533, 0.5586, 0.2438, 0.8019]]],\n",
       "\n",
       "\n",
       "        [[[0.7899,   -inf,   -inf,   -inf],\n",
       "          [0.3274, 0.7521,   -inf,   -inf],\n",
       "          [0.4078, 0.1044, 0.9185,   -inf],\n",
       "          [0.5765, 0.8693, 0.8912, 0.5624]],\n",
       "\n",
       "         [[0.3052,   -inf,   -inf,   -inf],\n",
       "          [0.7597, 0.4807,   -inf,   -inf],\n",
       "          [0.3731, 0.7180, 0.8609,   -inf],\n",
       "          [0.4574, 0.6568, 0.1493, 0.1426]],\n",
       "\n",
       "         [[0.9422,   -inf,   -inf,   -inf],\n",
       "          [0.5910, 0.5961,   -inf,   -inf],\n",
       "          [0.4099, 0.3272, 0.4633,   -inf],\n",
       "          [0.8687, 0.2425, 0.9371, 0.0402]]]])"
      ]
     },
     "execution_count": 44,
     "metadata": {},
     "output_type": "execute_result"
    }
   ],
   "source": [
    "tens1"
   ]
  },
  {
   "cell_type": "code",
   "execution_count": null,
   "id": "22e067e4-c27a-4fa6-94b5-93ca5a2d72f8",
   "metadata": {},
   "outputs": [],
   "source": [
    "torch.einsum('...td,...id->...ti', tens1, tens2)"
   ]
  },
  {
   "cell_type": "code",
   "execution_count": null,
   "id": "90804803-b4ce-4e90-a050-0fb44596b4b2",
   "metadata": {},
   "outputs": [],
   "source": [
    "rearrange(tens2, '... i j -> ... (i j)')"
   ]
  },
  {
   "cell_type": "code",
   "execution_count": 30,
   "id": "65bcc8ca-ade6-4980-a0b7-ca5e892c1a03",
   "metadata": {},
   "outputs": [
    {
     "data": {
      "text/plain": [
       "4"
      ]
     },
     "execution_count": 30,
     "metadata": {},
     "output_type": "execute_result"
    }
   ],
   "source": [
    "tens1.size(-1)"
   ]
  },
  {
   "cell_type": "code",
   "execution_count": 23,
   "id": "640bb055-0fb7-452e-b2d8-63b421d4cf03",
   "metadata": {},
   "outputs": [
    {
     "data": {
      "text/plain": [
       "tensor([[0, 0, 0, 0, 0, 1, 1, 1, 1, 2, 2, 2, 3, 3, 4],\n",
       "        [0, 1, 2, 3, 4, 1, 2, 3, 4, 2, 3, 4, 3, 4, 4]])"
      ]
     },
     "execution_count": 23,
     "metadata": {},
     "output_type": "execute_result"
    }
   ],
   "source": [
    "torch.triu_indices(5, 5, offset = 1)"
   ]
  },
  {
   "cell_type": "code",
   "execution_count": 59,
   "id": "66f19d68-2095-4758-bdca-38581ffb7a1f",
   "metadata": {},
   "outputs": [
    {
     "data": {
      "text/plain": [
       "(4, 5, 3, 2)"
      ]
     },
     "execution_count": 59,
     "metadata": {},
     "output_type": "execute_result"
    }
   ],
   "source": []
  },
  {
   "cell_type": "code",
   "execution_count": null,
   "id": "e00374e8-8797-45d2-b46b-a137c08eb00f",
   "metadata": {},
   "outputs": [],
   "source": []
  },
  {
   "cell_type": "code",
   "execution_count": null,
   "id": "cd5b2cef-3a13-4774-921f-4b4b763985a3",
   "metadata": {},
   "outputs": [],
   "source": []
  },
  {
   "cell_type": "code",
   "execution_count": null,
   "id": "66a82cfc-b8dc-4dea-8321-c045b439f301",
   "metadata": {},
   "outputs": [],
   "source": []
  },
  {
   "cell_type": "code",
   "execution_count": 37,
   "id": "45f05521-25c5-42e0-8b4e-0675e246b22e",
   "metadata": {},
   "outputs": [
    {
     "data": {
      "text/plain": [
       "tensor([[[7, 4],\n",
       "         [6, 8],\n",
       "         [6, 9]],\n",
       "\n",
       "        [[6, 4],\n",
       "         [5, 5],\n",
       "         [3, 5]],\n",
       "\n",
       "        [[4, 7],\n",
       "         [1, 7],\n",
       "         [3, 2]],\n",
       "\n",
       "        [[3, 9],\n",
       "         [5, 9],\n",
       "         [6, 2]]])"
      ]
     },
     "execution_count": 37,
     "metadata": {},
     "output_type": "execute_result"
    }
   ],
   "source": [
    "tempo = torch.einsum('...ij->...ji', tens2)\n",
    "tempo"
   ]
  },
  {
   "cell_type": "code",
   "execution_count": 39,
   "id": "80b170dd-d592-415b-bfc5-78788d83940a",
   "metadata": {},
   "outputs": [
    {
     "data": {
      "text/plain": [
       "tensor([[[ 86,  72],\n",
       "         [136, 169]],\n",
       "\n",
       "        [[ 91,  89],\n",
       "         [ 75,  67]],\n",
       "\n",
       "        [[ 66, 121],\n",
       "         [ 46, 105]],\n",
       "\n",
       "        [[ 66, 130],\n",
       "         [ 78, 118]]])"
      ]
     },
     "execution_count": 39,
     "metadata": {},
     "output_type": "execute_result"
    }
   ],
   "source": [
    "torch.einsum('...ij,...jk->...ik', tens1, tempo)"
   ]
  },
  {
   "cell_type": "code",
   "execution_count": 40,
   "id": "897e4329-2c5a-4a4f-9186-884485dbe2d4",
   "metadata": {},
   "outputs": [
    {
     "data": {
      "text/plain": [
       "tensor([[[ 86,  72],\n",
       "         [136, 169]],\n",
       "\n",
       "        [[ 91,  89],\n",
       "         [ 75,  67]],\n",
       "\n",
       "        [[ 66, 121],\n",
       "         [ 46, 105]],\n",
       "\n",
       "        [[ 66, 130],\n",
       "         [ 78, 118]]])"
      ]
     },
     "execution_count": 40,
     "metadata": {},
     "output_type": "execute_result"
    }
   ],
   "source": [
    "torch.einsum('...ij,...kj->...ik', tens1, tens2)"
   ]
  },
  {
   "cell_type": "code",
   "execution_count": null,
   "id": "5996d055-aba9-46cb-9960-5d90082ce484",
   "metadata": {},
   "outputs": [],
   "source": []
  },
  {
   "cell_type": "code",
   "execution_count": 84,
   "id": "ac3a9264-5a0f-4ce6-970c-254d0f6f2c5b",
   "metadata": {},
   "outputs": [],
   "source": [
    "arr = np.random.randint(1, 10, (2, 3, 4))"
   ]
  },
  {
   "cell_type": "code",
   "execution_count": 85,
   "id": "7a003740-fbd3-4ab1-8399-7b101c2e9e62",
   "metadata": {},
   "outputs": [
    {
     "data": {
      "text/plain": [
       "array([[[9, 7, 2, 8],\n",
       "        [3, 1, 9, 1],\n",
       "        [1, 2, 4, 2]],\n",
       "\n",
       "       [[8, 3, 4, 9],\n",
       "        [8, 8, 7, 6],\n",
       "        [7, 2, 4, 2]]])"
      ]
     },
     "execution_count": 85,
     "metadata": {},
     "output_type": "execute_result"
    }
   ],
   "source": [
    "arr"
   ]
  },
  {
   "cell_type": "code",
   "execution_count": 89,
   "id": "f75e5fe7-02a1-4a00-ab39-c722d85249d6",
   "metadata": {},
   "outputs": [
    {
     "data": {
      "text/plain": [
       "array([2, 1, 1])"
      ]
     },
     "execution_count": 89,
     "metadata": {},
     "output_type": "execute_result"
    }
   ],
   "source": [
    "arr.min(axis = (0,2))"
   ]
  },
  {
   "cell_type": "code",
   "execution_count": 8,
   "id": "c9054b53-5cf1-4cd1-9337-bcbd41a2f067",
   "metadata": {},
   "outputs": [],
   "source": [
    "dr = 0"
   ]
  },
  {
   "cell_type": "code",
   "execution_count": 5,
   "id": "ed02d1d7-9af4-41a4-87e7-691a562790f7",
   "metadata": {},
   "outputs": [
    {
     "name": "stdout",
     "output_type": "stream",
     "text": [
      "5\n"
     ]
    }
   ],
   "source": [
    "if dr:\n",
    "    dr = 5\n",
    "else:\n",
    "    dr = None\n",
    "print(dr)"
   ]
  },
  {
   "cell_type": "code",
   "execution_count": 9,
   "id": "a61c58e8-c8bf-41cb-8ba9-489aea4ace80",
   "metadata": {},
   "outputs": [
    {
     "name": "stdout",
     "output_type": "stream",
     "text": [
      "None\n"
     ]
    }
   ],
   "source": [
    "dr = 4 if dr else None\n",
    "print(dr)"
   ]
  },
  {
   "cell_type": "code",
   "execution_count": null,
   "id": "832224cb-bec5-4f4d-9cfb-9a2414b82daa",
   "metadata": {},
   "outputs": [],
   "source": []
  }
 ],
 "metadata": {
  "kernelspec": {
   "display_name": "Python 3 (ipykernel)",
   "language": "python",
   "name": "python3"
  },
  "language_info": {
   "codemirror_mode": {
    "name": "ipython",
    "version": 3
   },
   "file_extension": ".py",
   "mimetype": "text/x-python",
   "name": "python",
   "nbconvert_exporter": "python",
   "pygments_lexer": "ipython3",
   "version": "3.9.7"
  }
 },
 "nbformat": 4,
 "nbformat_minor": 5
}
