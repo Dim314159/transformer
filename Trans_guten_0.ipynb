{
 "cells": [
  {
   "cell_type": "code",
   "execution_count": 1,
   "id": "7912bd76-4a05-41ed-a095-85c9c282750d",
   "metadata": {},
   "outputs": [],
   "source": [
    "# from collections import Counter\n",
    "# from collections import defaultdict\n",
    "\n",
    "from einops import rearrange\n",
    "import numpy as np\n",
    "\n",
    "import matplotlib.pyplot as plt\n",
    "\n",
    "import torch\n",
    "import torch.nn as nn\n",
    "from torch.utils.data import Dataset\n",
    "import torch.utils.data\n",
    "import torch.nn.functional as F\n",
    "\n",
    "\n",
    "import glob\n",
    "import re\n",
    "\n",
    "import json\n",
    "import pickle\n",
    "\n",
    "import sys\n",
    "from datetime import datetime as dt"
   ]
  },
  {
   "cell_type": "code",
   "execution_count": null,
   "id": "60d90d1f-6c1c-4705-a592-be2ddd93c915",
   "metadata": {},
   "outputs": [],
   "source": []
  },
  {
   "cell_type": "markdown",
   "id": "7ba2e554-d1c9-448b-a30a-a6bef59b8972",
   "metadata": {
    "tags": []
   },
   "source": [
    "# Helpers"
   ]
  },
  {
   "cell_type": "markdown",
   "id": "33462758-895b-4388-8851-95ace833a9aa",
   "metadata": {},
   "source": [
    "## functions"
   ]
  },
  {
   "cell_type": "code",
   "execution_count": 2,
   "id": "fb601c05-4aed-4c0d-9e58-4459d8538a98",
   "metadata": {},
   "outputs": [],
   "source": [
    "def clean_line(line):\n",
    "    line = line.lower()\n",
    "    replace = [('\\\\', ' / '), ('[', ' ( '), ('{', ' ( '), (']', ' ) '), ('}', ' ) ')] # , ('/', ' / ')\n",
    "    for rep in replace:\n",
    "        if rep[0] in line:\n",
    "            line = line.replace(rep[0], rep[1])\n",
    "    line = re.sub('[^!-@_a-z ]', '', line)\n",
    "    line = re.findall(r\"[\\w']+|[^\\w\\s]\", line, re.UNICODE)\n",
    "    return line"
   ]
  },
  {
   "cell_type": "code",
   "execution_count": 3,
   "id": "dc9e5961-2104-4138-87f2-45fce7671ea3",
   "metadata": {},
   "outputs": [],
   "source": [
    "def get_data_from_file(file_name, token_map, words_tokenized, words_to_index):\n",
    "    data = []\n",
    "    counter = 0\n",
    "    with open(file_name, 'r') as f:\n",
    "        for line in f:\n",
    "            word = line[:-1]\n",
    "            if line == '.':\n",
    "                counter += 1\n",
    "                if counter > 1:\n",
    "                    continue\n",
    "            else:\n",
    "                counter = 0\n",
    "            tokens = words_tokenized[words_to_index[word]]\n",
    "            enc = [token_map[tok] for tok in tokens]\n",
    "            data.extend(enc)\n",
    "    return torch.LongTensor(data)"
   ]
  },
  {
   "cell_type": "code",
   "execution_count": null,
   "id": "895de7d5-3799-40c7-9cc4-8e13783fe304",
   "metadata": {},
   "outputs": [],
   "source": []
  },
  {
   "cell_type": "code",
   "execution_count": 4,
   "id": "b8d79a25-7206-44ad-bcf7-8371d1758ad2",
   "metadata": {},
   "outputs": [],
   "source": [
    "def set_dropout(model, drop_rate):\n",
    "    for name, child in model.named_children():\n",
    "        if isinstance(child, torch.nn.Dropout):\n",
    "            child.p = drop_rate\n",
    "        set_dropout(child, drop_rate = drop_rate)"
   ]
  },
  {
   "cell_type": "code",
   "execution_count": 5,
   "id": "d824b003-3ab2-49e6-8c83-5dc949d7c75e",
   "metadata": {},
   "outputs": [],
   "source": [
    "def plot_loss(loss):\n",
    "    plt.plot(loss)\n",
    "    #plt.xlabel('', fontsize=20)\n",
    "    plt.ylabel('loss', fontsize=20)\n",
    "    plt.show()"
   ]
  },
  {
   "cell_type": "code",
   "execution_count": null,
   "id": "2d676c67-13f5-47d5-92af-4f7950d7c1ab",
   "metadata": {},
   "outputs": [],
   "source": []
  },
  {
   "cell_type": "markdown",
   "id": "de4a0f1a-573d-4f14-8e0a-a48b0fc00a41",
   "metadata": {
    "tags": []
   },
   "source": [
    "# Load the data"
   ]
  },
  {
   "cell_type": "code",
   "execution_count": 6,
   "id": "846755aa-0076-4323-9981-f07f65385382",
   "metadata": {},
   "outputs": [],
   "source": [
    "my_path = 'data/guten/'"
   ]
  },
  {
   "cell_type": "code",
   "execution_count": null,
   "id": "7d33b5e8-9bef-4aa6-80ca-ebb79e776b9b",
   "metadata": {},
   "outputs": [],
   "source": []
  },
  {
   "cell_type": "markdown",
   "id": "eb9cc010-6208-4565-94c6-60acac6a5017",
   "metadata": {},
   "source": [
    "## prepare data"
   ]
  },
  {
   "cell_type": "code",
   "execution_count": 7,
   "id": "4d0044e6-12e3-432f-8183-c2874f5016aa",
   "metadata": {},
   "outputs": [],
   "source": [
    "texts = glob.glob(my_path + 'clean_parts/*.txt')"
   ]
  },
  {
   "cell_type": "code",
   "execution_count": 8,
   "id": "a7df4eb0-fac6-4ddf-a613-8f47bf858f78",
   "metadata": {},
   "outputs": [],
   "source": [
    "with open(my_path + 'token_map.json', 'r') as f:\n",
    "        token_map = json.load(f)\n",
    "# with open(my_path + 'token_freq_0.json', 'r') as f:\n",
    "#         token_freq = json.load(f)\n",
    "with open(my_path + 'words_to_index.json', 'r') as f:\n",
    "    words_to_index = json.load(f)\n",
    "with open(my_path + 'words_tokenized_0.json', 'r') as f:\n",
    "    words_tokenized = json.load(f)\n",
    "rev_token_map = {v: k for k, v in token_map.items()}"
   ]
  },
  {
   "cell_type": "code",
   "execution_count": 9,
   "id": "70ba47c4-d35f-403a-bb4f-f2c207d4a4d0",
   "metadata": {},
   "outputs": [
    {
     "name": "stdout",
     "output_type": "stream",
     "text": [
      "14618\n"
     ]
    }
   ],
   "source": [
    "vocab_size_in = vocab_size_out = len(token_map)\n",
    "print(vocab_size_out)"
   ]
  },
  {
   "cell_type": "code",
   "execution_count": null,
   "id": "a78bb501-4c4c-46dd-b705-5121419ac68b",
   "metadata": {},
   "outputs": [],
   "source": []
  },
  {
   "cell_type": "code",
   "execution_count": null,
   "id": "92b15c6c-503a-4b91-8b63-617ee4003f46",
   "metadata": {},
   "outputs": [],
   "source": []
  },
  {
   "cell_type": "markdown",
   "id": "adb286cb-3077-458f-b099-6397e20cb904",
   "metadata": {
    "tags": []
   },
   "source": [
    "# training function"
   ]
  },
  {
   "cell_type": "code",
   "execution_count": 10,
   "id": "9662b54b-ec88-4855-99eb-e0f00fc24c4e",
   "metadata": {},
   "outputs": [],
   "source": [
    "def train(model, texts, token_map, words_tokenized, words_to_index, criterion, model_optimizer, train_hp, \n",
    "          save = False):\n",
    "    epochs, batch_size, seq_length, frequency, my_path, model_name = train_hp\n",
    "    loss_train = []\n",
    "    start_time = dt.now()\n",
    "    model.train()\n",
    "    \n",
    "    x = torch.empty((batch_size, seq_length), dtype = torch.long, device = device)\n",
    "    y_input = torch.empty((batch_size, seq_length), dtype = torch.long, device = device)\n",
    "    y_input[:, 0] = token_map['^']\n",
    "    y_target = torch.empty((batch_size, seq_length), dtype = torch.long, device = device)\n",
    "    # for one file\n",
    "    file_name = np.random.choice(texts)\n",
    "    data = get_data_from_file(file_name, token_map, words_tokenized, words_to_index)\n",
    "    ##\n",
    "    for ep in range(1, epochs + 1):\n",
    "        # for many files\n",
    "#         file_name = random.choice(texts)\n",
    "#         data = get_data_from_file(file_name, token_map, words_tokenized, words_to_index)\n",
    "        ##\n",
    "        data_len = data.size(0) - batch_size - seq_length * 2 - 1\n",
    "        order = np.random.permutation(np.arange(0, data_len, seq_length // frequency))\n",
    "        or_length = order.shape[0]\n",
    "        loss_tempo = []\n",
    "        j = 0\n",
    "        for i, start_ind in enumerate(order):\n",
    "            middle_ind = start_ind + seq_length\n",
    "            end_ind = middle_ind + seq_length\n",
    "            x[j] = data[start_ind : middle_ind]\n",
    "            y_input[j, 1:] = data[middle_ind : end_ind - 1]\n",
    "            y_target[j] = data[middle_ind : end_ind]\n",
    "            \n",
    "            j += 1\n",
    "            if j % batch_size == 0:\n",
    "                j = 0\n",
    "                q_mask, r_mask, rt_mask = create_masks(x, y_input, y_target)\n",
    "            \n",
    "                out = model(x, q_mask, y_input, r_mask)\n",
    "                loss = criterion(out, y_target, rt_mask)\n",
    "\n",
    "                model_optimizer.optimizer.zero_grad()\n",
    "                loss.backward()\n",
    "                model_optimizer.step()\n",
    "\n",
    "                loss_t = loss.item()\n",
    "                loss_tempo.append(loss_t)\n",
    "            \n",
    "                elapsed = dt.now() - start_time\n",
    "                secs = elapsed.seconds\n",
    "                ratio = (i + 1) / or_length\n",
    "                printout = '\\r[%-16s] %d%%, batch: %d, %02d:%02d:%02d:%02d, epoch: %d/%d, total: %d, loss: %f'\n",
    "                sys.stdout.write(printout % ('='*round(16 * ratio), round(100 * ratio), (i + 1) // batch_size, \n",
    "                                             elapsed.days, secs // 3600, secs // 60 % 60, secs % 60, ep, epochs, \n",
    "                                             model.epochs, loss_t))\n",
    "                sys.stdout.flush()\n",
    "        model.epochs += 1\n",
    "        ep_loss = np.mean(np.asarray(loss_tempo), axis=0)\n",
    "        loss_train.extend(loss_tempo)\n",
    "        model.losses.append(ep_loss)\n",
    "        \n",
    "        if save:\n",
    "            state = {'model': model, 'model_optimizer': model_optimizer, 'criterion': criterion, \n",
    "                     'model_hp' : model_hp}\n",
    "            torch.save(state, my_path + model_name)\n",
    "    \n",
    "    sys.stdout.write('\\n')\n",
    "    return loss_train"
   ]
  },
  {
   "cell_type": "markdown",
   "id": "188a112e-a48f-4afe-ac59-7fe90d9d0b62",
   "metadata": {
    "tags": []
   },
   "source": [
    "## evaluating function"
   ]
  },
  {
   "cell_type": "code",
   "execution_count": 11,
   "id": "f755333c-63ed-43e6-89bb-46fc82aae90e",
   "metadata": {},
   "outputs": [],
   "source": [
    "def get_data_from_line(model_token, line, words_tokenized, words_to_index, word_length, token_map, rev_token_map, \n",
    "                       parallel):\n",
    "    data = []\n",
    "    # specialy for this guten dialog\n",
    "    line = line.replace(',', '.')\n",
    "    ##\n",
    "    words = clean_line(line)\n",
    "    for word in words:\n",
    "        tokens = []\n",
    "        if word in words_to_index:\n",
    "            tokens = words_tokenized[words_to_index[word]]\n",
    "        else:\n",
    "            tokens = tokenize_word(model_token, word, word_length, token_map, rev_token_map, parallel)\n",
    "        enc = [token_map[tok] for tok in tokens]\n",
    "        data.extend(enc)\n",
    "    return torch.LongTensor(data)"
   ]
  },
  {
   "cell_type": "code",
   "execution_count": 12,
   "id": "5359d45f-2d2d-4c36-987a-e8574acf2b5a",
   "metadata": {},
   "outputs": [],
   "source": [
    "def tokenize_word(model, question, word_length, token_map, rev_token_map, parallel):\n",
    "    \"\"\"\n",
    "    Performs Greedy Decoding with a batch size of 1\n",
    "    \"\"\"    \n",
    "    \n",
    "    question = list(question) + ['^'] \n",
    "    question = [token_map[t] for t in question]\n",
    "    question = torch.LongTensor(question).to(device).unsqueeze(0)\n",
    "    question_mask = (question!=0).to(device).unsqueeze(1).unsqueeze(1)\n",
    "    start_token = token_map['^']\n",
    "    reply = [[start_token]]\n",
    "    reply = torch.LongTensor(reply).to(device)\n",
    "    model.eval()\n",
    "    with torch.no_grad():\n",
    "        for step in range(word_length - 1):\n",
    "            dims = reply.size(-1)\n",
    "            reply_mask = torch.triu(torch.ones(dims, dims)).transpose(0, 1).type(dtype=torch.uint8)\n",
    "            reply_mask = reply_mask.to(device).unsqueeze(0).unsqueeze(0)\n",
    "            if parallel:\n",
    "                decoded = model.encode_decode(question, question_mask, reply, reply_mask)\n",
    "            else:\n",
    "                encoded = model.encode(question, question_mask)\n",
    "                decoded = model.decode(encoded, question_mask, reply, reply_mask)\n",
    "            predictions = model.out(decoded[:, -1])\n",
    "            next_word = torch.argmax(predictions, dim = 1)\n",
    "            next_word = next_word.item()\n",
    "            reply = torch.cat([reply, torch.LongTensor([[next_word]]).to(device)], dim = 1)\n",
    "            if rev_token_map[next_word][-1] == '^':\n",
    "                break\n",
    "\n",
    "        # Construct Sentence\n",
    "        if reply.dim() == 2:\n",
    "            reply = reply.squeeze(0)\n",
    "            reply = reply.tolist()\n",
    "\n",
    "        word = [rev_token_map[k] for k in reply[1:]]\n",
    "    \n",
    "    return word"
   ]
  },
  {
   "cell_type": "code",
   "execution_count": 13,
   "id": "9740278f-1daa-4638-8ca1-3fbe14444dd5",
   "metadata": {},
   "outputs": [],
   "source": [
    "def evaluate(model, question, seq_length, token_map, rev_token_map, parallel):\n",
    "    \"\"\"\n",
    "    Performs Greedy Decoding with a batch size of 1\n",
    "    \"\"\"\n",
    "    \n",
    "    start_token = token_map['^']\n",
    "    reply = [[start_token]]\n",
    "    reply = torch.LongTensor(reply).to(device)\n",
    "    final_reply = []\n",
    "    model.eval()\n",
    "    with torch.no_grad():\n",
    "        question_mask = (question != 0).to(device).unsqueeze(1).unsqueeze(1)\n",
    "        length = 0\n",
    "        while True:\n",
    "            dims = reply.size(-1)\n",
    "            reply_mask = torch.triu(torch.ones(dims, dims)).transpose(0, 1).type(dtype=torch.uint8)\n",
    "            reply_mask = reply_mask.to(device).unsqueeze(0).unsqueeze(0)\n",
    "            if parallel:\n",
    "                decoded = model.encode_decode(question, question_mask, reply, reply_mask)\n",
    "            else:\n",
    "                encoded = model.encode(question, question_mask)\n",
    "                decoded = model.decode(encoded, question_mask, reply, reply_mask)\n",
    "            prediction = model.out(decoded[:, -1])\n",
    "            next_word = torch.argmax(prediction, dim = 1).item()\n",
    "            final_reply.append(next_word)\n",
    "            if reply.shape[1] < 32:\n",
    "                reply = torch.cat([reply, torch.LongTensor([[next_word]]).to(device)], dim = 1) \n",
    "            else:\n",
    "                reply = torch.cat([reply[:, 1:], torch.LongTensor([[next_word]]).to(device)], dim = 1)\n",
    "            if next_word != 4:\n",
    "                length += 1\n",
    "                if length > answer_len:\n",
    "                    break\n",
    "                \n",
    "    final_reply = ''.join([rev_token_map[w] for w in final_reply])\n",
    "    final_reply = final_reply.replace('^', ' ')\n",
    "    final_reply = re.sub(r'(?<=[,.\\-()\":=&;!/$\\+%<>_#?\\*@1234567890])', r' ', final_reply)\n",
    "    return final_reply"
   ]
  },
  {
   "cell_type": "code",
   "execution_count": null,
   "id": "55988e38-c141-4c0b-8fc4-afcc61927302",
   "metadata": {},
   "outputs": [],
   "source": []
  },
  {
   "cell_type": "markdown",
   "id": "af4c1a4f-2a2e-4bf6-a90c-f58b0cee6ac7",
   "metadata": {
    "tags": []
   },
   "source": [
    "# Create the model"
   ]
  },
  {
   "cell_type": "code",
   "execution_count": 14,
   "id": "c4b08496-6e0e-4e4d-979d-e61bde81c668",
   "metadata": {},
   "outputs": [],
   "source": [
    "%run Transformer_class.ipynb"
   ]
  },
  {
   "cell_type": "code",
   "execution_count": null,
   "id": "6aeca59d-38ee-4f8a-a53a-1b39b841159d",
   "metadata": {},
   "outputs": [],
   "source": []
  },
  {
   "cell_type": "code",
   "execution_count": 15,
   "id": "9ad53145-885f-44af-8429-a66f310a789d",
   "metadata": {},
   "outputs": [
    {
     "data": {
      "text/plain": [
       "0"
      ]
     },
     "execution_count": 15,
     "metadata": {},
     "output_type": "execute_result"
    }
   ],
   "source": [
    "torch.cuda.set_device(0)\n",
    "torch.cuda.current_device()"
   ]
  },
  {
   "cell_type": "code",
   "execution_count": 16,
   "id": "2438e0c1-4f7f-456d-b685-826c13f0cab5",
   "metadata": {},
   "outputs": [
    {
     "data": {
      "text/plain": [
       "device(type='cuda')"
      ]
     },
     "execution_count": 16,
     "metadata": {},
     "output_type": "execute_result"
    }
   ],
   "source": [
    "device = torch.device('cuda' if torch.cuda.is_available() else 'cpu')\n",
    "device"
   ]
  },
  {
   "cell_type": "code",
   "execution_count": 17,
   "id": "9ce0cf3f-eba6-4a0d-b754-cedb1967dbab",
   "metadata": {},
   "outputs": [],
   "source": [
    "def create_order(d_emb, repeat, deep):\n",
    "    order = []\n",
    "    hidden = [d_emb * 2, d_emb, d_emb, d_emb // 2]\n",
    "    for dh in hidden:\n",
    "        h = dh // 16\n",
    "        for _ in range(deep):\n",
    "            for _ in range(repeat):\n",
    "                order.append((dh, h))\n",
    "            h = max(1, h // 2)\n",
    "    return order"
   ]
  },
  {
   "cell_type": "code",
   "execution_count": 18,
   "id": "08dbad30-cc66-4efa-ad88-4bb2a7482ced",
   "metadata": {},
   "outputs": [],
   "source": [
    "d_emb = 256\n",
    "hidden_mult = 4\n",
    "seq_length = 64\n",
    "order = create_order(d_emb, 1, 4)\n",
    "# order = [(512, 32), (512, 16), (512, 8), (512, 4), \n",
    "#          (256, 16), (256, 8), (256, 4), (256, 2),\n",
    "#          (128, 8), (128, 4), (128, 2), (128, 1)]\n",
    "dropouts = [0, 0, 0]\n",
    "parallel = True"
   ]
  },
  {
   "cell_type": "code",
   "execution_count": 19,
   "id": "3e4fc4d5-055a-4784-9061-b402f7413954",
   "metadata": {},
   "outputs": [],
   "source": [
    "flag_load = True\n",
    "model_name = 'trans_220804_par.pt'"
   ]
  },
  {
   "cell_type": "code",
   "execution_count": 20,
   "id": "f7cb25c1-4347-4b77-8ea0-9f7f6e3262f5",
   "metadata": {},
   "outputs": [],
   "source": [
    "if flag_load:\n",
    "    state = torch.load(my_path + model_name)\n",
    "    model_hp = state['model_hp']\n",
    "    model = state['model']\n",
    "    model_optimizer = state['model_optimizer']\n",
    "    criterion = state['criterion']\n",
    "    vocab_size_in, vocab_size_out, d_emb, hidden_mult,  seq_length, order, dropouts, parallel = model_hp\n",
    "else:\n",
    "    model_hp = vocab_size_in, vocab_size_out, d_emb, hidden_mult, seq_length, order, dropouts, parallel\n",
    "    model = Transformer(model_hp).to(device)\n",
    "    #model = nn.DataParallel(model, device_ids = [0, 1, 2, 3])\n",
    "    #model.to(f'cuda:{model.device_ids[0]}')\n",
    "    l2 = 0.0\n",
    "    learning_rate = 0\n",
    "    warmup_steps = 4096\n",
    "    optimizer = torch.optim.AdamW(model.parameters(), lr=learning_rate, weight_decay=l2, amsgrad=False)\n",
    "    model_optimizer = AdamWarmup(d_emb, warmup_steps, optimizer)\n",
    "    criterion = LossWithLS(vocab_size_out, 0.1)"
   ]
  },
  {
   "cell_type": "code",
   "execution_count": 21,
   "id": "9157e411-a0ac-4955-9dc8-dfe25613a57a",
   "metadata": {},
   "outputs": [
    {
     "name": "stdout",
     "output_type": "stream",
     "text": [
      "vocab_size_in 14618\n",
      "vocab_size_out 14618\n",
      "d_emb 256\n",
      "hidden_mult 4\n",
      "seq_length 64\n",
      "order [(512, 32), (512, 16), (512, 8), (512, 4), (256, 16), (256, 8), (256, 4), (256, 2), (256, 16), (256, 8), (256, 4), (256, 2), (128, 8), (128, 4), (128, 2), (128, 1)]\n",
      "dropouts [0, 0, 0]\n",
      "parallel True\n",
      "num of parameters: 42416410\n"
     ]
    }
   ],
   "source": [
    "print('vocab_size_in', vocab_size_in)\n",
    "print('vocab_size_out', vocab_size_out)\n",
    "print('d_emb', d_emb)\n",
    "print('hidden_mult', hidden_mult)\n",
    "print('seq_length', seq_length)\n",
    "print('order', order)\n",
    "print('dropouts', dropouts)\n",
    "print('parallel', parallel)\n",
    "print('num of parameters:', sum(p.numel() for p in model.parameters() if p.requires_grad))"
   ]
  },
  {
   "cell_type": "code",
   "execution_count": null,
   "id": "c49066a5-5554-4ad5-88c7-8a321cb9f6d2",
   "metadata": {},
   "outputs": [],
   "source": []
  },
  {
   "cell_type": "markdown",
   "id": "2f8cd73e-f614-49cb-b9c9-329da6f71ff0",
   "metadata": {
    "tags": []
   },
   "source": [
    "# Running"
   ]
  },
  {
   "cell_type": "markdown",
   "id": "5db23a5b-6549-45b3-be7c-2968d8d0fe7c",
   "metadata": {},
   "source": [
    "## Train"
   ]
  },
  {
   "cell_type": "code",
   "execution_count": 24,
   "id": "81abfe26-4cea-459a-91a3-ccc588fe96e4",
   "metadata": {},
   "outputs": [],
   "source": [
    "epochs = 4\n",
    "batch_size = 64\n",
    "frequency = 2\n",
    "train_hp = epochs, batch_size, seq_length, frequency, my_path, model_name"
   ]
  },
  {
   "cell_type": "code",
   "execution_count": null,
   "id": "3a15c809-02b3-4b9d-a752-ad9660cb790a",
   "metadata": {},
   "outputs": [
    {
     "name": "stdout",
     "output_type": "stream",
     "text": [
      "[=               ] 4%, batch: 6516, 00:00:48:08, epoch: 1/4, total: 9, loss: 4.377866"
     ]
    }
   ],
   "source": [
    "loss_train = train(model, texts, token_map, words_tokenized, words_to_index, criterion, model_optimizer, train_hp, \n",
    "                  save = True)"
   ]
  },
  {
   "cell_type": "code",
   "execution_count": 39,
   "id": "b4237485-a950-4d9a-a138-036a6a05f9cf",
   "metadata": {},
   "outputs": [
    {
     "name": "stdout",
     "output_type": "stream",
     "text": [
      "total epochs 9\n"
     ]
    },
    {
     "data": {
      "image/png": "[encoded data removed]",
      "text/plain": [
       "<Figure size 432x288 with 1 Axes>"
      ]
     },
     "metadata": {
      "needs_background": "light"
     },
     "output_type": "display_data"
    },
    {
     "data": {
      "image/png": "[encoded data removed]",
      "text/plain": [
       "<Figure size 432x288 with 1 Axes>"
      ]
     },
     "metadata": {
      "needs_background": "light"
     },
     "output_type": "display_data"
    }
   ],
   "source": [
    "print('total epochs', model.epochs)\n",
    "plot_loss(loss_train)\n",
    "plot_loss(model.losses)"
   ]
  },
  {
   "cell_type": "code",
   "execution_count": null,
   "id": "a615ea20-8e54-4e26-9763-94a467f9f242",
   "metadata": {},
   "outputs": [],
   "source": []
  },
  {
   "cell_type": "markdown",
   "id": "f29d07d3-c0f5-460d-bc7f-0d7fcda1faf1",
   "metadata": {},
   "source": [
    "## Evaluate"
   ]
  },
  {
   "cell_type": "code",
   "execution_count": 40,
   "id": "bf671bc6-da81-43f3-8a89-5079325a7b4f",
   "metadata": {},
   "outputs": [],
   "source": [
    "flag_load = True"
   ]
  },
  {
   "cell_type": "code",
   "execution_count": 41,
   "id": "c28eec0c-5732-4be6-bbce-2954a58f3273",
   "metadata": {},
   "outputs": [],
   "source": [
    "if flag_load:\n",
    "    state = torch.load(my_path + 'tokenizer.pt')\n",
    "    tokenizer = state['model'].to(device)"
   ]
  },
  {
   "cell_type": "code",
   "execution_count": null,
   "id": "c52c689b-10d1-4854-9080-a3c0b7f2b464",
   "metadata": {},
   "outputs": [],
   "source": [
    "word_length = 32\n",
    "answer_len = 64\n",
    "while(1):\n",
    "    question = input(\"You: \") \n",
    "    if question == 'quit':\n",
    "        break\n",
    "    question = get_data_from_line(tokenizer, question, words_tokenized, words_to_index, word_length, token_map, \n",
    "                                  rev_token_map, parallel)\n",
    "    question = question.to(device).unsqueeze(0)\n",
    "    reply = evaluate(model, question, seq_length, token_map, rev_token_map, parallel)\n",
    "    \n",
    "    print(reply)"
   ]
  },
  {
   "cell_type": "code",
   "execution_count": null,
   "id": "e7e6eeb7-eab3-4c8b-bcc5-4e8f6acba86c",
   "metadata": {},
   "outputs": [],
   "source": []
  },
  {
   "cell_type": "code",
   "execution_count": 58,
   "id": "0cf969be-0f71-4e70-a3d6-a4194740670b",
   "metadata": {},
   "outputs": [],
   "source": []
  },
  {
   "cell_type": "code",
   "execution_count": 23,
   "id": "8bca5f0f-eaf0-4587-9e0e-f3935726cb51",
   "metadata": {},
   "outputs": [],
   "source": [
    "set_dropout(model, 0.05)"
   ]
  },
  {
   "cell_type": "code",
   "execution_count": null,
   "id": "047107d7-1fdb-4edb-a264-e6d9a88fbf1a",
   "metadata": {},
   "outputs": [],
   "source": []
  },
  {
   "cell_type": "code",
   "execution_count": null,
   "id": "95af76fe-516c-4abb-8bfa-36f1df037bb5",
   "metadata": {},
   "outputs": [],
   "source": []
  },
  {
   "cell_type": "markdown",
   "id": "7ce0fd7a-d474-456b-af82-4e5fe72983fc",
   "metadata": {},
   "source": [
    "# Works"
   ]
  },
  {
   "cell_type": "code",
   "execution_count": 17,
   "id": "3b00947c-57bb-4a5a-9057-36ecbb4c5f83",
   "metadata": {},
   "outputs": [],
   "source": [
    "texts = glob.glob(my_path + 'parts/*.txt')"
   ]
  },
  {
   "cell_type": "code",
   "execution_count": 18,
   "id": "70cbfddb-2d0a-418f-97b7-723cf8fb5f33",
   "metadata": {},
   "outputs": [],
   "source": [
    "file_name = random.choice(texts)"
   ]
  },
  {
   "cell_type": "code",
   "execution_count": 21,
   "id": "d9405ec7-e294-4b36-adfc-f1a0b60d0fa6",
   "metadata": {},
   "outputs": [],
   "source": [
    "char_to_num, num_to_char = create_char_dict()"
   ]
  },
  {
   "cell_type": "code",
   "execution_count": 22,
   "id": "37a25c1e-84dd-4376-a280-d6c4acae4bc5",
   "metadata": {},
   "outputs": [],
   "source": [
    "word_length = 16"
   ]
  },
  {
   "cell_type": "code",
   "execution_count": 31,
   "id": "336a065b-3bcd-4b8e-9d84-0b83c0050a76",
   "metadata": {},
   "outputs": [],
   "source": [
    "def get_data_from_file(file_name, word_map, word_length, char_to_num):\n",
    "    data = []\n",
    "    target = []\n",
    "    with open(file_name, 'r') as f:\n",
    "        for line in f:\n",
    "            l = remove_punc(line)\n",
    "            words = l.split()\n",
    "            enc_words = []\n",
    "            enc_chars = []\n",
    "            for word in words:\n",
    "                enc_words.append(word_map.get(word, word_map['<unk>']))\n",
    "                w = torch.zeros(word_length)\n",
    "                for i, char in enumerate(word[:word_length]):\n",
    "                    w[i] = char_to_num[char]\n",
    "                enc_chars.append(w)\n",
    "                    \n",
    "            data.extend(enc_words)\n",
    "            target.extend(enc_chars)\n",
    "    return torch.LongTensor(data), torch.stack(target).long()"
   ]
  },
  {
   "cell_type": "code",
   "execution_count": 32,
   "id": "32763ab3-0164-4957-a272-f70a61b0f4d0",
   "metadata": {},
   "outputs": [],
   "source": [
    "data, target = get_data_from_file(file_name, word_map, word_length, char_to_num)"
   ]
  },
  {
   "cell_type": "code",
   "execution_count": 33,
   "id": "3fadea04-011e-4247-a79b-66c03ee7f177",
   "metadata": {},
   "outputs": [
    {
     "data": {
      "text/plain": [
       "torch.Size([1781716])"
      ]
     },
     "execution_count": 33,
     "metadata": {},
     "output_type": "execute_result"
    }
   ],
   "source": [
    "data.shape"
   ]
  },
  {
   "cell_type": "code",
   "execution_count": 40,
   "id": "8a572951-7b05-499d-8804-c146960e7f69",
   "metadata": {},
   "outputs": [],
   "source": [
    "targ = torch.stack(target).long()"
   ]
  },
  {
   "cell_type": "code",
   "execution_count": null,
   "id": "b7e8f76e-0ba8-4073-9c97-edacedab65a4",
   "metadata": {},
   "outputs": [],
   "source": []
  },
  {
   "cell_type": "code",
   "execution_count": null,
   "id": "cc8492f0-6238-4ac3-8ef7-48842690856b",
   "metadata": {},
   "outputs": [],
   "source": []
  },
  {
   "cell_type": "code",
   "execution_count": null,
   "id": "bd6b1f18-4263-460a-80f8-429b94287618",
   "metadata": {},
   "outputs": [],
   "source": []
  },
  {
   "cell_type": "code",
   "execution_count": 299,
   "id": "dc3e19d9-43d6-402d-9812-bef39a8d435e",
   "metadata": {},
   "outputs": [],
   "source": [
    "word_length = 16\n",
    "seq_length = 32\n",
    "batch_size = 64\n",
    "layers = [1, 8, 16, 32]\n",
    "d_emb = 256\n",
    "dropout = 0"
   ]
  },
  {
   "cell_type": "code",
   "execution_count": 38,
   "id": "0c1be940-d5a2-4fc6-8bce-85428ee14610",
   "metadata": {},
   "outputs": [],
   "source": [
    "file_name = random.choice(texts)\n",
    "data = get_data_from_file(file_name, word_length, char_to_num)"
   ]
  },
  {
   "cell_type": "code",
   "execution_count": 39,
   "id": "100326b7-2b71-469e-923f-940e4944c2bd",
   "metadata": {},
   "outputs": [
    {
     "data": {
      "text/plain": [
       "(1976683, 16)"
      ]
     },
     "execution_count": 39,
     "metadata": {},
     "output_type": "execute_result"
    }
   ],
   "source": [
    "data.shape"
   ]
  },
  {
   "cell_type": "code",
   "execution_count": 76,
   "id": "b7607a0a-e7b3-4443-ab01-f3ce757a5b3c",
   "metadata": {},
   "outputs": [],
   "source": [
    "#data_len = len(data) - batch_size - seq_length\n",
    "batch = 0\n",
    "x = []\n",
    "y_input = []\n",
    "y_target = []\n",
    "for word in range(batch_size):\n",
    "    start_ind = batch + word\n",
    "    middle_ind = start_ind + seq_length\n",
    "    end_ind = middle_ind + seq_length\n",
    "    x.append(data[start_ind : middle_ind])\n",
    "    y_input.append(data[middle_ind - 1 : end_ind - 1])\n",
    "    y_target.append(data[middle_ind : end_ind])"
   ]
  },
  {
   "cell_type": "code",
   "execution_count": 77,
   "id": "99f97eee-8cf6-4040-93bf-4c86a7f1cd9c",
   "metadata": {},
   "outputs": [],
   "source": [
    "x = torch.as_tensor(x)#.to(device)\n",
    "y_input = torch.as_tensor(y_input)#.to(device)\n",
    "y_target = torch.as_tensor(y_target)#.to(device)"
   ]
  },
  {
   "cell_type": "code",
   "execution_count": 78,
   "id": "7af78495-185e-4c57-9d17-9e5780b182c7",
   "metadata": {},
   "outputs": [
    {
     "data": {
      "text/plain": [
       "torch.Size([64, 32, 16])"
      ]
     },
     "execution_count": 78,
     "metadata": {},
     "output_type": "execute_result"
    }
   ],
   "source": [
    "x.shape"
   ]
  },
  {
   "cell_type": "code",
   "execution_count": 81,
   "id": "290cb460-e970-4362-8f6c-40cc7418d63d",
   "metadata": {},
   "outputs": [],
   "source": [
    "embedd = Embedder(word_length, emb_layers, d_emb, 0, seq_length)"
   ]
  },
  {
   "cell_type": "code",
   "execution_count": 82,
   "id": "9cfc6186-4f32-476d-b66d-bf156867e25b",
   "metadata": {},
   "outputs": [],
   "source": [
    "line = 'hi how'\n",
    "ques = get_data_from_line(line, word_length, char_to_num)\n",
    "ques = torch.Tensor(ques).unsqueeze(0)"
   ]
  },
  {
   "cell_type": "code",
   "execution_count": 83,
   "id": "eaaf3110-4f29-406d-94c8-0b162e1b2c4e",
   "metadata": {},
   "outputs": [
    {
     "data": {
      "text/plain": [
       "torch.Size([1, 2, 16])"
      ]
     },
     "execution_count": 83,
     "metadata": {},
     "output_type": "execute_result"
    }
   ],
   "source": [
    "ques.shape"
   ]
  },
  {
   "cell_type": "code",
   "execution_count": 84,
   "id": "b18968ab-cbc8-4e1b-8781-6baf945d29db",
   "metadata": {},
   "outputs": [
    {
     "name": "stdout",
     "output_type": "stream",
     "text": [
      "torch.Size([2, 1, 16])\n",
      "torch.Size([2, 32, 16])\n"
     ]
    }
   ],
   "source": [
    "x_out = embedd(ques.float())"
   ]
  },
  {
   "cell_type": "code",
   "execution_count": 85,
   "id": "3422bc52-f8f9-4263-af64-0ecf8739f90f",
   "metadata": {},
   "outputs": [
    {
     "data": {
      "text/plain": [
       "torch.Size([1, 2, 256])"
      ]
     },
     "execution_count": 85,
     "metadata": {},
     "output_type": "execute_result"
    }
   ],
   "source": [
    "x_out.shape"
   ]
  },
  {
   "cell_type": "code",
   "execution_count": null,
   "id": "638c43df-d49d-4409-a1d9-aa2bafb12533",
   "metadata": {},
   "outputs": [],
   "source": [
    "model.eval()\n",
    "with torch.no_grad():\n",
    "    encoded = model.encode(question)\n",
    "    reply = [question[:, -1, :]]# + [word_map['<pad>']] * 31]\n",
    "    reply = torch.Tensor(reply).to(device)\n",
    "    for step in range(3):\n",
    "        dims = reply.size(-1)\n",
    "        reply_mask = torch.triu(torch.ones(dims, dims)).transpose(0, 1).type(dtype=torch.uint8)\n",
    "        reply_mask = reply_mask.to(device).unsqueeze(0).unsqueeze(0)\n",
    "        decoded = model.decode(encoded, reply)\n",
    "        #print(decoded.shape)\n",
    "        predictions = model.out(decoded[:, -1])\n",
    "        out = model.out_1(decoded)\n",
    "        out = F.relu(out)\n",
    "        out = model.out_2(out)\n",
    "        out = F.sigmoid(out)\n",
    "        out = out.item()\n",
    "\n",
    "        reply = torch.cat([reply, torch.Tensor([[out]]).to(device)], dim = 1) \n"
   ]
  },
  {
   "cell_type": "code",
   "execution_count": null,
   "id": "5e202a91-db6c-44d0-a671-13600975b8de",
   "metadata": {},
   "outputs": [],
   "source": []
  },
  {
   "cell_type": "code",
   "execution_count": 79,
   "id": "e2937bd7-071e-4148-8ef5-aefd5780c4f8",
   "metadata": {},
   "outputs": [
    {
     "name": "stdout",
     "output_type": "stream",
     "text": [
      "torch.Size([2048, 1, 16])\n",
      "torch.Size([2048, 32, 16])\n"
     ]
    }
   ],
   "source": [
    "x_out = embedd(x.float())"
   ]
  },
  {
   "cell_type": "code",
   "execution_count": 308,
   "id": "f711259b-b0cc-4710-8e2e-3ac608a14d2d",
   "metadata": {},
   "outputs": [
    {
     "data": {
      "text/plain": [
       "torch.Size([64, 32, 256])"
      ]
     },
     "execution_count": 308,
     "metadata": {},
     "output_type": "execute_result"
    }
   ],
   "source": [
    "x_out.shape"
   ]
  },
  {
   "cell_type": "code",
   "execution_count": 60,
   "id": "9bc6bdb7-fc84-43d2-8455-c33393bdc65c",
   "metadata": {},
   "outputs": [],
   "source": []
  },
  {
   "cell_type": "code",
   "execution_count": 61,
   "id": "21c96c58-bb72-48d6-95ef-4f841b6ab69d",
   "metadata": {},
   "outputs": [
    {
     "data": {
      "text/plain": [
       "torch.Size([1, 2, 16])"
      ]
     },
     "execution_count": 61,
     "metadata": {},
     "output_type": "execute_result"
    }
   ],
   "source": []
  },
  {
   "cell_type": "code",
   "execution_count": 31,
   "id": "0cace834-d05d-4932-8fa6-d5becb0135f7",
   "metadata": {},
   "outputs": [
    {
     "data": {
      "text/plain": [
       "4226547712"
      ]
     },
     "execution_count": 31,
     "metadata": {},
     "output_type": "execute_result"
    }
   ],
   "source": [
    "torch.cuda.get_device_properties(0).total_memory"
   ]
  },
  {
   "cell_type": "code",
   "execution_count": null,
   "id": "b9604310-7806-48dc-922a-da0119f7d6d1",
   "metadata": {},
   "outputs": [],
   "source": []
  },
  {
   "cell_type": "code",
   "execution_count": null,
   "id": "4b073df6-3469-4d72-b1a2-4c86ca08ae90",
   "metadata": {},
   "outputs": [],
   "source": []
  },
  {
   "cell_type": "code",
   "execution_count": 305,
   "id": "01a88692-cd9a-4095-b44f-bc0b7009eaea",
   "metadata": {},
   "outputs": [],
   "source": []
  },
  {
   "cell_type": "code",
   "execution_count": null,
   "id": "f7d32d41-e8af-43cf-8ffe-9e72124e6ee7",
   "metadata": {},
   "outputs": [],
   "source": []
  },
  {
   "cell_type": "code",
   "execution_count": null,
   "id": "e97babe4-5bfc-475b-b692-57a4b297b6c7",
   "metadata": {},
   "outputs": [],
   "source": []
  },
  {
   "cell_type": "code",
   "execution_count": null,
   "id": "ff7ad26c-74e1-428e-9870-ebd2e2750035",
   "metadata": {},
   "outputs": [],
   "source": []
  },
  {
   "cell_type": "code",
   "execution_count": null,
   "id": "55f0e1af-a154-45c8-96b2-41c6b56ca449",
   "metadata": {},
   "outputs": [],
   "source": []
  },
  {
   "cell_type": "code",
   "execution_count": null,
   "id": "e7ea91da-0cd1-4ee1-9080-5ba2f95c53ed",
   "metadata": {},
   "outputs": [],
   "source": []
  },
  {
   "cell_type": "code",
   "execution_count": null,
   "id": "06273110-8bf7-41a5-99e7-88e7c20069c3",
   "metadata": {},
   "outputs": [],
   "source": []
  },
  {
   "cell_type": "code",
   "execution_count": null,
   "id": "2bb6e4c2-002e-477f-b121-45d54d4316ca",
   "metadata": {},
   "outputs": [],
   "source": []
  },
  {
   "cell_type": "code",
   "execution_count": null,
   "id": "09234e08-3407-4d4e-806d-4dcf310f0c9c",
   "metadata": {},
   "outputs": [],
   "source": []
  },
  {
   "cell_type": "code",
   "execution_count": null,
   "id": "2673956e-a98d-428d-bc97-22a745bf580e",
   "metadata": {},
   "outputs": [],
   "source": []
  },
  {
   "cell_type": "code",
   "execution_count": null,
   "id": "86961621-f277-4431-a3fd-569a2e907dcb",
   "metadata": {},
   "outputs": [],
   "source": []
  },
  {
   "cell_type": "code",
   "execution_count": null,
   "id": "0bff1219-be17-42d4-bbc3-53397092df45",
   "metadata": {},
   "outputs": [],
   "source": []
  },
  {
   "cell_type": "code",
   "execution_count": 28,
   "id": "467dc20e-a988-4f22-98b9-a94c161ad0a5",
   "metadata": {},
   "outputs": [],
   "source": []
  },
  {
   "cell_type": "code",
   "execution_count": 29,
   "id": "d2c64944-9852-4a02-9c55-833cda06f103",
   "metadata": {},
   "outputs": [],
   "source": []
  },
  {
   "cell_type": "code",
   "execution_count": 30,
   "id": "97aa5425-b02f-46c2-be59-899bbae10f52",
   "metadata": {},
   "outputs": [],
   "source": []
  },
  {
   "cell_type": "code",
   "execution_count": null,
   "id": "1a442746-4705-48ca-a2b8-fe206b45f25c",
   "metadata": {},
   "outputs": [],
   "source": []
  },
  {
   "cell_type": "code",
   "execution_count": null,
   "id": "5ea4c0b4-6b18-4ecd-ab8d-23ecda8027fb",
   "metadata": {},
   "outputs": [],
   "source": []
  },
  {
   "cell_type": "code",
   "execution_count": null,
   "id": "4fbae493-78f7-4b90-a772-6ed23c11b134",
   "metadata": {},
   "outputs": [],
   "source": []
  },
  {
   "cell_type": "code",
   "execution_count": 40,
   "id": "c7356576-a624-4bd0-8f06-a09e8e8d8369",
   "metadata": {},
   "outputs": [
    {
     "name": "stdout",
     "output_type": "stream",
     "text": [
      " Costa\u0000\u0000\u0000\u0000\u0000\u0000\u0000\u0000\u0000\u0000\u0000 Rica\u0000\u0000\u0000\u0000\u0000\u0000\u0000\u0000\u0000\u0000\u0000\u0000 and\u0000\u0000\u0000\u0000\u0000\u0000\u0000\u0000\u0000\u0000\u0000\u0000\u0000 Qater\u0000\u0000\u0000\u0000\u0000\u0000\u0000\u0000\u0000\u0000\u0000 each\u0000\u0000\u0000\u0000\u0000\u0000\u0000\u0000\u0000\u0000\u0000\u0000 made\u0000\u0000\u0000\u0000\u0000\u0000\u0000\u0000\u0000\u0000\u0000\u0000 their\u0000\u0000\u0000\u0000\u0000\u0000\u0000\u0000\u0000\u0000\u0000 debut\u0000\u0000\u0000\u0000\u0000\u0000\u0000\u0000\u0000\u0000\u0000 in\u0000\u0000\u0000\u0000\u0000\u0000\u0000\u0000\u0000\u0000\u0000\u0000\u0000\u0000 the\u0000\u0000\u0000\u0000\u0000\u0000\u0000\u0000\u0000\u0000\u0000\u0000\u0000 event.\u0000\u0000\u0000\u0000\u0000\u0000\u0000\u0000\u0000\u0000 The\u0000\u0000\u0000\u0000\u0000\u0000\u0000\u0000\u0000\u0000\u0000\u0000\u0000 United\u0000\u0000\u0000\u0000\u0000\u0000\u0000\u0000\u0000\u0000 States\u0000\u0000\u0000\u0000\u0000\u0000\u0000\u0000\u0000\u0000 appeared\u0000\u0000\u0000\u0000\u0000\u0000\u0000\u0000 for\u0000\u0000\u0000\u0000\u0000\u0000\u0000\u0000\u0000\u0000\u0000\u0000\u0000 the\u0000\u0000\u0000\u0000\u0000\u0000\u0000\u0000\u0000\u0000\u0000\u0000\u0000 26th\u0000\u0000\u0000\u0000\u0000\u0000\u0000\u0000\u0000\u0000\u0000\u0000 time,\u0000\u0000\u0000\u0000\u0000\u0000\u0000\u0000\u0000\u0000\u0000 most\u0000\u0000\u0000\u0000\u0000\u0000\u0000\u0000\u0000\u0000\u0000\u0000 of\u0000\u0000\u0000\u0000\u0000\u0000\u0000\u0000\u0000\u0000\u0000\u0000\u0000\u0000 any\u0000\u0000\u0000\u0000\u0000\u0000\u0000\u0000\u0000\u0000\u0000\u0000\u0000 nation,\u0000\u0000\u0000\u0000\u0000\u0000\u0000\u0000\u0000 having\u0000\u0000\u0000\u0000\u0000\u0000\u0000\u0000\u0000\u0000 missed\u0000\u0000\u0000\u0000\u0000\u0000\u0000\u0000\u0000\u0000 only\u0000\u0000\u0000\u0000\u0000\u0000\u0000\u0000\u0000\u0000\u0000\u0000 the\u0000\u0000\u0000\u0000\u0000\u0000\u0000\u0000\u0000\u0000\u0000\u0000\u0000 boycotted\u0000\u0000\u0000\u0000\u0000\u0000\u0000 1980\u0000\u0000\u0000\u0000\u0000\u0000\u0000\u0000\u0000\u0000\u0000\u0000 Games.\u0000\u0000\u0000\u0000\u0000\u0000\u0000\u0000\u0000\u0000 Summary.\u0000\u0000\u0000\u0000\u0000\u0000\u0000\u0000 The\u0000\u0000\u0000\u0000\u0000\u0000\u0000\u0000\u0000\u0000\u0000\u0000\u0000 hammer\u0000\u0000\u0000\u0000\u0000\u0000\u0000\u0000\u0000\u0000\n"
     ]
    }
   ],
   "source": []
  },
  {
   "cell_type": "code",
   "execution_count": null,
   "id": "4da4a301-8fbf-4b73-a6b8-5fabeb8a79a3",
   "metadata": {},
   "outputs": [],
   "source": []
  },
  {
   "cell_type": "code",
   "execution_count": null,
   "id": "59fb156a-5967-4bc5-967e-86a5769c98c6",
   "metadata": {},
   "outputs": [],
   "source": []
  },
  {
   "cell_type": "code",
   "execution_count": null,
   "id": "dcffad5b-fc87-4368-8a13-7381f230143d",
   "metadata": {},
   "outputs": [],
   "source": []
  },
  {
   "cell_type": "code",
   "execution_count": null,
   "id": "bbf4605d-a5d8-4d72-be51-02192d3ff5e8",
   "metadata": {},
   "outputs": [],
   "source": []
  },
  {
   "cell_type": "code",
   "execution_count": null,
   "id": "1ad63c7b-f211-437e-9717-e22e5d18d5cc",
   "metadata": {},
   "outputs": [],
   "source": []
  },
  {
   "cell_type": "code",
   "execution_count": null,
   "id": "54a8133c-3f4d-4716-a1d9-267412e64d5a",
   "metadata": {},
   "outputs": [],
   "source": []
  },
  {
   "cell_type": "code",
   "execution_count": 214,
   "id": "fc9ce5d4-7723-43a5-b577-f8b6da76cf1d",
   "metadata": {},
   "outputs": [],
   "source": [
    "class CBOWModeler(nn.Module):\n",
    "    def __init__(self, vocab_size, embedding_dim, context_size):\n",
    "        super(CBOWModeler, self).__init__()\n",
    "        self.embeddings = nn.Embedding(vocab_size, embedding_dim)\n",
    "        self.linear1 = nn.Linear(context_size*embedding_dim, 128)\n",
    "        self.linear2 = nn.Linear(128, vocab_size)\n",
    "        \n",
    "    def forward(self, x):\n",
    "        embeds = self.embeddings(x).view(1,-1)\n",
    "        output = self.linear1(embeds)\n",
    "        output = F.relu(output)\n",
    "        output = self.linear2(output)\n",
    "        log_probs = F.log_softmax(output, dim=1)\n",
    "        return log_probs"
   ]
  },
  {
   "cell_type": "code",
   "execution_count": null,
   "id": "a4de2e46-6be6-46fd-8e77-efab87de5b0f",
   "metadata": {},
   "outputs": [],
   "source": []
  },
  {
   "cell_type": "code",
   "execution_count": null,
   "id": "18cfc567-3eff-4dd7-8674-2fd849ad0898",
   "metadata": {},
   "outputs": [],
   "source": []
  },
  {
   "cell_type": "code",
   "execution_count": null,
   "id": "22e067e4-c27a-4fa6-94b5-93ca5a2d72f8",
   "metadata": {},
   "outputs": [],
   "source": [
    "torch.einsum('...td,...id->...ti', tens1, tens2)"
   ]
  },
  {
   "cell_type": "code",
   "execution_count": null,
   "id": "90804803-b4ce-4e90-a050-0fb44596b4b2",
   "metadata": {},
   "outputs": [],
   "source": [
    "rearrange(tens2, '... i j -> ... (i j)')"
   ]
  },
  {
   "cell_type": "code",
   "execution_count": 30,
   "id": "65bcc8ca-ade6-4980-a0b7-ca5e892c1a03",
   "metadata": {},
   "outputs": [
    {
     "data": {
      "text/plain": [
       "4"
      ]
     },
     "execution_count": 30,
     "metadata": {},
     "output_type": "execute_result"
    }
   ],
   "source": [
    "tens1.size(-1)"
   ]
  },
  {
   "cell_type": "code",
   "execution_count": 23,
   "id": "640bb055-0fb7-452e-b2d8-63b421d4cf03",
   "metadata": {},
   "outputs": [
    {
     "data": {
      "text/plain": [
       "tensor([[0, 0, 0, 0, 0, 1, 1, 1, 1, 2, 2, 2, 3, 3, 4],\n",
       "        [0, 1, 2, 3, 4, 1, 2, 3, 4, 2, 3, 4, 3, 4, 4]])"
      ]
     },
     "execution_count": 23,
     "metadata": {},
     "output_type": "execute_result"
    }
   ],
   "source": [
    "torch.triu_indices(5, 5, offset = 1)"
   ]
  },
  {
   "cell_type": "code",
   "execution_count": 59,
   "id": "66f19d68-2095-4758-bdca-38581ffb7a1f",
   "metadata": {},
   "outputs": [
    {
     "data": {
      "text/plain": [
       "(4, 5, 3, 2)"
      ]
     },
     "execution_count": 59,
     "metadata": {},
     "output_type": "execute_result"
    }
   ],
   "source": []
  },
  {
   "cell_type": "code",
   "execution_count": null,
   "id": "e00374e8-8797-45d2-b46b-a137c08eb00f",
   "metadata": {},
   "outputs": [],
   "source": []
  },
  {
   "cell_type": "code",
   "execution_count": null,
   "id": "cd5b2cef-3a13-4774-921f-4b4b763985a3",
   "metadata": {},
   "outputs": [],
   "source": []
  },
  {
   "cell_type": "code",
   "execution_count": null,
   "id": "66a82cfc-b8dc-4dea-8321-c045b439f301",
   "metadata": {},
   "outputs": [],
   "source": []
  },
  {
   "cell_type": "code",
   "execution_count": 37,
   "id": "45f05521-25c5-42e0-8b4e-0675e246b22e",
   "metadata": {},
   "outputs": [
    {
     "data": {
      "text/plain": [
       "tensor([[[7, 4],\n",
       "         [6, 8],\n",
       "         [6, 9]],\n",
       "\n",
       "        [[6, 4],\n",
       "         [5, 5],\n",
       "         [3, 5]],\n",
       "\n",
       "        [[4, 7],\n",
       "         [1, 7],\n",
       "         [3, 2]],\n",
       "\n",
       "        [[3, 9],\n",
       "         [5, 9],\n",
       "         [6, 2]]])"
      ]
     },
     "execution_count": 37,
     "metadata": {},
     "output_type": "execute_result"
    }
   ],
   "source": [
    "tempo = torch.einsum('...ij->...ji', tens2)\n",
    "tempo"
   ]
  },
  {
   "cell_type": "code",
   "execution_count": 39,
   "id": "80b170dd-d592-415b-bfc5-78788d83940a",
   "metadata": {},
   "outputs": [
    {
     "data": {
      "text/plain": [
       "tensor([[[ 86,  72],\n",
       "         [136, 169]],\n",
       "\n",
       "        [[ 91,  89],\n",
       "         [ 75,  67]],\n",
       "\n",
       "        [[ 66, 121],\n",
       "         [ 46, 105]],\n",
       "\n",
       "        [[ 66, 130],\n",
       "         [ 78, 118]]])"
      ]
     },
     "execution_count": 39,
     "metadata": {},
     "output_type": "execute_result"
    }
   ],
   "source": [
    "torch.einsum('...ij,...jk->...ik', tens1, tempo)"
   ]
  },
  {
   "cell_type": "code",
   "execution_count": 40,
   "id": "897e4329-2c5a-4a4f-9186-884485dbe2d4",
   "metadata": {},
   "outputs": [
    {
     "data": {
      "text/plain": [
       "tensor([[[ 86,  72],\n",
       "         [136, 169]],\n",
       "\n",
       "        [[ 91,  89],\n",
       "         [ 75,  67]],\n",
       "\n",
       "        [[ 66, 121],\n",
       "         [ 46, 105]],\n",
       "\n",
       "        [[ 66, 130],\n",
       "         [ 78, 118]]])"
      ]
     },
     "execution_count": 40,
     "metadata": {},
     "output_type": "execute_result"
    }
   ],
   "source": [
    "torch.einsum('...ij,...kj->...ik', tens1, tens2)"
   ]
  },
  {
   "cell_type": "code",
   "execution_count": 2,
   "id": "5996d055-aba9-46cb-9960-5d90082ce484",
   "metadata": {},
   "outputs": [
    {
     "data": {
      "text/plain": [
       "tensor([0.6391, 0.9772, 0.2742])"
      ]
     },
     "execution_count": 2,
     "metadata": {},
     "output_type": "execute_result"
    }
   ],
   "source": [
    "arr = torch.rand(2, 3, 4)\n",
    "arr"
   ]
  },
  {
   "cell_type": "code",
   "execution_count": 4,
   "id": "dcb78fd0-0f6f-4055-aaa8-89cb3bc501cf",
   "metadata": {},
   "outputs": [],
   "source": [
    "arr = []\n",
    "for _ in range(5):\n",
    "    arr.append(torch.rand(2, 3, 4))"
   ]
  },
  {
   "cell_type": "code",
   "execution_count": 5,
   "id": "dc1cc6f4-5890-4018-aed5-1a400bb3d762",
   "metadata": {},
   "outputs": [
    {
     "data": {
      "text/plain": [
       "torch.Size([5, 2, 3, 4])"
      ]
     },
     "execution_count": 5,
     "metadata": {},
     "output_type": "execute_result"
    }
   ],
   "source": [
    "torch.stack(arr).shape"
   ]
  },
  {
   "cell_type": "code",
   "execution_count": null,
   "id": "0f175768-8854-468a-a8c2-f0aba35c8900",
   "metadata": {},
   "outputs": [],
   "source": []
  },
  {
   "cell_type": "code",
   "execution_count": 45,
   "id": "ac3a9264-5a0f-4ce6-970c-254d0f6f2c5b",
   "metadata": {},
   "outputs": [
    {
     "data": {
      "text/plain": [
       "tensor([0.6118, 0.5302, 0.4942])"
      ]
     },
     "execution_count": 45,
     "metadata": {},
     "output_type": "execute_result"
    }
   ],
   "source": [
    "arr1 = torch.rand(3)\n",
    "arr1"
   ]
  },
  {
   "cell_type": "code",
   "execution_count": 46,
   "id": "7a003740-fbd3-4ab1-8399-7b101c2e9e62",
   "metadata": {},
   "outputs": [
    {
     "data": {
      "text/plain": [
       "tensor([0.1638, 0.3527, 0.2306])"
      ]
     },
     "execution_count": 46,
     "metadata": {},
     "output_type": "execute_result"
    }
   ],
   "source": [
    "arr * arr1"
   ]
  },
  {
   "cell_type": "code",
   "execution_count": 89,
   "id": "f75e5fe7-02a1-4a00-ab39-c722d85249d6",
   "metadata": {},
   "outputs": [
    {
     "data": {
      "text/plain": [
       "array([2, 1, 1])"
      ]
     },
     "execution_count": 89,
     "metadata": {},
     "output_type": "execute_result"
    }
   ],
   "source": [
    "arr.min(axis = (0,2))"
   ]
  },
  {
   "cell_type": "code",
   "execution_count": 8,
   "id": "c9054b53-5cf1-4cd1-9337-bcbd41a2f067",
   "metadata": {},
   "outputs": [],
   "source": [
    "dr = 0"
   ]
  },
  {
   "cell_type": "code",
   "execution_count": 5,
   "id": "ed02d1d7-9af4-41a4-87e7-691a562790f7",
   "metadata": {},
   "outputs": [
    {
     "name": "stdout",
     "output_type": "stream",
     "text": [
      "5\n"
     ]
    }
   ],
   "source": [
    "if dr:\n",
    "    dr = 5\n",
    "else:\n",
    "    dr = None\n",
    "print(dr)"
   ]
  },
  {
   "cell_type": "code",
   "execution_count": 9,
   "id": "a61c58e8-c8bf-41cb-8ba9-489aea4ace80",
   "metadata": {},
   "outputs": [
    {
     "name": "stdout",
     "output_type": "stream",
     "text": [
      "None\n"
     ]
    }
   ],
   "source": [
    "dr = 4 if dr else None\n",
    "print(dr)"
   ]
  },
  {
   "cell_type": "code",
   "execution_count": null,
   "id": "832224cb-bec5-4f4d-9cfb-9a2414b82daa",
   "metadata": {},
   "outputs": [],
   "source": []
  },
  {
   "cell_type": "markdown",
   "id": "cfcc2916-12b4-444f-9f64-603b3893053d",
   "metadata": {},
   "source": [
    "# Archive"
   ]
  },
  {
   "cell_type": "code",
   "execution_count": null,
   "id": "28d43843-9a87-4d8e-bbe6-ef38ae6a1a4e",
   "metadata": {},
   "outputs": [],
   "source": []
  }
 ],
 "metadata": {
  "kernelspec": {
   "display_name": "Python 3",
   "language": "python",
   "name": "python3"
  },
  "language_info": {
   "codemirror_mode": {
    "name": "ipython",
    "version": 3
   },
   "file_extension": ".py",
   "mimetype": "text/x-python",
   "name": "python",
   "nbconvert_exporter": "python",
   "pygments_lexer": "ipython3",
   "version": "3.8.8"
  }
 },
 "nbformat": 4,
 "nbformat_minor": 5
}
