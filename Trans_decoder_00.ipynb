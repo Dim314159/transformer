{
 "cells": [
  {
   "cell_type": "code",
   "execution_count": 1,
   "id": "7912bd76-4a05-41ed-a095-85c9c282750d",
   "metadata": {},
   "outputs": [],
   "source": [
    "from einops import rearrange\n",
    "import numpy as np\n",
    "\n",
    "import matplotlib.pyplot as plt\n",
    "\n",
    "import torch\n",
    "import torch.nn as nn\n",
    "from torch.utils.data import Dataset\n",
    "import torch.utils.data\n",
    "import torch.nn.functional as F\n",
    "\n",
    "\n",
    "import glob\n",
    "import re\n",
    "\n",
    "import json\n",
    "\n",
    "from datetime import datetime as dt"
   ]
  },
  {
   "cell_type": "code",
   "execution_count": null,
   "id": "217c3dc5-4988-478b-82f3-680496b98ff7",
   "metadata": {},
   "outputs": [],
   "source": []
  },
  {
   "cell_type": "markdown",
   "id": "7ba2e554-d1c9-448b-a30a-a6bef59b8972",
   "metadata": {
    "tags": []
   },
   "source": [
    "# Helpers"
   ]
  },
  {
   "cell_type": "markdown",
   "id": "33462758-895b-4388-8851-95ace833a9aa",
   "metadata": {},
   "source": [
    "## functions"
   ]
  },
  {
   "cell_type": "code",
   "execution_count": 2,
   "id": "d2bb5c41-7acb-442d-a32e-100df7530a89",
   "metadata": {},
   "outputs": [],
   "source": [
    "def clean_line(line):\n",
    "    line = line.lower()\n",
    "    replace = [('\\\\', ' / '), ('[', ' ( '), ('{', ' ( '), (']', ' ) '), ('}', ' ) ')] # , ('/', ' / ')\n",
    "    for rep in replace:\n",
    "        if rep[0] in line:\n",
    "            line = line.replace(rep[0], rep[1])\n",
    "    line = re.sub('[^!-@_a-z ]', '', line)\n",
    "    line = re.findall(r\"[\\w']+|[^\\w\\s]\", line, re.UNICODE)\n",
    "    return line"
   ]
  },
  {
   "cell_type": "code",
   "execution_count": 3,
   "id": "e68b2c1d-44e5-4e70-888b-1f2e2f93e0b5",
   "metadata": {},
   "outputs": [],
   "source": [
    "def get_data_from_file(file_name, token_map, words_tokenized, words_to_index):\n",
    "    data = []\n",
    "    counter = 0\n",
    "    with open(file_name, 'r') as f:\n",
    "        for line in f:\n",
    "            word = line[:-1]\n",
    "            if line == '.':\n",
    "                counter += 1\n",
    "                if counter > 1:\n",
    "                    continue\n",
    "            else:\n",
    "                counter = 0\n",
    "            tokens = words_tokenized[words_to_index[word]]\n",
    "            enc = [token_map[tok] for tok in tokens]\n",
    "            data.extend(enc)\n",
    "    return torch.LongTensor(data)"
   ]
  },
  {
   "cell_type": "code",
   "execution_count": null,
   "id": "2d17e0e8-7c56-44ec-b407-1f978e9c430a",
   "metadata": {},
   "outputs": [],
   "source": []
  },
  {
   "cell_type": "code",
   "execution_count": 4,
   "id": "78db2eed-5bd9-4a24-85f7-4ee26db378f3",
   "metadata": {},
   "outputs": [],
   "source": [
    "def set_dropout(model, drop_rate):\n",
    "    for name, child in model.named_children():\n",
    "        if isinstance(child, torch.nn.Dropout):\n",
    "            child.p = drop_rate\n",
    "        set_dropout(child, drop_rate = drop_rate)\n",
    "\n",
    "def set_lr(optimizer, lr):\n",
    "    for g in optimizer.param_groups:\n",
    "        g['lr'] = lr"
   ]
  },
  {
   "cell_type": "code",
   "execution_count": 5,
   "id": "0b62d014-f494-45dc-8658-8cfd3001dbad",
   "metadata": {},
   "outputs": [],
   "source": [
    "def plot_loss(loss):\n",
    "    plt.plot(loss)\n",
    "    #plt.xlabel('', fontsize=20)\n",
    "    plt.ylabel('loss', fontsize=20)\n",
    "    plt.show()"
   ]
  },
  {
   "cell_type": "code",
   "execution_count": null,
   "id": "1762a6d7-3c28-45c9-a4ab-62e67a9a6b70",
   "metadata": {},
   "outputs": [],
   "source": []
  },
  {
   "cell_type": "markdown",
   "id": "444a6f33-1b8e-4514-83d2-50e7112a76f3",
   "metadata": {
    "tags": []
   },
   "source": [
    "# training/evaluating functions"
   ]
  },
  {
   "cell_type": "code",
   "execution_count": 82,
   "id": "d7d24027-cda2-4ac0-9ce8-bdeaacd51a14",
   "metadata": {},
   "outputs": [],
   "source": [
    "def train(model, texts, token_map, words_tokenized, words_to_index, criterion, model_optimizer, train_hp, \n",
    "          save = False):\n",
    "    epochs, batch_size, seq_length, frequency, my_path, model_name = train_hp\n",
    "    loss_train = []\n",
    "    start_time = dt.now()\n",
    "    model.train()\n",
    "    \n",
    "    x = torch.empty((batch_size, seq_length), dtype = torch.long, device = device)\n",
    "    y = torch.empty((batch_size, seq_length), dtype = torch.long, device = device)\n",
    "    #y_input[:, 0] = token_map['^']\n",
    "    # for one file\n",
    "#     file_name = np.random.choice(texts)\n",
    "#     data = get_data_from_file(file_name, token_map, words_tokenized, words_to_index)\n",
    "    for ep in range(1, epochs + 1):\n",
    "        # for many files\n",
    "        file_name = np.random.choice(texts)\n",
    "        data = get_data_from_file(file_name, token_map, words_tokenized, words_to_index)\n",
    "        ##\n",
    "        data_len = data.size(0) - seq_length - 2\n",
    "        #order = np.random.permutation(np.arange(0, data_len, seq_length // frequency))\n",
    "        samples_amount = int(data_len / seq_length * frequency)\n",
    "        order = np.random.choice(np.arange(data_len), size = samples_amount, replace = False)\n",
    "        or_length = order.shape[0]\n",
    "        loss_tempo = []\n",
    "        j = 0\n",
    "        for i, start_ind in enumerate(order):\n",
    "            end_ind = start_ind + seq_length\n",
    "            x[j] = data[start_ind : end_ind]\n",
    "            y[j] = data[start_ind + 1 : end_ind + 1]\n",
    "            \n",
    "            j += 1\n",
    "            if j % batch_size == 0 or i == or_length - 1:\n",
    "                j = 0\n",
    "            \n",
    "                out = model(x)\n",
    "                loss = criterion(out, y)\n",
    "\n",
    "                #model_optimizer.optimizer.zero_grad()\n",
    "                model_optimizer.zero_grad()\n",
    "                loss.backward()\n",
    "                model_optimizer.step()\n",
    "\n",
    "                loss_t = loss.item()\n",
    "                loss_tempo.append(loss_t)\n",
    "            \n",
    "                elapsed = dt.now() - start_time\n",
    "                secs = elapsed.seconds\n",
    "                ratio = (i + 1) / or_length\n",
    "                printout = '\\r[%-16s] %d%%, batch: %d, %02d:%02d:%02d:%02d, epoch: %d/%d, total: %d, loss: %f' % (\n",
    "                    '='*round(16 * ratio), round(100 * ratio), (i + 1) // batch_size, elapsed.days, secs // 3600, \n",
    "                    secs // 60 % 60, secs % 60, ep, epochs,model.epochs, loss_t)\n",
    "                print(printout, end = '', flush = True)\n",
    "        model.epochs += 1\n",
    "        ep_loss = np.mean(np.asarray(loss_tempo), axis=0)\n",
    "        loss_train.extend(loss_tempo)\n",
    "        model.losses.append(ep_loss)\n",
    "        \n",
    "        if save:\n",
    "            state = {'model': model.state_dict(), 'model_optimizer': model_optimizer, \n",
    "                     'criterion': criterion, \n",
    "                     'model_hp' : model_hp}\n",
    "            torch.save(state, my_path + model_name)\n",
    "    print('\\nDone')\n",
    "    return loss_train"
   ]
  },
  {
   "cell_type": "code",
   "execution_count": 7,
   "id": "534fc47f-dd7f-4cfa-bf16-c56950b18e9a",
   "metadata": {},
   "outputs": [],
   "source": [
    "def get_data_from_line(model_token, line, words_tokenized, words_to_index, word_length, token_map, rev_token_map, \n",
    "                       parallel):\n",
    "    data = []\n",
    "    # specialy for this guten dialog\n",
    "    line = line.replace(',', '.')\n",
    "    ##\n",
    "    words = clean_line(line)\n",
    "    for word in words:\n",
    "        tokens = []\n",
    "        if word in words_to_index:\n",
    "            tokens = words_tokenized[words_to_index[word]]\n",
    "        else:\n",
    "            tokens = tokenize_word(model_token, word, word_length, token_map, rev_token_map, parallel)\n",
    "        enc = [token_map[tok] for tok in tokens]\n",
    "        data.extend(enc)\n",
    "    return torch.LongTensor(data)"
   ]
  },
  {
   "cell_type": "code",
   "execution_count": 8,
   "id": "8ceee8a8-279c-47df-9555-1503d01e48a9",
   "metadata": {},
   "outputs": [],
   "source": [
    "def tokenize_word(model, question, word_length, token_map, rev_token_map, parallel):\n",
    "    \"\"\"\n",
    "    Performs Greedy Decoding with a batch size of 1\n",
    "    \"\"\"    \n",
    "    \n",
    "    question = list(question) + ['^'] \n",
    "    question = [token_map[t] for t in question]\n",
    "    question = torch.LongTensor(question).to(device).unsqueeze(0)\n",
    "    question_mask = (question!=0).to(device).unsqueeze(1).unsqueeze(1)\n",
    "    start_token = token_map['^']\n",
    "    reply = [[start_token]]\n",
    "    reply = torch.LongTensor(reply).to(device)\n",
    "    model.eval()\n",
    "    with torch.no_grad():\n",
    "        for step in range(word_length - 1):\n",
    "            dims = reply.size(-1)\n",
    "            reply_mask = torch.triu(torch.ones(dims, dims)).transpose(0, 1).type(dtype=torch.uint8)\n",
    "            reply_mask = reply_mask.to(device).unsqueeze(0).unsqueeze(0)\n",
    "            if parallel:\n",
    "                decoded = model.encode_decode(question, question_mask, reply, reply_mask)\n",
    "            else:\n",
    "                encoded = model.encode(question, question_mask)\n",
    "                decoded = model.decode(encoded, question_mask, reply, reply_mask)\n",
    "            predictions = model.out(decoded[:, -1])\n",
    "            next_word = torch.argmax(predictions, dim = 1)\n",
    "            next_word = next_word.item()\n",
    "            reply = torch.cat([reply, torch.LongTensor([[next_word]]).to(device)], dim = 1)\n",
    "            if rev_token_map[next_word][-1] == '^':\n",
    "                break\n",
    "\n",
    "        # Construct Sentence\n",
    "        if reply.dim() == 2:\n",
    "            reply = reply.squeeze(0)\n",
    "            reply = reply.tolist()\n",
    "\n",
    "        word = [rev_token_map[k] for k in reply[1:]]\n",
    "    \n",
    "    return word"
   ]
  },
  {
   "cell_type": "code",
   "execution_count": 38,
   "id": "beaac43e-27a2-40e3-a81e-665ffbfb360a",
   "metadata": {},
   "outputs": [],
   "source": [
    "def evaluate(model, question, answer_len, seq_length, token_map, rev_token_map):\n",
    "    \"\"\"\n",
    "    Performs Greedy Decoding with a batch size of 1\n",
    "    \"\"\"\n",
    "    \n",
    "    #start_token = token_map['^']\n",
    "    #reply = [[start_token]]\n",
    "    reply = [[]]\n",
    "    reply = torch.LongTensor(reply).to(device)\n",
    "    final_reply = []\n",
    "    model.eval()\n",
    "    with torch.no_grad():\n",
    "        question_mask = (question != 0).to(device).unsqueeze(1).unsqueeze(1)\n",
    "        length = 0\n",
    "        while True:\n",
    "            decoded = model.decode(question)\n",
    "            prediction = model.out(decoded[:, -1])\n",
    "            next_word = torch.argmax(prediction, dim = 1).item()\n",
    "            final_reply.append(next_word)\n",
    "            if reply.shape[1] < 32:\n",
    "                reply = torch.cat([reply, torch.LongTensor([[next_word]]).to(device)], dim = 1) \n",
    "            else:\n",
    "                reply = torch.cat([reply[:, 1:], torch.LongTensor([[next_word]]).to(device)], dim = 1)\n",
    "            #if next_word != 4:\n",
    "            length += 1\n",
    "            if length > answer_len:\n",
    "                break\n",
    "                \n",
    "    final_reply = ''.join([rev_token_map[w] for w in final_reply])\n",
    "    final_reply = final_reply.replace('^', ' ')\n",
    "    final_reply = re.sub(r'(?<=[,.\\-()\":=&;!/$\\+%<>_#?\\*@1234567890])', r' ', final_reply)\n",
    "    return final_reply"
   ]
  },
  {
   "cell_type": "code",
   "execution_count": null,
   "id": "2d676c67-13f5-47d5-92af-4f7950d7c1ab",
   "metadata": {},
   "outputs": [],
   "source": []
  },
  {
   "cell_type": "code",
   "execution_count": null,
   "id": "f003c194-174b-4780-baab-505cb0eea01d",
   "metadata": {},
   "outputs": [],
   "source": []
  },
  {
   "cell_type": "markdown",
   "id": "6cb63071-8840-49a8-a562-58bdacd2a882",
   "metadata": {
    "tags": []
   },
   "source": [
    "# Models"
   ]
  },
  {
   "cell_type": "markdown",
   "id": "2d19cf19-13a4-4fc1-a4f3-36abc98da677",
   "metadata": {},
   "source": [
    "## embedding"
   ]
  },
  {
   "cell_type": "code",
   "execution_count": 40,
   "id": "c7b1e841-ee56-402d-9227-9157a3afda0d",
   "metadata": {},
   "outputs": [],
   "source": [
    "class Embedder_dec(nn.Module):\n",
    "    def __init__(self, vocab_size, d_emb, seq_length, emb_drop):\n",
    "        super().__init__()\n",
    "        self.embed = nn.Embedding(vocab_size, d_emb)\n",
    "        self.sr_d_emb = np.sqrt(d_emb)\n",
    "        self.dropout = nn.Dropout(emb_drop)\n",
    "        self.pe = nn.Parameter(torch.rand(seq_length, d_emb))\n",
    "    \n",
    "    def forward(self, x):\n",
    "        # make embeddings relatively larger\n",
    "        x = self.embed(x) * self.sr_d_emb\n",
    "        x = x + self.pe[: x.size(1)]\n",
    "        x = self.dropout(x)\n",
    "        return x"
   ]
  },
  {
   "cell_type": "code",
   "execution_count": null,
   "id": "946bc12b-880a-499a-97f2-3ae259f40ccb",
   "metadata": {},
   "outputs": [],
   "source": []
  },
  {
   "cell_type": "markdown",
   "id": "fa6d904a-41d6-44ff-936b-478c6b7d904c",
   "metadata": {
    "tags": []
   },
   "source": [
    "## transformer blocks"
   ]
  },
  {
   "cell_type": "markdown",
   "id": "df9f1e7e-a2be-4088-89ca-ce271ea637a5",
   "metadata": {},
   "source": [
    "### Multi Head Attention"
   ]
  },
  {
   "cell_type": "code",
   "execution_count": 41,
   "id": "fc4f72ae-7975-4e15-ad0c-601abbf89826",
   "metadata": {},
   "outputs": [],
   "source": [
    "class Multi_Head_Attention_dec(nn.Module):\n",
    "    def __init__(self, d_emb, hidden_dim, heads, mask = False):\n",
    "        super().__init__()\n",
    "        self.heads = heads\n",
    "        self.dim_per_head = hidden_dim // self.heads\n",
    "        self.mask = mask\n",
    "        self.qkv = nn.Linear(d_emb, hidden_dim * 3, bias = False)\n",
    "        self.unifyheads = nn.Linear(hidden_dim, d_emb)\n",
    "    \n",
    "    def self_attention(self, q, k, v):\n",
    "        scores = torch.einsum('...ij,...kj->...ik', q, k) / np.sqrt(self.dim_per_head)\n",
    "        if self.mask:\n",
    "            d = scores.size(-1)\n",
    "            inds = torch.triu_indices(d, d, offset = 1)\n",
    "            scores[..., inds[0], inds[1]] = -float('inf')\n",
    "        scores = F.softmax(scores, dim = -1)\n",
    "        return torch.einsum('...ij,...jk->...ik', scores, v)\n",
    "    \n",
    "    def forward(self, x):\n",
    "        qkv = self.qkv(x)\n",
    "        qkv = rearrange(qkv, '... i (h j) -> ... h i j', h = self.heads * 3)\n",
    "        q, k, v = torch.split(qkv, split_size_or_sections = self.heads, dim = -3)\n",
    "        scores = self.self_attention(q, k, v)\n",
    "        scores = rearrange(scores, '... h i j -> ... i (h j)').contiguous()\n",
    "        return self.unifyheads(scores)"
   ]
  },
  {
   "cell_type": "markdown",
   "id": "c2d75078-7be0-48cf-8259-4771b9908efe",
   "metadata": {},
   "source": [
    "### Decoder"
   ]
  },
  {
   "cell_type": "code",
   "execution_count": 42,
   "id": "85dc3c3b-91fd-4d8c-973b-0044cdb81cb0",
   "metadata": {},
   "outputs": [],
   "source": [
    "class Decoder_layer_dec(nn.Module):\n",
    "    def __init__(self, d_emb, d_hid, hidden_mult, heads, dec_drop):\n",
    "        super().__init__()\n",
    "        self.dropout = nn.Dropout(dec_drop)\n",
    "        \n",
    "        self.mha_masked = Multi_Head_Attention_dec(d_emb, d_hid, heads, mask = True)\n",
    "        self.norm_1 = nn.LayerNorm(d_emb)\n",
    "        self.mha = Multi_Head_Attention_dec(d_emb, d_hid, heads, mask = False)\n",
    "        self.norm_2 = nn.LayerNorm(d_emb)\n",
    "        self.ff = nn.Sequential(\n",
    "            nn.Linear(d_emb, hidden_mult * d_emb),\n",
    "            #nn.ReLU(),\n",
    "            nn.LeakyReLU(),\n",
    "            nn.Linear(hidden_mult * d_emb, d_emb)\n",
    "        )\n",
    "        self.norm_3 = nn.LayerNorm(d_emb)\n",
    "        \n",
    "    def forward(self, x):\n",
    "        attended = self.mha_masked(x)\n",
    "        x = attended + x\n",
    "        x = self.dropout(x)\n",
    "        x = self.norm_1(x)\n",
    "        attended = self.mha(x)\n",
    "        x = attended + x\n",
    "        x = self.dropout(x)\n",
    "        x = self.norm_2(x)\n",
    "        fed_for = self.ff(x)\n",
    "        x = fed_for + x\n",
    "        x = self.dropout(x)\n",
    "        x = self.norm_3(x)\n",
    "        return x"
   ]
  },
  {
   "cell_type": "code",
   "execution_count": null,
   "id": "2b40e445-e62b-448a-988d-d4875f085628",
   "metadata": {},
   "outputs": [],
   "source": []
  },
  {
   "cell_type": "markdown",
   "id": "3dd123d5-9141-48f8-8a7b-650e5112fbd2",
   "metadata": {
    "tags": []
   },
   "source": [
    "## Transformer"
   ]
  },
  {
   "cell_type": "code",
   "execution_count": 43,
   "id": "c836fe78-7c0a-46f3-b422-45f9be00615a",
   "metadata": {},
   "outputs": [],
   "source": [
    "class Trans_dec(nn.Module):\n",
    "    def __init__(self, model_hp):\n",
    "        super().__init__()\n",
    "        self.epochs = 0\n",
    "        self.losses = []\n",
    "#         dropouts, hidden_mult, hidden_dim, heads_order, d_emb, word_length, seq_length, emb_layers = model_hp\n",
    "#         emb_drop, enc_drop, dec_drop = dropouts\n",
    "        vocab_size, d_emb, hidden_mult, seq_length, order, dropouts = model_hp\n",
    "        emb_drop, dec_drop = dropouts\n",
    "        #self.embedder = Embedder(word_length, emb_layers, d_emb, emb_drop, seq_length)\n",
    "        self.embedder = Embedder_dec(vocab_size, d_emb, seq_length, emb_drop)\n",
    "        \n",
    "        self.decoder = nn.ModuleList()\n",
    "        for d_hid, heads in order:\n",
    "            self.decoder.append(Decoder_layer_dec(d_emb, d_hid, hidden_mult, heads, dec_drop))\n",
    "        \n",
    "        self.out = nn.Sequential(\n",
    "            nn.Linear(d_emb, d_emb * hidden_mult),\n",
    "            #nn.Relu(),\n",
    "            nn.LeakyReLU(),\n",
    "            nn.Linear(d_emb * hidden_mult, vocab_size)\n",
    "            )\n",
    "    \n",
    "    def decode(self, x):\n",
    "        x = self.embedder(x)\n",
    "        for dec in self.decoder:\n",
    "            x = dec(x)\n",
    "        return x\n",
    "    \n",
    "    def forward(self, x):\n",
    "        x = self.decode(x)\n",
    "        x = self.out(x)\n",
    "        return x"
   ]
  },
  {
   "cell_type": "code",
   "execution_count": null,
   "id": "a2d311be-6337-45f2-bab8-4a59ade1f1a7",
   "metadata": {},
   "outputs": [],
   "source": []
  },
  {
   "cell_type": "markdown",
   "id": "977b22e3-9757-4749-ad2b-adee1f58f1e7",
   "metadata": {},
   "source": [
    "## Optimizer"
   ]
  },
  {
   "cell_type": "code",
   "execution_count": 44,
   "id": "8c28cd1c-ce5a-4fa4-975a-3967c756c51a",
   "metadata": {},
   "outputs": [],
   "source": [
    "class AdamWarmup_dec:\n",
    "    def __init__(self, d_emb, warmup_steps, optimizer):\n",
    "        self.d_emb = d_emb\n",
    "        self.warmup_steps = warmup_steps\n",
    "        self.optimizer = optimizer\n",
    "        self.current_step = 0\n",
    "        self.lr = 0\n",
    "        \n",
    "    def get_lr(self):\n",
    "        return self.d_emb ** (-0.5) * min(self.current_step ** (-0.5), \n",
    "                                          self.current_step * self.warmup_steps ** (-1.5))\n",
    "        \n",
    "    def step(self):\n",
    "        # Increment the number of steps each time we call the step function\n",
    "        self.current_step += 1\n",
    "        lr = self.get_lr()\n",
    "        for param_group in self.optimizer.param_groups:\n",
    "            param_group['lr'] = lr\n",
    "        # update the learning rate\n",
    "        self.lr = lr\n",
    "        self.optimizer.step()"
   ]
  },
  {
   "cell_type": "code",
   "execution_count": null,
   "id": "6d38663a-1e89-404a-b61d-b77d02a73655",
   "metadata": {},
   "outputs": [],
   "source": []
  },
  {
   "cell_type": "markdown",
   "id": "3953dd30-01da-48b2-9516-422bcc416577",
   "metadata": {},
   "source": [
    "## Loss function"
   ]
  },
  {
   "cell_type": "code",
   "execution_count": 61,
   "id": "9ad9090f-f492-4f1a-b58e-83179e0c9b30",
   "metadata": {},
   "outputs": [],
   "source": [
    "class LossWithLS_dec(nn.Module):\n",
    "    def __init__(self, vocab_size_out, smooth):\n",
    "        super(LossWithLS_dec, self).__init__()\n",
    "        self.criterion = nn.KLDivLoss(reduction = 'batchmean')\n",
    "        self.confidence = 1.0 - smooth\n",
    "        self.smooth = smooth\n",
    "        self.size = vocab_size_out\n",
    "        \n",
    "    def forward(self, prediction, target):\n",
    "        \"\"\"\n",
    "        prediction of shape: (batch_size, max_words, vocab_size)\n",
    "        \"\"\"\n",
    "        prediction = rearrange(prediction, 'i j k -> (i j) k')   # (batch_size * seq_length, vocab_size)\n",
    "        prediction = F.log_softmax(prediction, dim = 1)\n",
    "        target = rearrange(target, 'i j -> (i j)').contiguous()   # (batch_size * seq_length)\n",
    "        labels = torch.full(prediction.shape, self.smooth / (self.size - 1)).to(device)\n",
    "        labels.scatter_(1, target.data.unsqueeze(1), self.confidence)\n",
    "        loss = self.criterion(prediction, labels)    # (batch_size * max_words, vocab_size)\n",
    "        return loss"
   ]
  },
  {
   "cell_type": "code",
   "execution_count": null,
   "id": "76c00da7-f52d-497a-85b1-623306b8650e",
   "metadata": {},
   "outputs": [],
   "source": []
  },
  {
   "cell_type": "markdown",
   "id": "7fe928b9-1627-4835-b60e-e9228f85d593",
   "metadata": {
    "tags": []
   },
   "source": [
    "# Load/prepare the data"
   ]
  },
  {
   "cell_type": "code",
   "execution_count": 49,
   "id": "89a663ac-e6c0-44cd-a099-e1e3e82668b8",
   "metadata": {},
   "outputs": [],
   "source": [
    "#my_path = 'data/guten/'\n",
    "#my_path = 'data/wiki/'\n",
    "my_path = 'data/shakespeare/'"
   ]
  },
  {
   "cell_type": "code",
   "execution_count": 50,
   "id": "e419f23d-40ab-4ae1-94ff-98401271b58c",
   "metadata": {},
   "outputs": [],
   "source": [
    "texts = glob.glob(my_path + 'clean_parts/*.txt')"
   ]
  },
  {
   "cell_type": "code",
   "execution_count": 52,
   "id": "252da4f4-ff06-47ca-bc89-7c9c73b7a233",
   "metadata": {},
   "outputs": [],
   "source": [
    "with open(my_path + 'token_map.json', 'r') as f:\n",
    "        token_map = json.load(f)\n",
    "# with open(my_path + 'token_freq_0.json', 'r') as f:\n",
    "#         token_freq = json.load(f)\n",
    "with open(my_path + 'words_to_index.json', 'r') as f:\n",
    "    words_to_index = json.load(f)\n",
    "with open(my_path + 'words_tokenized_0.json', 'r') as f:\n",
    "    words_tokenized = json.load(f)\n",
    "rev_token_map = {v: k for k, v in token_map.items()}"
   ]
  },
  {
   "cell_type": "code",
   "execution_count": 53,
   "id": "9bb08845-d925-41ae-98a5-2d293e91dd83",
   "metadata": {},
   "outputs": [
    {
     "name": "stdout",
     "output_type": "stream",
     "text": [
      "3056\n"
     ]
    }
   ],
   "source": [
    "vocab_size = len(token_map)\n",
    "print(vocab_size)"
   ]
  },
  {
   "cell_type": "code",
   "execution_count": null,
   "id": "6918da19-d822-4756-83bc-17ae05ba24c5",
   "metadata": {},
   "outputs": [],
   "source": []
  },
  {
   "cell_type": "markdown",
   "id": "cf55b1ca-bf22-4e3a-84d0-bfff34fcb8de",
   "metadata": {
    "tags": []
   },
   "source": [
    "# Create the model"
   ]
  },
  {
   "cell_type": "code",
   "execution_count": 54,
   "id": "49c370c5-7995-4ccd-bad4-7b4d1871630a",
   "metadata": {},
   "outputs": [
    {
     "data": {
      "text/plain": [
       "0"
      ]
     },
     "execution_count": 54,
     "metadata": {},
     "output_type": "execute_result"
    }
   ],
   "source": [
    "torch.cuda.set_device(0)\n",
    "torch.cuda.current_device()"
   ]
  },
  {
   "cell_type": "code",
   "execution_count": 55,
   "id": "811006b3-41c7-46bf-9098-d70e8d23c9a3",
   "metadata": {},
   "outputs": [
    {
     "data": {
      "text/plain": [
       "device(type='cuda')"
      ]
     },
     "execution_count": 55,
     "metadata": {},
     "output_type": "execute_result"
    }
   ],
   "source": [
    "device = torch.device('cuda' if torch.cuda.is_available() else 'cpu')\n",
    "device"
   ]
  },
  {
   "cell_type": "code",
   "execution_count": 56,
   "id": "f8e56ee6-b11e-4803-94ab-14ba0ee1c069",
   "metadata": {},
   "outputs": [],
   "source": [
    "def create_order(d_emb, repeat, deep):\n",
    "    order = []\n",
    "    hidden = [d_emb * 2, d_emb, d_emb, d_emb // 2]\n",
    "    for dh in hidden:\n",
    "        h = dh // 16\n",
    "        for _ in range(deep):\n",
    "            for _ in range(repeat):\n",
    "                order.append((dh, h))\n",
    "            h = max(1, h // 2)\n",
    "    return order"
   ]
  },
  {
   "cell_type": "code",
   "execution_count": 57,
   "id": "e950648d-4e8b-443d-acc3-da17a9dcb281",
   "metadata": {},
   "outputs": [],
   "source": [
    "d_emb = 256\n",
    "hidden_mult = 2\n",
    "seq_length = 64\n",
    "#order = create_order(d_emb, 1, 4)\n",
    "# order = [(128, 8), (128, 8), (128, 8), (128, 8), \n",
    "#          (128, 4), (128, 4), (128, 4), (128, 4),\n",
    "#          (128, 2), (128, 2), (128, 2), (128, 2)]\n",
    "order = [(256, 8), (256, 8), (256, 8), (256, 8), \n",
    "         (256, 4), (256, 4), (256, 4), (256, 4),\n",
    "         (256, 2), (256, 2), (256, 2), (256, 2)]\n",
    "dropouts = [0.1, 0.05]"
   ]
  },
  {
   "cell_type": "code",
   "execution_count": 58,
   "id": "8a3a2063-53c8-4ff5-85e4-3b0d0880afac",
   "metadata": {},
   "outputs": [],
   "source": [
    "#order"
   ]
  },
  {
   "cell_type": "code",
   "execution_count": 59,
   "id": "9f7cae69-cf63-4c72-97c4-47045ef9a23f",
   "metadata": {},
   "outputs": [],
   "source": [
    "flag_load = False\n",
    "model_name = 'trans_dec.pt'"
   ]
  },
  {
   "cell_type": "code",
   "execution_count": 62,
   "id": "513a06f6-8b4f-4459-9508-981252f0660c",
   "metadata": {},
   "outputs": [],
   "source": [
    "if flag_load:\n",
    "    state = torch.load(my_path + model_name)\n",
    "    model_hp = state['model_hp']\n",
    "    model = Trans_dec(model_hp).to(device)\n",
    "    model.load_state_dict(state['model'])\n",
    "    model_optimizer = state['model_optimizer']\n",
    "    criterion = state['criterion']\n",
    "    vocab_size, d_emb, hidden_mult, seq_length, order, dropouts = model_hp\n",
    "else:\n",
    "    model_hp = vocab_size, d_emb, hidden_mult, seq_length, order, dropouts\n",
    "    model = Trans_dec(model_hp).to(device)\n",
    "    #model = nn.DataParallel(model, device_ids = [0, 1, 2, 3])\n",
    "    #model.to(f'cuda:{model.device_ids[0]}')\n",
    "    l2 = 0.0\n",
    "    learning_rate = 0\n",
    "    warmup_steps = 4096\n",
    "    optimizer = torch.optim.AdamW(model.parameters(), lr=learning_rate, weight_decay=l2, amsgrad=False)\n",
    "    model_optimizer = AdamWarmup_dec(d_emb, warmup_steps, optimizer)\n",
    "    criterion = LossWithLS_dec(vocab_size, 0.1)"
   ]
  },
  {
   "cell_type": "code",
   "execution_count": 63,
   "id": "4f415345-a029-4ec8-8c9b-0f7802846425",
   "metadata": {},
   "outputs": [
    {
     "name": "stdout",
     "output_type": "stream",
     "text": [
      "vocab_size 3056\n",
      "d_emb 256\n",
      "hidden_mult 2\n",
      "seq_length 64\n",
      "order [(256, 8), (256, 8), (256, 8), (256, 8), (256, 4), (256, 4), (256, 4), (256, 4), (256, 2), (256, 2), (256, 2), (256, 2)]\n",
      "dropouts [0.1, 0.05]\n",
      "num of parameters: 11969008\n"
     ]
    }
   ],
   "source": [
    "print('vocab_size', vocab_size)\n",
    "print('d_emb', d_emb)\n",
    "print('hidden_mult', hidden_mult)\n",
    "print('seq_length', seq_length)\n",
    "print('order', order)\n",
    "print('dropouts', dropouts)\n",
    "print('num of parameters:', sum(p.numel() for p in model.parameters() if p.requires_grad))"
   ]
  },
  {
   "cell_type": "code",
   "execution_count": null,
   "id": "6c0f7cdc-873f-4b65-b9f1-6cbb91eeecdd",
   "metadata": {},
   "outputs": [],
   "source": []
  },
  {
   "cell_type": "markdown",
   "id": "cffb562d-7d4c-4a6c-8899-fbfa0b2c1fcb",
   "metadata": {
    "tags": []
   },
   "source": [
    "# Running"
   ]
  },
  {
   "cell_type": "markdown",
   "id": "992ed639-df67-43dc-bacd-ac58dab50b29",
   "metadata": {},
   "source": [
    "## Train"
   ]
  },
  {
   "cell_type": "code",
   "execution_count": 76,
   "id": "25ce7434-da00-4e66-b65b-863deaf3b08f",
   "metadata": {},
   "outputs": [],
   "source": [
    "epochs = 2\n",
    "batch_size = 128\n",
    "frequency = 2\n",
    "train_hp = epochs, batch_size, seq_length, frequency, my_path, model_name"
   ]
  },
  {
   "cell_type": "code",
   "execution_count": 95,
   "id": "44059aab-eb4e-4f30-ad7f-5a97e1e06d37",
   "metadata": {},
   "outputs": [
    {
     "name": "stdout",
     "output_type": "stream",
     "text": [
      "[================] 100%, batch: 358, 00:00:02:54, epoch: 2/2, total: 27, loss: 5.559166\n",
      "Done\n"
     ]
    }
   ],
   "source": [
    "loss_train = train(model, texts, token_map, words_tokenized, words_to_index, criterion, model_optimizer, train_hp, \n",
    "                  save = True)"
   ]
  },
  {
   "cell_type": "code",
   "execution_count": 96,
   "id": "cd6c5dff-0b0f-4550-8d5c-8f91e93c2799",
   "metadata": {},
   "outputs": [
    {
     "name": "stdout",
     "output_type": "stream",
     "text": [
      "total epochs 28\n"
     ]
    },
    {
     "data": {
      "image/png": "[encoded data removed]",
      "text/plain": [
       "<Figure size 432x288 with 1 Axes>"
      ]
     },
     "metadata": {
      "needs_background": "light"
     },
     "output_type": "display_data"
    },
    {
     "data": {
      "image/png": "[encoded data removed]",
      "text/plain": [
       "<Figure size 432x288 with 1 Axes>"
      ]
     },
     "metadata": {
      "needs_background": "light"
     },
     "output_type": "display_data"
    }
   ],
   "source": [
    "print('total epochs', model.epochs)\n",
    "plot_loss(loss_train)\n",
    "plot_loss(model.losses)"
   ]
  },
  {
   "cell_type": "code",
   "execution_count": 74,
   "id": "120020a5-e95d-4983-b1a0-f3f64be51578",
   "metadata": {},
   "outputs": [],
   "source": [
    "model_optimizer = AdamWarmup_dec(d_emb, warmup_steps, optimizer)"
   ]
  },
  {
   "cell_type": "code",
   "execution_count": 93,
   "id": "0c17a0b6-44cd-46ae-a8fd-0e9fbae583b7",
   "metadata": {},
   "outputs": [],
   "source": [
    "#model_optimizer.lr"
   ]
  },
  {
   "cell_type": "code",
   "execution_count": 90,
   "id": "2149e070-c393-463d-b5e9-804e02dec1a5",
   "metadata": {},
   "outputs": [],
   "source": [
    "model_optimizer = torch.optim.AdamW(model.parameters(), lr = 0.01, weight_decay=l2, amsgrad=False)"
   ]
  },
  {
   "cell_type": "code",
   "execution_count": null,
   "id": "a2803978-806d-4691-b3ec-3245799f9474",
   "metadata": {},
   "outputs": [],
   "source": []
  },
  {
   "cell_type": "markdown",
   "id": "be0f5d7e-48c3-45a9-b3de-8ada094ea928",
   "metadata": {},
   "source": [
    "## Evaluate"
   ]
  },
  {
   "cell_type": "code",
   "execution_count": 67,
   "id": "b96cee1c-6e88-4980-8f70-14f2dc5539ff",
   "metadata": {},
   "outputs": [],
   "source": [
    "flag_load = True"
   ]
  },
  {
   "cell_type": "code",
   "execution_count": 68,
   "id": "3005bead-6267-4498-8498-542fd7cf7f8e",
   "metadata": {},
   "outputs": [],
   "source": [
    "%run Transformer_class.ipynb\n",
    "if flag_load:\n",
    "    state = torch.load(my_path + 'tokenizer.pt')\n",
    "    tokenizer = state['model'].to(device)"
   ]
  },
  {
   "cell_type": "code",
   "execution_count": 97,
   "id": "d996addd-6be8-4c48-994f-93be5c00ba22",
   "metadata": {},
   "outputs": [
    {
     "name": "stdin",
     "output_type": "stream",
     "text": [
      "You:  state\n"
     ]
    },
    {
     "name": "stdout",
     "output_type": "stream",
     "text": [
      ", , , , , , , , , , , , , , , , , , , , , , , , , , , , , , , , , , , , , , , , , , , , , , , , , , , , , , , , , , , , , , , , , \n"
     ]
    },
    {
     "name": "stdin",
     "output_type": "stream",
     "text": [
      "You:  only\n"
     ]
    },
    {
     "name": "stdout",
     "output_type": "stream",
     "text": [
      ", , , , , , , , , , , , , , , , , , , , , , , , , , , , , , , , , , , , , , , , , , , , , , , , , , , , , , , , , , , , , , , , , \n"
     ]
    },
    {
     "name": "stdin",
     "output_type": "stream",
     "text": [
      "You:  hamlet?\n"
     ]
    },
    {
     "name": "stdout",
     "output_type": "stream",
     "text": [
      ", , , , , , , , , , , , , , , , , , , , , , , , , , , , , , , , , , , , , , , , , , , , , , , , , , , , , , , , , , , , , , , , , \n"
     ]
    },
    {
     "name": "stdin",
     "output_type": "stream",
     "text": [
      "You:  quit\n"
     ]
    }
   ],
   "source": [
    "word_length = 32\n",
    "answer_len = 64\n",
    "while(1):\n",
    "    question = input(\"You: \") \n",
    "    if question == 'quit':\n",
    "        break\n",
    "    question = get_data_from_line(tokenizer, question, words_tokenized, words_to_index, word_length, \n",
    "                                  token_map, rev_token_map, parallel = False)\n",
    "    question = question.to(device).unsqueeze(0)\n",
    "    reply = evaluate(model, question, answer_len, seq_length, token_map, rev_token_map)\n",
    "    \n",
    "    print(reply)"
   ]
  },
  {
   "cell_type": "code",
   "execution_count": null,
   "id": "92d244df-b929-446e-96db-09c12918a545",
   "metadata": {},
   "outputs": [],
   "source": []
  },
  {
   "cell_type": "code",
   "execution_count": null,
   "id": "8e360aee-f28e-4a3a-af47-289ff853f596",
   "metadata": {},
   "outputs": [],
   "source": []
  },
  {
   "cell_type": "code",
   "execution_count": null,
   "id": "a35a50a5-1a21-4c6e-a909-f0e7c4812987",
   "metadata": {},
   "outputs": [],
   "source": []
  },
  {
   "cell_type": "markdown",
   "id": "7ce0fd7a-d474-456b-af82-4e5fe72983fc",
   "metadata": {},
   "source": [
    "# Works"
   ]
  },
  {
   "cell_type": "code",
   "execution_count": 47,
   "id": "9a0c6aa6-fb1a-42d8-8e44-c64a4a701136",
   "metadata": {},
   "outputs": [],
   "source": [
    "criter = nn.KLDivLoss(reduction = 'none')\n",
    "smooth = 0.1\n",
    "confidence = 1.0 - smooth\n",
    "size = vocab_size"
   ]
  },
  {
   "cell_type": "code",
   "execution_count": 49,
   "id": "8a85abd2-6812-4a75-a728-643d7294110b",
   "metadata": {},
   "outputs": [],
   "source": [
    "x = torch.empty((4, 8), dtype = torch.long, device = device)\n",
    "y = torch.empty((4, 8), dtype = torch.long, device = device)\n",
    "\n",
    "file_name = np.random.choice(texts)\n",
    "data = get_data_from_file(file_name, token_map, words_tokenized, words_to_index)\n",
    "##\n",
    "data_len = data.size(0) - 8 - 2\n",
    "#order = np.random.permutation(np.arange(0, data_len, seq_length // frequency))\n",
    "samples_amount = int(data_len / 8 * frequency)\n",
    "order = np.random.choice(np.arange(data_len), size = samples_amount, replace = False)\n",
    "or_length = order.shape[0]\n",
    "loss_tempo = []\n",
    "j = 0\n",
    "for i, start_ind in enumerate(order):\n",
    "    end_ind = start_ind + 8\n",
    "    x[j] = data[start_ind : end_ind]\n",
    "    y[j] = data[start_ind + 1 : end_ind + 1]\n",
    "    j += 1\n",
    "    if j % 4 == 0 or i == or_length - 1:\n",
    "        break"
   ]
  },
  {
   "cell_type": "code",
   "execution_count": 50,
   "id": "b24234e9-1079-44bf-be34-6346ccde8b74",
   "metadata": {},
   "outputs": [
    {
     "name": "stdout",
     "output_type": "stream",
     "text": [
      "torch.Size([4, 8]) torch.Size([4, 8])\n"
     ]
    }
   ],
   "source": [
    "print(x.size(), y.size())"
   ]
  },
  {
   "cell_type": "code",
   "execution_count": 51,
   "id": "cd70e7bb-1d4d-4940-bfea-3a3e9cb09102",
   "metadata": {},
   "outputs": [],
   "source": [
    "out = model(x)"
   ]
  },
  {
   "cell_type": "code",
   "execution_count": 52,
   "id": "d92d3c5f-6607-4432-a258-3951840f7f57",
   "metadata": {},
   "outputs": [
    {
     "data": {
      "text/plain": [
       "torch.Size([4, 8, 14618])"
      ]
     },
     "execution_count": 52,
     "metadata": {},
     "output_type": "execute_result"
    }
   ],
   "source": [
    "out.size()"
   ]
  },
  {
   "cell_type": "code",
   "execution_count": 53,
   "id": "f4e4d476-c78e-4084-8f32-2504867890cc",
   "metadata": {},
   "outputs": [
    {
     "name": "stdout",
     "output_type": "stream",
     "text": [
      "torch.Size([32, 14618]) torch.Size([32])\n"
     ]
    }
   ],
   "source": [
    "prediction = rearrange(out, 'i j k -> (i j) k')   # (batch_size * seq_length, vocab_size)\n",
    "target = rearrange(y, 'i j -> (i j)').contiguous()   # (batch_size * seq_length)\n",
    "print(prediction.size(), target.size())"
   ]
  },
  {
   "cell_type": "code",
   "execution_count": 54,
   "id": "91079c46-57d9-44c1-ae4e-e52cf59ab6f1",
   "metadata": {},
   "outputs": [],
   "source": [
    "labels = torch.full(prediction.shape, smooth / (size - 1)).to(device)"
   ]
  },
  {
   "cell_type": "code",
   "execution_count": 55,
   "id": "41be739c-ebb4-4a14-8842-487ec00a5f4d",
   "metadata": {},
   "outputs": [
    {
     "data": {
      "text/plain": [
       "torch.Size([32, 14618])"
      ]
     },
     "execution_count": 55,
     "metadata": {},
     "output_type": "execute_result"
    }
   ],
   "source": [
    "labels.size()"
   ]
  },
  {
   "cell_type": "code",
   "execution_count": 56,
   "id": "4c3572a4-da5e-4bf2-9a13-adc3ac9eb828",
   "metadata": {},
   "outputs": [
    {
     "data": {
      "text/plain": [
       "torch.Size([32, 14618])"
      ]
     },
     "execution_count": 56,
     "metadata": {},
     "output_type": "execute_result"
    }
   ],
   "source": [
    "labels.scatter_(1, target.data.unsqueeze(1), confidence)\n",
    "labels.size()"
   ]
  },
  {
   "cell_type": "code",
   "execution_count": 59,
   "id": "7dc5da23-c379-4f11-9d82-9cec573d8a8e",
   "metadata": {},
   "outputs": [
    {
     "data": {
      "text/plain": [
       "tensor(1., device='cuda:0')"
      ]
     },
     "execution_count": 59,
     "metadata": {},
     "output_type": "execute_result"
    }
   ],
   "source": []
  },
  {
   "cell_type": "code",
   "execution_count": 84,
   "id": "177523d3-a36c-4321-a4e8-70d3e343a0a8",
   "metadata": {},
   "outputs": [],
   "source": [
    "loss = criter(prediction, labels)"
   ]
  },
  {
   "cell_type": "code",
   "execution_count": 85,
   "id": "e7ea1027-c784-4528-b72a-17cf9c045166",
   "metadata": {},
   "outputs": [
    {
     "data": {
      "text/plain": [
       "torch.Size([4096, 14618])"
      ]
     },
     "execution_count": 85,
     "metadata": {},
     "output_type": "execute_result"
    }
   ],
   "source": [
    "loss.size()"
   ]
  },
  {
   "cell_type": "code",
   "execution_count": null,
   "id": "2c8b0ab7-1afb-4c3d-afc1-fa7016c56ccc",
   "metadata": {},
   "outputs": [],
   "source": []
  },
  {
   "cell_type": "code",
   "execution_count": 46,
   "id": "2d49ab6e-e79c-4099-8453-a8ffe5aed68f",
   "metadata": {},
   "outputs": [
    {
     "name": "stderr",
     "output_type": "stream",
     "text": [
      "<ipython-input-46-2c23dc4b629f>:1: UserWarning: Implicit dimension choice for softmax has been deprecated. Change the call to include dim=X as an argument.\n",
      "  F.softmax(torch.Tensor([0, 1, 0, 0, 0, 0, 0]))\n"
     ]
    },
    {
     "data": {
      "text/plain": [
       "tensor([0.1147, 0.3118, 0.1147, 0.1147, 0.1147, 0.1147, 0.1147])"
      ]
     },
     "execution_count": 46,
     "metadata": {},
     "output_type": "execute_result"
    }
   ],
   "source": [
    "F.softmax(torch.Tensor([0, 1, 0, 0, 0, 0, 0]))"
   ]
  },
  {
   "cell_type": "code",
   "execution_count": null,
   "id": "afe9fd19-ef2a-4e4d-8404-44e3e2b65139",
   "metadata": {},
   "outputs": [],
   "source": []
  },
  {
   "cell_type": "code",
   "execution_count": null,
   "id": "4089cc59-d899-41fb-b10e-96ffcd812b0a",
   "metadata": {},
   "outputs": [],
   "source": []
  },
  {
   "cell_type": "code",
   "execution_count": null,
   "id": "015735c8-2d60-4017-88e8-712baf2d5d56",
   "metadata": {},
   "outputs": [],
   "source": []
  },
  {
   "cell_type": "code",
   "execution_count": null,
   "id": "09f13532-dacb-40df-b46b-5022b007eac8",
   "metadata": {},
   "outputs": [],
   "source": []
  },
  {
   "cell_type": "code",
   "execution_count": 37,
   "id": "fc5772dc-350f-4085-abc9-b9227831ea67",
   "metadata": {},
   "outputs": [],
   "source": [
    "labels = torch.full((4, 8), 0.1 / (8 - 1))"
   ]
  },
  {
   "cell_type": "code",
   "execution_count": 38,
   "id": "294ee9f0-d7ca-4db4-b483-dc4c59d08197",
   "metadata": {},
   "outputs": [
    {
     "data": {
      "text/plain": [
       "tensor([[0.0143, 0.0143, 0.0143, 0.0143, 0.0143, 0.0143, 0.0143, 0.0143],\n",
       "        [0.0143, 0.0143, 0.0143, 0.0143, 0.0143, 0.0143, 0.0143, 0.0143],\n",
       "        [0.0143, 0.0143, 0.0143, 0.0143, 0.0143, 0.0143, 0.0143, 0.0143],\n",
       "        [0.0143, 0.0143, 0.0143, 0.0143, 0.0143, 0.0143, 0.0143, 0.0143]])"
      ]
     },
     "execution_count": 38,
     "metadata": {},
     "output_type": "execute_result"
    }
   ],
   "source": [
    "labels"
   ]
  },
  {
   "cell_type": "code",
   "execution_count": null,
   "id": "4ed49b13-a2f5-4b3c-a14b-96d44584db56",
   "metadata": {},
   "outputs": [],
   "source": []
  },
  {
   "cell_type": "code",
   "execution_count": 4,
   "id": "b753a197-d204-4f53-9eb8-ea6e8a6f6f7a",
   "metadata": {},
   "outputs": [
    {
     "data": {
      "text/plain": [
       "tensor([[1., 0., 0., 0.],\n",
       "        [1., 1., 0., 0.],\n",
       "        [1., 1., 1., 0.],\n",
       "        [1., 1., 1., 1.]])"
      ]
     },
     "execution_count": 4,
     "metadata": {},
     "output_type": "execute_result"
    }
   ],
   "source": [
    "torch.tril(torch.ones(4, 4))"
   ]
  },
  {
   "cell_type": "code",
   "execution_count": 5,
   "id": "84010578-7c5f-44e7-a244-86702c7b1ee9",
   "metadata": {},
   "outputs": [
    {
     "data": {
      "text/plain": [
       "tensor([[1., 0., 0., 0.],\n",
       "        [1., 1., 0., 0.],\n",
       "        [1., 1., 1., 0.],\n",
       "        [1., 1., 1., 1.]])"
      ]
     },
     "execution_count": 5,
     "metadata": {},
     "output_type": "execute_result"
    }
   ],
   "source": [
    "torch.triu(torch.ones(4, 4)).transpose(0, 1)"
   ]
  },
  {
   "cell_type": "code",
   "execution_count": 3,
   "id": "297aa940-6a1d-44e5-a31f-deccac10a04a",
   "metadata": {},
   "outputs": [
    {
     "data": {
      "text/plain": [
       "tensor([[0, 0, 0, 1, 1, 2],\n",
       "        [1, 2, 3, 2, 3, 3]])"
      ]
     },
     "execution_count": 3,
     "metadata": {},
     "output_type": "execute_result"
    }
   ],
   "source": [
    "torch.triu_indices(4, 4, offset = 1)"
   ]
  },
  {
   "cell_type": "code",
   "execution_count": 283,
   "id": "3b00947c-57bb-4a5a-9057-36ecbb4c5f83",
   "metadata": {},
   "outputs": [],
   "source": [
    "texts = glob.glob(my_path + 'parts/*.txt')"
   ]
  },
  {
   "cell_type": "code",
   "execution_count": 284,
   "id": "b7e8f76e-0ba8-4073-9c97-edacedab65a4",
   "metadata": {},
   "outputs": [],
   "source": [
    "char_to_num, num_to_char = create_char_dict()"
   ]
  },
  {
   "cell_type": "code",
   "execution_count": 299,
   "id": "dc3e19d9-43d6-402d-9812-bef39a8d435e",
   "metadata": {},
   "outputs": [],
   "source": [
    "word_length = 16\n",
    "seq_length = 32\n",
    "batch_size = 64\n",
    "layers = [1, 8, 16, 32]\n",
    "d_emb = 256\n",
    "dropout = 0"
   ]
  },
  {
   "cell_type": "code",
   "execution_count": 291,
   "id": "0c1be940-d5a2-4fc6-8bce-85428ee14610",
   "metadata": {},
   "outputs": [],
   "source": [
    "file_name = random.choice(texts)\n",
    "data = get_data_from_file(file_name, word_length, char_to_num)"
   ]
  },
  {
   "cell_type": "code",
   "execution_count": 293,
   "id": "b7607a0a-e7b3-4443-ab01-f3ce757a5b3c",
   "metadata": {},
   "outputs": [],
   "source": [
    "#data_len = len(data) - batch_size - seq_length\n",
    "x = []\n",
    "y_input = []\n",
    "y_target = []\n",
    "for word in range(batch_size):\n",
    "    start_ind = batch + word\n",
    "    middle_ind = start_ind + seq_length\n",
    "    end_ind = middle_ind + seq_length\n",
    "    x.append(data[start_ind : middle_ind])\n",
    "    y_input.append(data[middle_ind - 1 : end_ind - 1])\n",
    "    y_target.append(data[middle_ind : end_ind])"
   ]
  },
  {
   "cell_type": "code",
   "execution_count": 295,
   "id": "99f97eee-8cf6-4040-93bf-4c86a7f1cd9c",
   "metadata": {},
   "outputs": [],
   "source": [
    "x = torch.as_tensor(x)#.to(device)\n",
    "y_input = torch.as_tensor(y_input)#.to(device)\n",
    "y_target = torch.as_tensor(y_target)#.to(device)"
   ]
  },
  {
   "cell_type": "code",
   "execution_count": 332,
   "id": "7af78495-185e-4c57-9d17-9e5780b182c7",
   "metadata": {},
   "outputs": [],
   "source": [
    "#y_target[0]"
   ]
  },
  {
   "cell_type": "code",
   "execution_count": 306,
   "id": "290cb460-e970-4362-8f6c-40cc7418d63d",
   "metadata": {},
   "outputs": [],
   "source": [
    "embedd = Embedder(word_length, layers, d_emb, dropout, seq_length)"
   ]
  },
  {
   "cell_type": "code",
   "execution_count": 307,
   "id": "e2937bd7-071e-4148-8ef5-aefd5780c4f8",
   "metadata": {},
   "outputs": [],
   "source": [
    "x_out = embedd(x.float())"
   ]
  },
  {
   "cell_type": "code",
   "execution_count": 308,
   "id": "f711259b-b0cc-4710-8e2e-3ac608a14d2d",
   "metadata": {},
   "outputs": [
    {
     "data": {
      "text/plain": [
       "torch.Size([64, 32, 256])"
      ]
     },
     "execution_count": 308,
     "metadata": {},
     "output_type": "execute_result"
    }
   ],
   "source": [
    "x_out.shape"
   ]
  },
  {
   "cell_type": "code",
   "execution_count": null,
   "id": "9bc6bdb7-fc84-43d2-8455-c33393bdc65c",
   "metadata": {},
   "outputs": [],
   "source": []
  },
  {
   "cell_type": "code",
   "execution_count": null,
   "id": "21c96c58-bb72-48d6-95ef-4f841b6ab69d",
   "metadata": {},
   "outputs": [],
   "source": []
  },
  {
   "cell_type": "code",
   "execution_count": null,
   "id": "0cace834-d05d-4932-8fa6-d5becb0135f7",
   "metadata": {},
   "outputs": [],
   "source": []
  },
  {
   "cell_type": "code",
   "execution_count": null,
   "id": "b9604310-7806-48dc-922a-da0119f7d6d1",
   "metadata": {},
   "outputs": [],
   "source": []
  },
  {
   "cell_type": "code",
   "execution_count": null,
   "id": "f0db75cd-0379-41c4-b95f-2766bd55ccc9",
   "metadata": {},
   "outputs": [],
   "source": []
  },
  {
   "cell_type": "code",
   "execution_count": 6,
   "id": "4b073df6-3469-4d72-b1a2-4c86ca08ae90",
   "metadata": {},
   "outputs": [
    {
     "data": {
      "text/plain": [
       "array([8, 0, 2, 6, 3, 4, 7, 9, 1, 5])"
      ]
     },
     "execution_count": 6,
     "metadata": {},
     "output_type": "execute_result"
    }
   ],
   "source": [
    "np.random.permutation(10)"
   ]
  },
  {
   "cell_type": "code",
   "execution_count": 18,
   "id": "01a88692-cd9a-4095-b44f-bc0b7009eaea",
   "metadata": {},
   "outputs": [],
   "source": [
    "def opt_lr(epoch):\n",
    "    return 0.004 * np.e**(-epoch/300)"
   ]
  },
  {
   "cell_type": "code",
   "execution_count": 19,
   "id": "f7d32d41-e8af-43cf-8ffe-9e72124e6ee7",
   "metadata": {},
   "outputs": [
    {
     "data": {
      "text/plain": [
       "0.00014269597338900962"
      ]
     },
     "execution_count": 19,
     "metadata": {},
     "output_type": "execute_result"
    }
   ],
   "source": [
    "opt_lr(1000)"
   ]
  },
  {
   "cell_type": "code",
   "execution_count": 34,
   "id": "e97babe4-5bfc-475b-b692-57a4b297b6c7",
   "metadata": {},
   "outputs": [],
   "source": [
    "arr = np.arange(1, 10001)"
   ]
  },
  {
   "cell_type": "code",
   "execution_count": 21,
   "id": "ff7ad26c-74e1-428e-9870-ebd2e2750035",
   "metadata": {},
   "outputs": [],
   "source": [
    "brr = opt_lr(arr)"
   ]
  },
  {
   "cell_type": "code",
   "execution_count": 22,
   "id": "55f0e1af-a154-45c8-96b2-41c6b56ca449",
   "metadata": {},
   "outputs": [
    {
     "data": {
      "image/png": "[encoded data removed]",
      "text/plain": [
       "<Figure size 432x288 with 1 Axes>"
      ]
     },
     "metadata": {
      "needs_background": "light"
     },
     "output_type": "display_data"
    }
   ],
   "source": [
    "plt.plot(arr)\n",
    "plt.show()"
   ]
  },
  {
   "cell_type": "code",
   "execution_count": null,
   "id": "8bd57018-9506-4e67-bfcb-641a56b37c28",
   "metadata": {},
   "outputs": [],
   "source": []
  },
  {
   "cell_type": "code",
   "execution_count": 25,
   "id": "e7ea91da-0cd1-4ee1-9080-5ba2f95c53ed",
   "metadata": {},
   "outputs": [],
   "source": [
    "def lrupdate(x):\n",
    "    return 256 ** (-0.5) * min(x ** (-0.5), x * 4000 ** (-1.5))"
   ]
  },
  {
   "cell_type": "code",
   "execution_count": 35,
   "id": "06273110-8bf7-41a5-99e7-88e7c20069c3",
   "metadata": {},
   "outputs": [],
   "source": [
    "brr = np.empty(10000)"
   ]
  },
  {
   "cell_type": "code",
   "execution_count": 36,
   "id": "2bb6e4c2-002e-477f-b121-45d54d4316ca",
   "metadata": {},
   "outputs": [],
   "source": [
    "for i, a in enumerate(arr):\n",
    "    brr[i] = lrupdate(a)"
   ]
  },
  {
   "cell_type": "code",
   "execution_count": 37,
   "id": "09234e08-3407-4d4e-806d-4dcf310f0c9c",
   "metadata": {},
   "outputs": [
    {
     "data": {
      "image/png": "[encoded data removed]",
      "text/plain": [
       "<Figure size 432x288 with 1 Axes>"
      ]
     },
     "metadata": {
      "needs_background": "light"
     },
     "output_type": "display_data"
    }
   ],
   "source": [
    "plt.plot(brr)\n",
    "plt.show()"
   ]
  },
  {
   "cell_type": "code",
   "execution_count": null,
   "id": "2673956e-a98d-428d-bc97-22a745bf580e",
   "metadata": {},
   "outputs": [],
   "source": []
  },
  {
   "cell_type": "code",
   "execution_count": null,
   "id": "86961621-f277-4431-a3fd-569a2e907dcb",
   "metadata": {},
   "outputs": [],
   "source": []
  },
  {
   "cell_type": "code",
   "execution_count": null,
   "id": "0bff1219-be17-42d4-bbc3-53397092df45",
   "metadata": {},
   "outputs": [],
   "source": []
  },
  {
   "cell_type": "code",
   "execution_count": 28,
   "id": "467dc20e-a988-4f22-98b9-a94c161ad0a5",
   "metadata": {},
   "outputs": [],
   "source": []
  },
  {
   "cell_type": "code",
   "execution_count": 29,
   "id": "d2c64944-9852-4a02-9c55-833cda06f103",
   "metadata": {},
   "outputs": [],
   "source": []
  },
  {
   "cell_type": "code",
   "execution_count": 30,
   "id": "97aa5425-b02f-46c2-be59-899bbae10f52",
   "metadata": {},
   "outputs": [],
   "source": []
  },
  {
   "cell_type": "code",
   "execution_count": null,
   "id": "1a442746-4705-48ca-a2b8-fe206b45f25c",
   "metadata": {},
   "outputs": [],
   "source": []
  },
  {
   "cell_type": "code",
   "execution_count": null,
   "id": "5ea4c0b4-6b18-4ecd-ab8d-23ecda8027fb",
   "metadata": {},
   "outputs": [],
   "source": []
  },
  {
   "cell_type": "code",
   "execution_count": null,
   "id": "4fbae493-78f7-4b90-a772-6ed23c11b134",
   "metadata": {},
   "outputs": [],
   "source": []
  },
  {
   "cell_type": "code",
   "execution_count": null,
   "id": "c7356576-a624-4bd0-8f06-a09e8e8d8369",
   "metadata": {},
   "outputs": [],
   "source": []
  },
  {
   "cell_type": "code",
   "execution_count": null,
   "id": "4da4a301-8fbf-4b73-a6b8-5fabeb8a79a3",
   "metadata": {},
   "outputs": [],
   "source": []
  },
  {
   "cell_type": "code",
   "execution_count": null,
   "id": "59fb156a-5967-4bc5-967e-86a5769c98c6",
   "metadata": {},
   "outputs": [],
   "source": []
  },
  {
   "cell_type": "code",
   "execution_count": null,
   "id": "dcffad5b-fc87-4368-8a13-7381f230143d",
   "metadata": {},
   "outputs": [],
   "source": []
  },
  {
   "cell_type": "code",
   "execution_count": null,
   "id": "bbf4605d-a5d8-4d72-be51-02192d3ff5e8",
   "metadata": {},
   "outputs": [],
   "source": []
  },
  {
   "cell_type": "code",
   "execution_count": null,
   "id": "1ad63c7b-f211-437e-9717-e22e5d18d5cc",
   "metadata": {},
   "outputs": [],
   "source": []
  },
  {
   "cell_type": "code",
   "execution_count": null,
   "id": "54a8133c-3f4d-4716-a1d9-267412e64d5a",
   "metadata": {},
   "outputs": [],
   "source": []
  },
  {
   "cell_type": "code",
   "execution_count": 215,
   "id": "3f59d2f7-cae1-4c0a-b89c-60ef4fd2bbf9",
   "metadata": {},
   "outputs": [],
   "source": [
    "set_dropout(model, 0)"
   ]
  },
  {
   "cell_type": "code",
   "execution_count": null,
   "id": "dfaf408e-2c4a-4160-9eba-ecec8ebfc793",
   "metadata": {},
   "outputs": [],
   "source": []
  },
  {
   "cell_type": "code",
   "execution_count": null,
   "id": "4a5d3674-3d82-497f-a1ed-fcae414ddb33",
   "metadata": {},
   "outputs": [],
   "source": []
  },
  {
   "cell_type": "code",
   "execution_count": null,
   "id": "77811068-f767-47bc-be10-3c0f268709cb",
   "metadata": {},
   "outputs": [],
   "source": []
  },
  {
   "cell_type": "code",
   "execution_count": 56,
   "id": "7d0999ef-4b09-4b3a-bf40-7e4d49202d2b",
   "metadata": {},
   "outputs": [],
   "source": [
    "voc_s = 100\n",
    "smooth = 0.1\n",
    "confidence = 1 - smooth\n",
    "criterion = nn.KLDivLoss(reduction = 'none')"
   ]
  },
  {
   "cell_type": "code",
   "execution_count": null,
   "id": "f2fe31d3-ca1c-423a-a8e3-721f510e5804",
   "metadata": {},
   "outputs": [],
   "source": [
    "prediction = torch.rand(128, 32, voc_s)\n",
    "target = torch.randint(10, (128, 32))\n",
    "prediction = rearrange(prediction, 'i j k -> (i j) k')\n",
    "target = rearrange(target, 'i j -> (i j)')\n",
    "labels = torch.full(prediction.shape, smooth / (voc_s - 1))\n",
    "\n",
    "\n",
    "\n",
    "# mask = mask.float()\n",
    "# mask = mask.view(-1)       # (batch_size * max_words)\n",
    "labels.scatter_(1, target.data.unsqueeze(1), self.confidence)"
   ]
  },
  {
   "cell_type": "code",
   "execution_count": 58,
   "id": "62145d27-982c-48a8-b2e8-ada48caa6da5",
   "metadata": {},
   "outputs": [
    {
     "data": {
      "text/plain": [
       "torch.Tensor"
      ]
     },
     "execution_count": 58,
     "metadata": {},
     "output_type": "execute_result"
    }
   ],
   "source": [
    "prediction = torch.rand(128, 32, voc_s)\n",
    "type(prediction)"
   ]
  },
  {
   "cell_type": "code",
   "execution_count": 357,
   "id": "4ea08b6a-abe3-4277-ae90-178c62a47802",
   "metadata": {},
   "outputs": [
    {
     "data": {
      "text/plain": [
       "torch.Size([128, 32])"
      ]
     },
     "execution_count": 357,
     "metadata": {},
     "output_type": "execute_result"
    }
   ],
   "source": [
    "target = torch.randint(10, (128, 32))\n",
    "target.shape"
   ]
  },
  {
   "cell_type": "code",
   "execution_count": 358,
   "id": "71a5e4f7-0c1c-4441-a3b8-c59f262fa33a",
   "metadata": {},
   "outputs": [
    {
     "data": {
      "text/plain": [
       "torch.Size([4096, 100])"
      ]
     },
     "execution_count": 358,
     "metadata": {},
     "output_type": "execute_result"
    }
   ],
   "source": [
    "prediction = rearrange(prediction, 'i j k -> (i j) k')\n",
    "prediction.shape"
   ]
  },
  {
   "cell_type": "code",
   "execution_count": 359,
   "id": "0ef05c6b-36e4-472f-8763-68851547ae18",
   "metadata": {},
   "outputs": [
    {
     "data": {
      "text/plain": [
       "torch.Size([4096])"
      ]
     },
     "execution_count": 359,
     "metadata": {},
     "output_type": "execute_result"
    }
   ],
   "source": [
    "target = rearrange(target, 'i j -> (i j)')\n",
    "target.shape"
   ]
  },
  {
   "cell_type": "code",
   "execution_count": 360,
   "id": "39dc7dca-f382-4c88-a18d-96637ce8808f",
   "metadata": {},
   "outputs": [
    {
     "data": {
      "text/plain": [
       "torch.Size([4096, 100])"
      ]
     },
     "execution_count": 360,
     "metadata": {},
     "output_type": "execute_result"
    }
   ],
   "source": [
    "labels = torch.full(prediction.shape, smooth / (voc_s - 1))\n",
    "labels.shape"
   ]
  },
  {
   "cell_type": "code",
   "execution_count": 361,
   "id": "13efc7e9-df44-40de-917f-7b1f54ff2d29",
   "metadata": {},
   "outputs": [
    {
     "data": {
      "text/plain": [
       "tensor([[0.0010, 0.0010, 0.0010,  ..., 0.0010, 0.0010, 0.0010],\n",
       "        [0.0010, 0.0010, 0.0010,  ..., 0.0010, 0.0010, 0.0010],\n",
       "        [0.0010, 0.9000, 0.0010,  ..., 0.0010, 0.0010, 0.0010],\n",
       "        ...,\n",
       "        [0.0010, 0.0010, 0.0010,  ..., 0.0010, 0.0010, 0.0010],\n",
       "        [0.0010, 0.0010, 0.0010,  ..., 0.0010, 0.0010, 0.0010],\n",
       "        [0.0010, 0.0010, 0.0010,  ..., 0.0010, 0.0010, 0.0010]])"
      ]
     },
     "execution_count": 361,
     "metadata": {},
     "output_type": "execute_result"
    }
   ],
   "source": [
    "labels.scatter_(1, target.unsqueeze(1), confidence)"
   ]
  },
  {
   "cell_type": "code",
   "execution_count": 371,
   "id": "cfd7b68a-2ed8-46c6-ac30-6f52c3456cce",
   "metadata": {},
   "outputs": [],
   "source": [
    "loss = criterion(prediction, labels)"
   ]
  },
  {
   "cell_type": "code",
   "execution_count": 375,
   "id": "afbe721e-a43f-4cc5-bd60-0b3307800680",
   "metadata": {},
   "outputs": [
    {
     "data": {
      "text/plain": [
       "tensor([-1.3567, -1.2366, -1.6016,  ..., -1.2049, -1.7134, -1.6225])"
      ]
     },
     "execution_count": 375,
     "metadata": {},
     "output_type": "execute_result"
    }
   ],
   "source": [
    "loss.sum(1)"
   ]
  },
  {
   "cell_type": "code",
   "execution_count": null,
   "id": "df58e3e9-5dbb-41b9-b20e-db6d7e747a5d",
   "metadata": {},
   "outputs": [],
   "source": []
  },
  {
   "cell_type": "code",
   "execution_count": null,
   "id": "1136534a-5613-4162-b57e-34533ed694f5",
   "metadata": {},
   "outputs": [],
   "source": []
  },
  {
   "cell_type": "code",
   "execution_count": null,
   "id": "ee1a0052-3ebd-4a01-bdd5-8ed8a4ae6926",
   "metadata": {},
   "outputs": [],
   "source": []
  },
  {
   "cell_type": "code",
   "execution_count": null,
   "id": "fa44fb1a-9815-4fc5-8bb4-b81ff9b090db",
   "metadata": {},
   "outputs": [],
   "source": []
  },
  {
   "cell_type": "code",
   "execution_count": null,
   "id": "90d8a6ec-2e81-4b54-912c-8459f8d5d68b",
   "metadata": {},
   "outputs": [],
   "source": []
  },
  {
   "cell_type": "code",
   "execution_count": null,
   "id": "608cde77-2b39-4f15-b552-508326eb96fd",
   "metadata": {},
   "outputs": [],
   "source": []
  },
  {
   "cell_type": "code",
   "execution_count": 328,
   "id": "4d771a17-22c5-4493-ae42-e602b2e8dfd9",
   "metadata": {},
   "outputs": [
    {
     "data": {
      "text/plain": [
       "tensor([4, 1, 5, 3])"
      ]
     },
     "execution_count": 328,
     "metadata": {},
     "output_type": "execute_result"
    }
   ],
   "source": [
    "X_len"
   ]
  },
  {
   "cell_type": "code",
   "execution_count": 181,
   "id": "c4e9a585-3772-4ea2-8fc7-769df8faf776",
   "metadata": {},
   "outputs": [
    {
     "data": {
      "text/plain": [
       "tensor([[ True,  True,  True,  True, False],\n",
       "        [ True, False, False, False, False],\n",
       "        [ True,  True,  True,  True,  True],\n",
       "        [ True,  True,  True, False, False]])"
      ]
     },
     "execution_count": 181,
     "metadata": {},
     "output_type": "execute_result"
    }
   ],
   "source": [
    "mask = torch.arange(maxlen)[None, :] < X_len[:, None]\n",
    "mask"
   ]
  },
  {
   "cell_type": "code",
   "execution_count": 180,
   "id": "72aa4b4f-7beb-4278-95bf-fbc6f174bfe4",
   "metadata": {},
   "outputs": [
    {
     "data": {
      "text/plain": [
       "tensor([[4],\n",
       "        [1],\n",
       "        [6],\n",
       "        [3]])"
      ]
     },
     "execution_count": 180,
     "metadata": {},
     "output_type": "execute_result"
    }
   ],
   "source": [
    "X_len[:, None]"
   ]
  },
  {
   "cell_type": "code",
   "execution_count": 182,
   "id": "e16e2ebe-5a7c-4010-808c-b7ae6ba3b691",
   "metadata": {},
   "outputs": [
    {
     "data": {
      "text/plain": [
       "tensor([[4.6000, 4.4000, 3.4000, 4.2000,   -inf],\n",
       "        [4.4000,   -inf,   -inf,   -inf,   -inf],\n",
       "        [3.2000, 4.2000, 5.0000, 4.0000, 3.6000],\n",
       "        [3.6000, 3.4000, 4.2000,   -inf,   -inf]], dtype=torch.float64)"
      ]
     },
     "execution_count": 182,
     "metadata": {},
     "output_type": "execute_result"
    }
   ],
   "source": [
    "X[~mask] = float('-inf')\n",
    "X"
   ]
  },
  {
   "cell_type": "code",
   "execution_count": null,
   "id": "f2587cdd-db06-4568-94f7-3e878e3605a5",
   "metadata": {},
   "outputs": [],
   "source": []
  },
  {
   "cell_type": "code",
   "execution_count": null,
   "id": "e3e01612-8788-4399-8172-e1371d8a5cdb",
   "metadata": {},
   "outputs": [],
   "source": []
  },
  {
   "cell_type": "code",
   "execution_count": 42,
   "id": "c920aad1-1345-4113-91da-3e5e10edb57d",
   "metadata": {},
   "outputs": [],
   "source": [
    "query = [1, 2]\n",
    "key = [2, 4]\n",
    "value = [3, 5]"
   ]
  },
  {
   "cell_type": "code",
   "execution_count": 113,
   "id": "f7232aba-256d-4291-bdfa-6d74e1c5c5f8",
   "metadata": {},
   "outputs": [
    {
     "data": {
      "text/plain": [
       "tensor([0, 2, 4, 6])"
      ]
     },
     "execution_count": 113,
     "metadata": {},
     "output_type": "execute_result"
    }
   ],
   "source": [
    "torch.arange(0, 8, 2)"
   ]
  },
  {
   "cell_type": "code",
   "execution_count": 122,
   "id": "c47bf969-e6e0-443d-aa92-05313ec896a2",
   "metadata": {},
   "outputs": [
    {
     "data": {
      "text/plain": [
       "array([2, 5])"
      ]
     },
     "execution_count": 122,
     "metadata": {},
     "output_type": "execute_result"
    }
   ],
   "source": [
    "np.random.permutation([2, 5])"
   ]
  },
  {
   "cell_type": "code",
   "execution_count": null,
   "id": "61430d5c-6cfd-4a69-ab93-10096b7a5882",
   "metadata": {},
   "outputs": [],
   "source": []
  },
  {
   "cell_type": "code",
   "execution_count": 39,
   "id": "023d5539-00c6-4e34-935c-0fccbbcfc679",
   "metadata": {},
   "outputs": [],
   "source": [
    "tens1 = torch.rand(2, 3, 4, 4)\n",
    "tens2 = torch.randint(10, (4, 2, 3))"
   ]
  },
  {
   "cell_type": "code",
   "execution_count": 40,
   "id": "8cb8eab8-b97e-4212-bf5a-80fc44ef8b05",
   "metadata": {},
   "outputs": [
    {
     "data": {
      "text/plain": [
       "tensor([[[[0.7623, 0.8450, 0.3682, 0.6576],\n",
       "          [0.9663, 0.5621, 0.8374, 0.5769],\n",
       "          [0.4835, 0.0790, 0.6344, 0.3626],\n",
       "          [0.4561, 0.6238, 0.3120, 0.8371]],\n",
       "\n",
       "         [[0.8442, 0.6722, 0.8046, 0.3118],\n",
       "          [0.2308, 0.3600, 0.2550, 0.9474],\n",
       "          [0.5318, 0.6913, 0.8854, 0.1981],\n",
       "          [0.0054, 0.0419, 0.0806, 0.0649]],\n",
       "\n",
       "         [[0.8957, 0.9161, 0.2589, 0.9291],\n",
       "          [0.7460, 0.7448, 0.5106, 0.8558],\n",
       "          [0.8403, 0.6256, 0.7644, 0.7588],\n",
       "          [0.9533, 0.5586, 0.2438, 0.8019]]],\n",
       "\n",
       "\n",
       "        [[[0.7899, 0.5312, 0.0525, 0.2539],\n",
       "          [0.3274, 0.7521, 0.6769, 0.0284],\n",
       "          [0.4078, 0.1044, 0.9185, 0.6738],\n",
       "          [0.5765, 0.8693, 0.8912, 0.5624]],\n",
       "\n",
       "         [[0.3052, 0.7401, 0.5834, 0.4826],\n",
       "          [0.7597, 0.4807, 0.9562, 0.4233],\n",
       "          [0.3731, 0.7180, 0.8609, 0.5208],\n",
       "          [0.4574, 0.6568, 0.1493, 0.1426]],\n",
       "\n",
       "         [[0.9422, 0.5193, 0.8503, 0.7638],\n",
       "          [0.5910, 0.5961, 0.5622, 0.4374],\n",
       "          [0.4099, 0.3272, 0.4633, 0.9013],\n",
       "          [0.8687, 0.2425, 0.9371, 0.0402]]]])"
      ]
     },
     "execution_count": 40,
     "metadata": {},
     "output_type": "execute_result"
    }
   ],
   "source": [
    "tens1"
   ]
  },
  {
   "cell_type": "code",
   "execution_count": 41,
   "id": "8fe2cff3-6602-4adc-b199-43fee7520568",
   "metadata": {},
   "outputs": [
    {
     "data": {
      "text/plain": [
       "4"
      ]
     },
     "execution_count": 41,
     "metadata": {},
     "output_type": "execute_result"
    }
   ],
   "source": [
    "d = tens1.size(-1)\n",
    "d"
   ]
  },
  {
   "cell_type": "code",
   "execution_count": 42,
   "id": "1d1a5365-a4dd-4dec-8257-55c7906ff739",
   "metadata": {},
   "outputs": [],
   "source": [
    "inds = torch.triu_indices(d, d, offset = 1)"
   ]
  },
  {
   "cell_type": "code",
   "execution_count": 43,
   "id": "8bfc6050-e23d-4f3f-91d4-829516b140d5",
   "metadata": {},
   "outputs": [],
   "source": [
    "tens1[..., inds[0], inds[1]] = -float('inf')"
   ]
  },
  {
   "cell_type": "code",
   "execution_count": 44,
   "id": "6b62cb34-6dc5-44c0-a1ab-8ba70f570136",
   "metadata": {},
   "outputs": [
    {
     "data": {
      "text/plain": [
       "tensor([[[[0.7623,   -inf,   -inf,   -inf],\n",
       "          [0.9663, 0.5621,   -inf,   -inf],\n",
       "          [0.4835, 0.0790, 0.6344,   -inf],\n",
       "          [0.4561, 0.6238, 0.3120, 0.8371]],\n",
       "\n",
       "         [[0.8442,   -inf,   -inf,   -inf],\n",
       "          [0.2308, 0.3600,   -inf,   -inf],\n",
       "          [0.5318, 0.6913, 0.8854,   -inf],\n",
       "          [0.0054, 0.0419, 0.0806, 0.0649]],\n",
       "\n",
       "         [[0.8957,   -inf,   -inf,   -inf],\n",
       "          [0.7460, 0.7448,   -inf,   -inf],\n",
       "          [0.8403, 0.6256, 0.7644,   -inf],\n",
       "          [0.9533, 0.5586, 0.2438, 0.8019]]],\n",
       "\n",
       "\n",
       "        [[[0.7899,   -inf,   -inf,   -inf],\n",
       "          [0.3274, 0.7521,   -inf,   -inf],\n",
       "          [0.4078, 0.1044, 0.9185,   -inf],\n",
       "          [0.5765, 0.8693, 0.8912, 0.5624]],\n",
       "\n",
       "         [[0.3052,   -inf,   -inf,   -inf],\n",
       "          [0.7597, 0.4807,   -inf,   -inf],\n",
       "          [0.3731, 0.7180, 0.8609,   -inf],\n",
       "          [0.4574, 0.6568, 0.1493, 0.1426]],\n",
       "\n",
       "         [[0.9422,   -inf,   -inf,   -inf],\n",
       "          [0.5910, 0.5961,   -inf,   -inf],\n",
       "          [0.4099, 0.3272, 0.4633,   -inf],\n",
       "          [0.8687, 0.2425, 0.9371, 0.0402]]]])"
      ]
     },
     "execution_count": 44,
     "metadata": {},
     "output_type": "execute_result"
    }
   ],
   "source": [
    "tens1"
   ]
  },
  {
   "cell_type": "code",
   "execution_count": null,
   "id": "22e067e4-c27a-4fa6-94b5-93ca5a2d72f8",
   "metadata": {},
   "outputs": [],
   "source": [
    "torch.einsum('...td,...id->...ti', tens1, tens2)"
   ]
  },
  {
   "cell_type": "code",
   "execution_count": null,
   "id": "90804803-b4ce-4e90-a050-0fb44596b4b2",
   "metadata": {},
   "outputs": [],
   "source": [
    "rearrange(tens2, '... i j -> ... (i j)')"
   ]
  },
  {
   "cell_type": "code",
   "execution_count": 30,
   "id": "65bcc8ca-ade6-4980-a0b7-ca5e892c1a03",
   "metadata": {},
   "outputs": [
    {
     "data": {
      "text/plain": [
       "4"
      ]
     },
     "execution_count": 30,
     "metadata": {},
     "output_type": "execute_result"
    }
   ],
   "source": [
    "tens1.size(-1)"
   ]
  },
  {
   "cell_type": "code",
   "execution_count": 23,
   "id": "640bb055-0fb7-452e-b2d8-63b421d4cf03",
   "metadata": {},
   "outputs": [
    {
     "data": {
      "text/plain": [
       "tensor([[0, 0, 0, 0, 0, 1, 1, 1, 1, 2, 2, 2, 3, 3, 4],\n",
       "        [0, 1, 2, 3, 4, 1, 2, 3, 4, 2, 3, 4, 3, 4, 4]])"
      ]
     },
     "execution_count": 23,
     "metadata": {},
     "output_type": "execute_result"
    }
   ],
   "source": [
    "torch.triu_indices(5, 5, offset = 1)"
   ]
  },
  {
   "cell_type": "code",
   "execution_count": 59,
   "id": "66f19d68-2095-4758-bdca-38581ffb7a1f",
   "metadata": {},
   "outputs": [
    {
     "data": {
      "text/plain": [
       "(4, 5, 3, 2)"
      ]
     },
     "execution_count": 59,
     "metadata": {},
     "output_type": "execute_result"
    }
   ],
   "source": []
  },
  {
   "cell_type": "code",
   "execution_count": null,
   "id": "e00374e8-8797-45d2-b46b-a137c08eb00f",
   "metadata": {},
   "outputs": [],
   "source": []
  },
  {
   "cell_type": "code",
   "execution_count": null,
   "id": "cd5b2cef-3a13-4774-921f-4b4b763985a3",
   "metadata": {},
   "outputs": [],
   "source": []
  },
  {
   "cell_type": "code",
   "execution_count": null,
   "id": "66a82cfc-b8dc-4dea-8321-c045b439f301",
   "metadata": {},
   "outputs": [],
   "source": []
  },
  {
   "cell_type": "code",
   "execution_count": 37,
   "id": "45f05521-25c5-42e0-8b4e-0675e246b22e",
   "metadata": {},
   "outputs": [
    {
     "data": {
      "text/plain": [
       "tensor([[[7, 4],\n",
       "         [6, 8],\n",
       "         [6, 9]],\n",
       "\n",
       "        [[6, 4],\n",
       "         [5, 5],\n",
       "         [3, 5]],\n",
       "\n",
       "        [[4, 7],\n",
       "         [1, 7],\n",
       "         [3, 2]],\n",
       "\n",
       "        [[3, 9],\n",
       "         [5, 9],\n",
       "         [6, 2]]])"
      ]
     },
     "execution_count": 37,
     "metadata": {},
     "output_type": "execute_result"
    }
   ],
   "source": [
    "tempo = torch.einsum('...ij->...ji', tens2)\n",
    "tempo"
   ]
  },
  {
   "cell_type": "code",
   "execution_count": 39,
   "id": "80b170dd-d592-415b-bfc5-78788d83940a",
   "metadata": {},
   "outputs": [
    {
     "data": {
      "text/plain": [
       "tensor([[[ 86,  72],\n",
       "         [136, 169]],\n",
       "\n",
       "        [[ 91,  89],\n",
       "         [ 75,  67]],\n",
       "\n",
       "        [[ 66, 121],\n",
       "         [ 46, 105]],\n",
       "\n",
       "        [[ 66, 130],\n",
       "         [ 78, 118]]])"
      ]
     },
     "execution_count": 39,
     "metadata": {},
     "output_type": "execute_result"
    }
   ],
   "source": [
    "torch.einsum('...ij,...jk->...ik', tens1, tempo)"
   ]
  },
  {
   "cell_type": "code",
   "execution_count": 40,
   "id": "897e4329-2c5a-4a4f-9186-884485dbe2d4",
   "metadata": {},
   "outputs": [
    {
     "data": {
      "text/plain": [
       "tensor([[[ 86,  72],\n",
       "         [136, 169]],\n",
       "\n",
       "        [[ 91,  89],\n",
       "         [ 75,  67]],\n",
       "\n",
       "        [[ 66, 121],\n",
       "         [ 46, 105]],\n",
       "\n",
       "        [[ 66, 130],\n",
       "         [ 78, 118]]])"
      ]
     },
     "execution_count": 40,
     "metadata": {},
     "output_type": "execute_result"
    }
   ],
   "source": [
    "torch.einsum('...ij,...kj->...ik', tens1, tens2)"
   ]
  },
  {
   "cell_type": "code",
   "execution_count": null,
   "id": "5996d055-aba9-46cb-9960-5d90082ce484",
   "metadata": {},
   "outputs": [],
   "source": []
  },
  {
   "cell_type": "code",
   "execution_count": null,
   "id": "ed02d1d7-9af4-41a4-87e7-691a562790f7",
   "metadata": {},
   "outputs": [],
   "source": []
  },
  {
   "cell_type": "code",
   "execution_count": null,
   "id": "a61c58e8-c8bf-41cb-8ba9-489aea4ace80",
   "metadata": {},
   "outputs": [],
   "source": []
  },
  {
   "cell_type": "markdown",
   "id": "98c0aba2-0901-41be-9082-b8b736074235",
   "metadata": {},
   "source": [
    "# Old"
   ]
  },
  {
   "cell_type": "code",
   "execution_count": 9,
   "id": "d6c5b90d-caae-4ed2-b214-4140c179e2ca",
   "metadata": {},
   "outputs": [],
   "source": [
    "class Conv1d_layer(nn.Module):\n",
    "    def __init__(self, ch_in, ch_out, word_length, ker = 3, padding = 1):\n",
    "        super().__init__()\n",
    "        self.conv = nn.Conv1d(ch_in, ch_out, ker, padding = padding)\n",
    "        self.ln = nn.LayerNorm(word_length)\n",
    "    \n",
    "    def forward(self, x):\n",
    "        x = self.conv(x)\n",
    "        x = self.ln(x)\n",
    "        x = F.relu(x)\n",
    "        return x"
   ]
  },
  {
   "cell_type": "code",
   "execution_count": 10,
   "id": "9cbc2d27-286f-4a0c-9158-c049b53f5319",
   "metadata": {},
   "outputs": [],
   "source": [
    "class Embedder(nn.Module):\n",
    "    def __init__(self, word_length, emb_layers, d_emb, emb_drop, seq_length):\n",
    "        super().__init__()\n",
    "        \n",
    "        net = []\n",
    "        for i in range(len(emb_layers) - 1):\n",
    "            net.append(Conv1d_layer(emb_layers[i], emb_layers[i + 1], word_length))\n",
    "        self.net = nn.Sequential(*net)\n",
    "                \n",
    "        self.out = nn.Linear(word_length * emb_layers[-1], d_emb)   \n",
    "        \n",
    "        self.d_emb = d_emb\n",
    "        self.sr_d_emb = np.sqrt(d_emb)\n",
    "        self.dropout = nn.Dropout(emb_drop)\n",
    "        self.seq_length = seq_length\n",
    "        self.pos_encode()\n",
    "        \n",
    "        self.net.apply(self.init_weights)\n",
    "        \n",
    "    def init_weights(self, m):\n",
    "        if isinstance(m, nn.Conv1d):\n",
    "            nn.init.kaiming_uniform_(m.weight, mode='fan_in', nonlinearity='relu')\n",
    "        \n",
    "    def pos_encode(self):\n",
    "        self.pe = torch.zeros(self.seq_length, self.d_emb)\n",
    "        pos = torch.arange(0, self.seq_length)\n",
    "        ii = torch.arange(0, self.d_emb, 2)\n",
    "        div_term = torch.exp(ii * -np.log(10000) / self.d_emb)\n",
    "        matrix = torch.einsum('i,j->ij', pos, div_term)\n",
    "        self.pe[:, 0::2] = torch.sin(matrix)\n",
    "        self.pe[:, 1::2] = torch.cos(matrix)\n",
    "        self.pe = self.pe.unsqueeze(0)\n",
    "        self.pe = self.pe.to(device)\n",
    "    \n",
    "    def forward(self, x):\n",
    "        x = rearrange(x, 'b s (i j) -> (b s) i j', i = 1)\n",
    "        # x = self.conv1(x)\n",
    "        # x = self.ln1(x)\n",
    "        # x = F.relu(x)\n",
    "        # x = self.conv2(x)\n",
    "        # x = self.ln2(x)\n",
    "        # x = F.relu(x)\n",
    "        # x = self.conv3(x)\n",
    "        x = self.net(x)\n",
    "        x = rearrange(x, '(b s) i j -> b s (i j)', s = self.seq_length)\n",
    "        x = self.out(x)\n",
    "        \n",
    "        # make embeddings relatively larger\n",
    "        x = x * self.sr_d_emb\n",
    "        #add constant to embedding\n",
    "        x = x + self.pe[:, :x.size(1)]\n",
    "        x = self.dropout(x)\n",
    "        return x"
   ]
  },
  {
   "cell_type": "code",
   "execution_count": 214,
   "id": "137f907f-bf5f-4fcc-8b88-07d365dd8e78",
   "metadata": {},
   "outputs": [],
   "source": [
    "class CBOWModeler(nn.Module):\n",
    "    def __init__(self, vocab_size, embedding_dim, context_size):\n",
    "        super(CBOWModeler, self).__init__()\n",
    "        self.embeddings = nn.Embedding(vocab_size, embedding_dim)\n",
    "        self.linear1 = nn.Linear(context_size*embedding_dim, 128)\n",
    "        self.linear2 = nn.Linear(128, vocab_size)\n",
    "        \n",
    "    def forward(self, x):\n",
    "        embeds = self.embeddings(x).view(1,-1)\n",
    "        output = self.linear1(embeds)\n",
    "        output = F.relu(output)\n",
    "        output = self.linear2(output)\n",
    "        log_probs = F.log_softmax(output, dim=1)\n",
    "        return log_probs"
   ]
  },
  {
   "cell_type": "code",
   "execution_count": 11,
   "id": "eb11483e-74ef-4a19-be3b-1111067cc4ee",
   "metadata": {},
   "outputs": [],
   "source": [
    "# def create_masks(question, reply_input, reply_target):\n",
    "    \n",
    "#     def subsequent_mask(size):\n",
    "#         mask = torch.triu(torch.ones(size, size)).transpose(0, 1).type(dtype=torch.uint8)\n",
    "#         return mask.unsqueeze(0)\n",
    "    \n",
    "#     question_mask = question!=0\n",
    "#     question_mask = question_mask.to(device)\n",
    "#     question_mask = question_mask.unsqueeze(1).unsqueeze(1)         # (batch_size, 1, 1, max_words)\n",
    "     \n",
    "#     reply_input_mask = reply_input!=0\n",
    "#     reply_input_mask = reply_input_mask.unsqueeze(1)  # (batch_size, 1, max_words)\n",
    "#     reply_input_mask = reply_input_mask & subsequent_mask(reply_input.size(-1)).type_as(reply_input_mask.data) \n",
    "#     reply_input_mask = reply_input_mask.unsqueeze(1) # (batch_size, 1, max_words, max_words)\n",
    "#     reply_target_mask = reply_target!=0              # (batch_size, max_words)\n",
    "    \n",
    "#     return question_mask, reply_input_mask, reply_target_mask"
   ]
  },
  {
   "cell_type": "code",
   "execution_count": 19,
   "id": "698f6564-3916-4d41-a6a0-91c70bb191d4",
   "metadata": {},
   "outputs": [],
   "source": [
    "class Decoder(nn.Module):\n",
    "    def __init__(self, d_emb, hidden_mult, order, dec_drop):\n",
    "        super().__init__()\n",
    "        layers = []\n",
    "        for heads in heads_order:\n",
    "            layers.append(Decoder_layer(dec_drop, hidden_mult, d_emb, hidden_dim, heads))\n",
    "        self.layers = nn.Sequential(*layers)\n",
    "                \n",
    "    def forward(self, x):\n",
    "        x = self.layers(x)\n",
    "        return x"
   ]
  },
  {
   "cell_type": "code",
   "execution_count": 5,
   "id": "0dc3adb2-37af-42fc-b063-fef89a7e7e8c",
   "metadata": {},
   "outputs": [],
   "source": [
    "def create_char_dict():\n",
    "    i = 0\n",
    "    char_to_num = {}\n",
    "    num_to_char = {}\n",
    "    for c in range(48,58):\n",
    "        i += 1\n",
    "        num = (i + 4) / 44\n",
    "        char = chr(c)\n",
    "        char_to_num[char] = num\n",
    "        num_to_char[num] = char\n",
    "    for c in range(97, 123):\n",
    "        i += 1\n",
    "        num = (i + 4) / 44\n",
    "        char = chr(c)\n",
    "        char_to_num[char] = num\n",
    "        num_to_char[i] = char\n",
    "    return char_to_num, num_to_char\n",
    "\n",
    "def nums_to_word(word, num_to_char):\n",
    "    word_out = ''\n",
    "    for w in word:\n",
    "        letter = round(w * 44 - 4)\n",
    "        word_out += num_to_char.get(letter, '')\n",
    "    return word_out"
   ]
  },
  {
   "cell_type": "code",
   "execution_count": 6,
   "id": "c90ee69c-f2de-4387-acdb-bcd4bf0efce4",
   "metadata": {},
   "outputs": [],
   "source": [
    "def remove_punc(line):\n",
    "    pattern = re.compile('[^a-zA-Z0-9 ]+') \n",
    "    no_punct = pattern.sub('', line.strip())\n",
    "    return no_punct.lower()\n",
    "\n",
    "def get_data_from_file(file_name, word_length, char_to_num):\n",
    "    words = []\n",
    "    with open(file_name, 'r') as f:\n",
    "        for line in f:\n",
    "            l = remove_punc(line)\n",
    "            words.extend(l.split())\n",
    "    data = []\n",
    "    it = iter(words)\n",
    "    while True:\n",
    "        try:\n",
    "            word = next(it)\n",
    "        except StopIteration:\n",
    "            break\n",
    "        w = np.zeros(word_length)\n",
    "        for i, char in enumerate(word[:word_length]):\n",
    "            w[i] = char_to_num[char]\n",
    "        data.append(w)\n",
    "    return np.asarray(data)\n",
    "\n",
    "def get_data_from_line(line, word_length, char_to_num):\n",
    "    words = remove_punc(line).split()\n",
    "    data = []\n",
    "    it = iter(words)\n",
    "    while True:\n",
    "        try:\n",
    "            word = next(it)\n",
    "        except StopIteration:\n",
    "            break\n",
    "        w = np.zeros(word_length)\n",
    "        for i, char in enumerate(word[:word_length]):\n",
    "            w[i] = char_to_num[char]\n",
    "        data.append(w)\n",
    "    return np.asarray(data)\n",
    "\n",
    "def data_to_line(line, num_to_char):\n",
    "    line_out = ''\n",
    "    for word in line:\n",
    "        word_out = nums_to_word(word, num_to_char)\n",
    "        line_out = line_out + word_out + ' '\n",
    "    return line_out"
   ]
  },
  {
   "cell_type": "code",
   "execution_count": 7,
   "id": "a68acb0b-bee1-4772-a77d-8ead9d0cc8f1",
   "metadata": {},
   "outputs": [],
   "source": [
    "def encode_question(words, word_map, max_len):\n",
    "    enc_c = [word_map.get(word, word_map['<unk>']) for word in words] \\\n",
    "            + [word_map['<pad>']] * (max_len - len(words))\n",
    "    return enc_c\n",
    "\n",
    "def encode_reply(words, word_map, max_len):\n",
    "    enc_c = [word_map['<start>']] + [word_map.get(word, word_map['<unk>']) for word in words] \\\n",
    "            + [word_map['<end>']] + [word_map['<pad>']] * (max_len - len(words) - 1)\n",
    "    # enc_c = [word_map['<start>']] + [word_map.get(word, word_map['<unk>']) for word in words] \\\n",
    "    #         + [word_map['<end>']] + [word_map['<pad>']] * (max_len - len(words))\n",
    "    return enc_c"
   ]
  },
  {
   "cell_type": "code",
   "execution_count": 8,
   "id": "de96e5f5-fe9d-4535-bee4-521d993fc3ee",
   "metadata": {},
   "outputs": [],
   "source": [
    "def set_dropout(model, drop_rate):\n",
    "    for name, child in model.named_children():\n",
    "        if isinstance(child, torch.nn.Dropout):\n",
    "            child.p = drop_rate\n",
    "        set_dropout(child, drop_rate = drop_rate)"
   ]
  },
  {
   "cell_type": "code",
   "execution_count": 9,
   "id": "7ee9854a-447f-4f44-9fd4-55ba6c4a468c",
   "metadata": {},
   "outputs": [],
   "source": [
    "def plot_loss(loss):\n",
    "    plt.plot(loss)\n",
    "    plt.xlabel('epochs', fontsize=20)\n",
    "    plt.ylabel('loss', fontsize=20)\n",
    "    plt.show()"
   ]
  }
 ],
 "metadata": {
  "kernelspec": {
   "display_name": "Python 3",
   "language": "python",
   "name": "python3"
  },
  "language_info": {
   "codemirror_mode": {
    "name": "ipython",
    "version": 3
   },
   "file_extension": ".py",
   "mimetype": "text/x-python",
   "name": "python",
   "nbconvert_exporter": "python",
   "pygments_lexer": "ipython3",
   "version": "3.8.8"
  }
 },
 "nbformat": 4,
 "nbformat_minor": 5
}
